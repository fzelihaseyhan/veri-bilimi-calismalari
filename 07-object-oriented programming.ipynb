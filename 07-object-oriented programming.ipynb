{
 "cells": [
  {
   "cell_type": "code",
   "execution_count": 1,
   "id": "d4b76cf0",
   "metadata": {},
   "outputs": [],
   "source": [
    "myList = list()"
   ]
  },
  {
   "cell_type": "code",
   "execution_count": 2,
   "id": "c48bc333",
   "metadata": {},
   "outputs": [
    {
     "data": {
      "text/plain": [
       "list"
      ]
     },
     "execution_count": 2,
     "metadata": {},
     "output_type": "execute_result"
    }
   ],
   "source": [
    "type(myList)"
   ]
  },
  {
   "cell_type": "markdown",
   "id": "814a2d7d",
   "metadata": {},
   "source": [
    "# instace & attribute"
   ]
  },
  {
   "cell_type": "code",
   "execution_count": 3,
   "id": "329f8e1c",
   "metadata": {},
   "outputs": [],
   "source": [
    "def __init__():\n",
    "    print(\"init çağırıldı\")              \n",
    "        \n",
    "    "
   ]
  },
  {
   "cell_type": "code",
   "execution_count": 4,
   "id": "d7e14a9e",
   "metadata": {},
   "outputs": [],
   "source": [
    "class SuperKahraman():\n",
    "    \n",
    "    ozelGuc = \"Gorunmezlik\"\n",
    "    \n",
    "    def __init__(self,isim,yas,meslek):\n",
    "        print(\"init çağırıldı\")\n",
    "        self.isim = isim\n",
    "        self.yas = yas\n",
    "        self.meslek = meslek\n",
    "        \n",
    "    def karakterTanıtım(self):\n",
    "        print(f\"Ben: {self.isim}  Meslegim: {self.meslek}  Yasim: {self.yas}\")\n",
    "        "
   ]
  },
  {
   "cell_type": "code",
   "execution_count": 5,
   "id": "2f310fd1",
   "metadata": {},
   "outputs": [
    {
     "name": "stdout",
     "output_type": "stream",
     "text": [
      "init çağırıldı\n"
     ]
    }
   ],
   "source": [
    "superman = SuperKahraman(\"Superman\",30,\"Gazeteci\")"
   ]
  },
  {
   "cell_type": "code",
   "execution_count": 6,
   "id": "e29aedf5",
   "metadata": {},
   "outputs": [
    {
     "name": "stdout",
     "output_type": "stream",
     "text": [
      "Ben: Superman  Meslegim: Gazeteci  Yasim: 30\n"
     ]
    }
   ],
   "source": [
    "superman.karakterTanıtım()"
   ]
  },
  {
   "cell_type": "code",
   "execution_count": 7,
   "id": "ee4f021c",
   "metadata": {},
   "outputs": [
    {
     "data": {
      "text/plain": [
       "'Gorunmezlik'"
      ]
     },
     "execution_count": 7,
     "metadata": {},
     "output_type": "execute_result"
    }
   ],
   "source": [
    "superman.ozelGuc"
   ]
  },
  {
   "cell_type": "code",
   "execution_count": 8,
   "id": "4608a8f0",
   "metadata": {},
   "outputs": [],
   "source": [
    "superman.isim = \"Clark Kent\"\n"
   ]
  },
  {
   "cell_type": "code",
   "execution_count": 9,
   "id": "1a386f44",
   "metadata": {},
   "outputs": [
    {
     "data": {
      "text/plain": [
       "'Clark Kent'"
      ]
     },
     "execution_count": 9,
     "metadata": {},
     "output_type": "execute_result"
    }
   ],
   "source": [
    "superman.isim"
   ]
  },
  {
   "cell_type": "code",
   "execution_count": 10,
   "id": "c3a262ba",
   "metadata": {},
   "outputs": [
    {
     "data": {
      "text/plain": [
       "30"
      ]
     },
     "execution_count": 10,
     "metadata": {},
     "output_type": "execute_result"
    }
   ],
   "source": [
    "superman.yas"
   ]
  },
  {
   "cell_type": "code",
   "execution_count": 11,
   "id": "6178963c",
   "metadata": {},
   "outputs": [],
   "source": [
    "superman.ozelGuc = \"uçabiliyor\""
   ]
  },
  {
   "cell_type": "code",
   "execution_count": 12,
   "id": "71f3ab3c",
   "metadata": {},
   "outputs": [
    {
     "data": {
      "text/plain": [
       "'uçabiliyor'"
      ]
     },
     "execution_count": 12,
     "metadata": {},
     "output_type": "execute_result"
    }
   ],
   "source": [
    "superman.ozelGuc"
   ]
  },
  {
   "cell_type": "code",
   "execution_count": 13,
   "id": "0bc1c745",
   "metadata": {},
   "outputs": [
    {
     "name": "stdout",
     "output_type": "stream",
     "text": [
      "Ben: Clark Kent  Meslegim: Gazeteci  Yasim: 30\n"
     ]
    }
   ],
   "source": [
    "superman.karakterTanıtım()"
   ]
  },
  {
   "cell_type": "code",
   "execution_count": 14,
   "id": "9063efb0",
   "metadata": {},
   "outputs": [],
   "source": [
    "class Kopek():\n",
    "    kopekYasi = 2\n",
    "    def __init__(self,yas):\n",
    "        self.yas = yas\n",
    "        self.kopekYasi = self.yas *7\n",
    "       \n",
    "       "
   ]
  },
  {
   "cell_type": "code",
   "execution_count": 15,
   "id": "341c99d0",
   "metadata": {},
   "outputs": [],
   "source": [
    "benimKopek = Kopek(3)"
   ]
  },
  {
   "cell_type": "code",
   "execution_count": 16,
   "id": "994ac162",
   "metadata": {},
   "outputs": [
    {
     "data": {
      "text/plain": [
       "21"
      ]
     },
     "execution_count": 16,
     "metadata": {},
     "output_type": "execute_result"
    }
   ],
   "source": [
    "benimKopek.kopekYasi"
   ]
  },
  {
   "cell_type": "code",
   "execution_count": 17,
   "id": "76e78042",
   "metadata": {},
   "outputs": [],
   "source": [
    "golden = Kopek(3)"
   ]
  },
  {
   "cell_type": "code",
   "execution_count": 18,
   "id": "849fb508",
   "metadata": {},
   "outputs": [
    {
     "data": {
      "text/plain": [
       "21"
      ]
     },
     "execution_count": 18,
     "metadata": {},
     "output_type": "execute_result"
    }
   ],
   "source": [
    "golden.kopekYasi"
   ]
  },
  {
   "cell_type": "markdown",
   "id": "399b9023",
   "metadata": {},
   "source": [
    "# inheritance"
   ]
  },
  {
   "cell_type": "code",
   "execution_count": 19,
   "id": "d38f31c8",
   "metadata": {},
   "outputs": [],
   "source": [
    "class Hayvan ():\n",
    "    def __init__(self):\n",
    "        print(\"hayvan sınıfı init çağırıldı \")\n",
    "        \n",
    "    def method1 (self):\n",
    "        print(\"hayvan sınıfı method1 çağırıldı\")\n",
    "        \n",
    "    def method2 (self):\n",
    "        print(\"hayvan sınıfı method2 çağırıldı\")"
   ]
  },
  {
   "cell_type": "code",
   "execution_count": 20,
   "id": "ccfa7e37",
   "metadata": {},
   "outputs": [
    {
     "name": "stdout",
     "output_type": "stream",
     "text": [
      "hayvan sınıfı init çağırıldı \n"
     ]
    }
   ],
   "source": [
    "benimHayvanım = Hayvan()"
   ]
  },
  {
   "cell_type": "code",
   "execution_count": 21,
   "id": "661c1ebe",
   "metadata": {},
   "outputs": [
    {
     "name": "stdout",
     "output_type": "stream",
     "text": [
      "hayvan sınıfı method1 çağırıldı\n"
     ]
    }
   ],
   "source": [
    "benimHayvanım.method1()"
   ]
  },
  {
   "cell_type": "code",
   "execution_count": 22,
   "id": "b64667c5",
   "metadata": {},
   "outputs": [
    {
     "name": "stdout",
     "output_type": "stream",
     "text": [
      "hayvan sınıfı method2 çağırıldı\n"
     ]
    }
   ],
   "source": [
    "benimHayvanım.method2()"
   ]
  },
  {
   "cell_type": "code",
   "execution_count": 23,
   "id": "f6beed96",
   "metadata": {},
   "outputs": [],
   "source": [
    "class Kedi(Hayvan):\n",
    "    def __init__(self):\n",
    "        Hayvan.__init__(self)\n",
    "        print(\"kedi sınıfı init çağırıldı\")\n",
    "        \n",
    "    def miyavla(self):\n",
    "        print(\"miyav\")\n",
    "    \n",
    "    # override        \n",
    "    def method1(self):\n",
    "        print(\"kedi sınıfındaki method1 çağırıldı\")"
   ]
  },
  {
   "cell_type": "code",
   "execution_count": 24,
   "id": "0d9442d4",
   "metadata": {},
   "outputs": [
    {
     "name": "stdout",
     "output_type": "stream",
     "text": [
      "hayvan sınıfı init çağırıldı \n",
      "kedi sınıfı init çağırıldı\n"
     ]
    }
   ],
   "source": [
    "benimKedi = Kedi()"
   ]
  },
  {
   "cell_type": "code",
   "execution_count": 25,
   "id": "c0fa3dd4",
   "metadata": {},
   "outputs": [
    {
     "name": "stdout",
     "output_type": "stream",
     "text": [
      "kedi sınıfındaki method1 çağırıldı\n"
     ]
    }
   ],
   "source": [
    "benimKedi.method1()"
   ]
  },
  {
   "cell_type": "code",
   "execution_count": 26,
   "id": "e2a92fb4",
   "metadata": {},
   "outputs": [
    {
     "name": "stdout",
     "output_type": "stream",
     "text": [
      "miyav\n"
     ]
    }
   ],
   "source": [
    "benimKedi.miyavla()"
   ]
  },
  {
   "cell_type": "code",
   "execution_count": 27,
   "id": "92567f56",
   "metadata": {},
   "outputs": [
    {
     "name": "stdout",
     "output_type": "stream",
     "text": [
      "hayvan sınıfı init çağırıldı \n",
      "kedi sınıfı init çağırıldı\n"
     ]
    }
   ],
   "source": [
    "digerKedi = Kedi()"
   ]
  },
  {
   "cell_type": "code",
   "execution_count": 28,
   "id": "55bd3970",
   "metadata": {},
   "outputs": [
    {
     "name": "stdout",
     "output_type": "stream",
     "text": [
      "kedi sınıfındaki method1 çağırıldı\n"
     ]
    }
   ],
   "source": [
    "digerKedi.method1()"
   ]
  },
  {
   "cell_type": "markdown",
   "id": "1b8f1011",
   "metadata": {},
   "source": [
    "# Polymorphism"
   ]
  },
  {
   "cell_type": "code",
   "execution_count": 29,
   "id": "31219b01",
   "metadata": {},
   "outputs": [],
   "source": [
    "class Elma():\n",
    "    def __init__(self,isim):\n",
    "        self.isim = isim\n",
    "    \n",
    "    def bilgiVer (self):\n",
    "        return self.isim + \" 100 kaloridir\""
   ]
  },
  {
   "cell_type": "code",
   "execution_count": 30,
   "id": "da6e6398",
   "metadata": {},
   "outputs": [],
   "source": [
    "class Muz():\n",
    "    def __init__(self,isim):\n",
    "        self.isim = isim\n",
    "        \n",
    "    def bilgiVer(self):\n",
    "        return self.isim + \" 200 kaloridir\"\n",
    "    "
   ]
  },
  {
   "cell_type": "code",
   "execution_count": 31,
   "id": "a80ff3d6",
   "metadata": {},
   "outputs": [],
   "source": [
    "elma = Elma(\"elma\")"
   ]
  },
  {
   "cell_type": "code",
   "execution_count": 32,
   "id": "19a80b7a",
   "metadata": {},
   "outputs": [
    {
     "data": {
      "text/plain": [
       "'elma 100 kaloridir'"
      ]
     },
     "execution_count": 32,
     "metadata": {},
     "output_type": "execute_result"
    }
   ],
   "source": [
    "elma.bilgiVer()"
   ]
  },
  {
   "cell_type": "code",
   "execution_count": 33,
   "id": "0647fccd",
   "metadata": {},
   "outputs": [],
   "source": [
    "muz = Muz(\"muz\")"
   ]
  },
  {
   "cell_type": "code",
   "execution_count": 34,
   "id": "e43ec2e1",
   "metadata": {},
   "outputs": [
    {
     "data": {
      "text/plain": [
       "'muz 200 kaloridir'"
      ]
     },
     "execution_count": 34,
     "metadata": {},
     "output_type": "execute_result"
    }
   ],
   "source": [
    "muz.bilgiVer()"
   ]
  },
  {
   "cell_type": "code",
   "execution_count": 35,
   "id": "2b453adc",
   "metadata": {},
   "outputs": [],
   "source": [
    "meyveListesi = [elma , muz]"
   ]
  },
  {
   "cell_type": "code",
   "execution_count": 36,
   "id": "3eff35ec",
   "metadata": {},
   "outputs": [
    {
     "name": "stdout",
     "output_type": "stream",
     "text": [
      "elma 100 kaloridir\n",
      "muz 200 kaloridir\n"
     ]
    }
   ],
   "source": [
    "for meyve in meyveListesi:\n",
    "    print(meyve.bilgiVer())"
   ]
  },
  {
   "cell_type": "code",
   "execution_count": 37,
   "id": "8b5688aa",
   "metadata": {},
   "outputs": [],
   "source": [
    "def bilgiAl (meyve):\n",
    "    print(meyve.bilgiVer())"
   ]
  },
  {
   "cell_type": "code",
   "execution_count": 38,
   "id": "7c0bdeab",
   "metadata": {},
   "outputs": [
    {
     "name": "stdout",
     "output_type": "stream",
     "text": [
      "muz 200 kaloridir\n"
     ]
    }
   ],
   "source": [
    "bilgiAl(muz)"
   ]
  },
  {
   "cell_type": "code",
   "execution_count": 39,
   "id": "82ec246b",
   "metadata": {},
   "outputs": [
    {
     "name": "stdout",
     "output_type": "stream",
     "text": [
      "elma 100 kaloridir\n"
     ]
    }
   ],
   "source": [
    "bilgiAl(elma)"
   ]
  },
  {
   "cell_type": "markdown",
   "id": "16fc38d5",
   "metadata": {},
   "source": [
    "# Ozel methodlar"
   ]
  },
  {
   "cell_type": "code",
   "execution_count": 40,
   "id": "579ea257",
   "metadata": {},
   "outputs": [],
   "source": [
    "class Meyve():\n",
    "    def __init__(self,isim,kalori):\n",
    "        \n",
    "        self.isim  = isim\n",
    "        self.kalori = kalori        \n",
    "        \n",
    "    def __str__(self):\n",
    "        return f\"{self.isim} şu kadar kaloriye sahiptir:{self.kalori}\"\n",
    "    \n",
    "    def __len__(self):\n",
    "        return self.kalori\n",
    "        "
   ]
  },
  {
   "cell_type": "code",
   "execution_count": 41,
   "id": "63439d86",
   "metadata": {},
   "outputs": [],
   "source": [
    "muz = Meyve(\"muz\",130)\n"
   ]
  },
  {
   "cell_type": "code",
   "execution_count": 42,
   "id": "6975de44",
   "metadata": {},
   "outputs": [
    {
     "data": {
      "text/plain": [
       "'muz'"
      ]
     },
     "execution_count": 42,
     "metadata": {},
     "output_type": "execute_result"
    }
   ],
   "source": [
    "muz.isim "
   ]
  },
  {
   "cell_type": "code",
   "execution_count": 43,
   "id": "cfc2a1e9",
   "metadata": {},
   "outputs": [
    {
     "data": {
      "text/plain": [
       "130"
      ]
     },
     "execution_count": 43,
     "metadata": {},
     "output_type": "execute_result"
    }
   ],
   "source": [
    "muz.kalori"
   ]
  },
  {
   "cell_type": "code",
   "execution_count": 44,
   "id": "089f45bb",
   "metadata": {},
   "outputs": [
    {
     "name": "stdout",
     "output_type": "stream",
     "text": [
      "muz şu kadar kaloriye sahiptir:130\n"
     ]
    }
   ],
   "source": [
    "print(muz)"
   ]
  },
  {
   "cell_type": "code",
   "execution_count": 45,
   "id": "be753ca9",
   "metadata": {},
   "outputs": [],
   "source": [
    "myList = [12,3,4,\"merthan\",5.5]"
   ]
  },
  {
   "cell_type": "code",
   "execution_count": 46,
   "id": "83743b36",
   "metadata": {},
   "outputs": [
    {
     "name": "stdout",
     "output_type": "stream",
     "text": [
      "[12, 3, 4, 'merthan', 5.5]\n"
     ]
    }
   ],
   "source": [
    "print(myList)"
   ]
  },
  {
   "cell_type": "code",
   "execution_count": 47,
   "id": "2295565d",
   "metadata": {},
   "outputs": [
    {
     "data": {
      "text/plain": [
       "5"
      ]
     },
     "execution_count": 47,
     "metadata": {},
     "output_type": "execute_result"
    }
   ],
   "source": [
    "len(myList)"
   ]
  },
  {
   "cell_type": "code",
   "execution_count": 48,
   "id": "e8fe5e6f",
   "metadata": {},
   "outputs": [
    {
     "data": {
      "text/plain": [
       "130"
      ]
     },
     "execution_count": 48,
     "metadata": {},
     "output_type": "execute_result"
    }
   ],
   "source": [
    " len (muz)"
   ]
  },
  {
   "cell_type": "code",
   "execution_count": 49,
   "id": "446b306e",
   "metadata": {},
   "outputs": [],
   "source": [
    "elma = Meyve(\"elma\",200)"
   ]
  },
  {
   "cell_type": "code",
   "execution_count": 50,
   "id": "e80b112e",
   "metadata": {},
   "outputs": [
    {
     "data": {
      "text/plain": [
       "200"
      ]
     },
     "execution_count": 50,
     "metadata": {},
     "output_type": "execute_result"
    }
   ],
   "source": [
    "len(elma)"
   ]
  },
  {
   "cell_type": "code",
   "execution_count": 51,
   "id": "f150f7b7",
   "metadata": {},
   "outputs": [
    {
     "name": "stdout",
     "output_type": "stream",
     "text": [
      "elma şu kadar kaloriye sahiptir:200\n"
     ]
    }
   ],
   "source": [
    "print(elma)"
   ]
  },
  {
   "cell_type": "markdown",
   "id": "433b7da7",
   "metadata": {},
   "source": [
    "# Hataları ele almak"
   ]
  },
  {
   "cell_type": "code",
   "execution_count": 52,
   "id": "70495a6f",
   "metadata": {},
   "outputs": [],
   "source": [
    "def Toplama (numara1,numara2):\n",
    "    return numara1 + numara2"
   ]
  },
  {
   "cell_type": "code",
   "execution_count": 53,
   "id": "6cafa933",
   "metadata": {},
   "outputs": [
    {
     "name": "stdout",
     "output_type": "stream",
     "text": [
      "Birinci sayı giriniz:15\n",
      "ikinci saıyı giriniz:121\n"
     ]
    },
    {
     "data": {
      "text/plain": [
       "136"
      ]
     },
     "execution_count": 53,
     "metadata": {},
     "output_type": "execute_result"
    }
   ],
   "source": [
    "numara1 = int(input(\"Birinci sayı giriniz:\"))\n",
    "numara2 = int(input(\"ikinci saıyı giriniz:\"))\n",
    "Toplama(numara1,numara2)"
   ]
  },
  {
   "cell_type": "code",
   "execution_count": null,
   "id": "59b006e0",
   "metadata": {},
   "outputs": [
    {
     "name": "stdout",
     "output_type": "stream",
     "text": [
      "sayı giriniz:36\n",
      "teşekkürler\n",
      "döngü bitti\n"
     ]
    }
   ],
   "source": [
    "while 1 :\n",
    "    try:\n",
    "        myInt = int(input(\"sayı giriniz:\"))\n",
    "    \n",
    "    except:\n",
    "        print(\"lütfen bir sayı giriniz.\")\n",
    "        \n",
    "    else:\n",
    "        print(\"teşekkürler\")\n",
    "    finally:\n",
    "        print(\"döngü bitti\")"
   ]
  },
  {
   "cell_type": "code",
   "execution_count": null,
   "id": "c2ec5706",
   "metadata": {},
   "outputs": [],
   "source": [
    "import numpy as np\n",
    "import matplotlib.pyplot as plt\n",
    "\n",
    "maasListesi = np.random.normal(4000,500,1000)\n",
    "np.mean(maasListesi)"
   ]
  },
  {
   "cell_type": "code",
   "execution_count": null,
   "id": "9680d784",
   "metadata": {},
   "outputs": [],
   "source": [
    "plt.hist(maasListesi,50)\n",
    "plt.show()"
   ]
  },
  {
   "cell_type": "code",
   "execution_count": null,
   "id": "af1332f0",
   "metadata": {},
   "outputs": [],
   "source": [
    "def ornekFonksiyon():\n",
    "    print"
   ]
  },
  {
   "cell_type": "code",
   "execution_count": null,
   "id": "1abfcc59",
   "metadata": {},
   "outputs": [],
   "source": []
  }
 ],
 "metadata": {
  "kernelspec": {
   "display_name": "Python 3 (ipykernel)",
   "language": "python",
   "name": "python3"
  },
  "language_info": {
   "codemirror_mode": {
    "name": "ipython",
    "version": 3
   },
   "file_extension": ".py",
   "mimetype": "text/x-python",
   "name": "python",
   "nbconvert_exporter": "python",
   "pygments_lexer": "ipython3",
   "version": "3.9.7"
  }
 },
 "nbformat": 4,
 "nbformat_minor": 5
}

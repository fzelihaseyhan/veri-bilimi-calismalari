{
 "cells": [
  {
   "cell_type": "code",
   "execution_count": 1,
   "id": "f5e04428",
   "metadata": {},
   "outputs": [],
   "source": [
    "import numpy as np\n",
    "import pandas as pd\n"
   ]
  },
  {
   "cell_type": "markdown",
   "id": "a02fe4cb",
   "metadata": {},
   "source": [
    "# Series"
   ]
  },
  {
   "cell_type": "code",
   "execution_count": 2,
   "id": "84e735dc",
   "metadata": {},
   "outputs": [],
   "source": [
    "myDict = {\"Zeliha\":20, \"Merthan\":29, \"Büsra\":60}"
   ]
  },
  {
   "cell_type": "code",
   "execution_count": 3,
   "id": "f4fbf332",
   "metadata": {},
   "outputs": [
    {
     "data": {
      "text/plain": [
       "Zeliha     20\n",
       "Merthan    29\n",
       "Büsra      60\n",
       "dtype: int64"
      ]
     },
     "execution_count": 3,
     "metadata": {},
     "output_type": "execute_result"
    }
   ],
   "source": [
    "pd.Series(myDict)"
   ]
  },
  {
   "cell_type": "code",
   "execution_count": 4,
   "id": "416307f5",
   "metadata": {},
   "outputs": [],
   "source": [
    "benimYaslarim = [\"Zeliha\", \"Merthan\", \"Büsra\",\"Firdevs\"]\n",
    "benimListem = [50,40,30,10]"
   ]
  },
  {
   "cell_type": "code",
   "execution_count": 5,
   "id": "91445334",
   "metadata": {},
   "outputs": [
    {
     "data": {
      "text/plain": [
       "0     Zeliha\n",
       "1    Merthan\n",
       "2      Büsra\n",
       "3    Firdevs\n",
       "dtype: object"
      ]
     },
     "execution_count": 5,
     "metadata": {},
     "output_type": "execute_result"
    }
   ],
   "source": [
    "pd.Series(benimYaslarim)"
   ]
  },
  {
   "cell_type": "code",
   "execution_count": 6,
   "id": "066caad3",
   "metadata": {},
   "outputs": [
    {
     "data": {
      "text/plain": [
       "50     Zeliha\n",
       "40    Merthan\n",
       "30      Büsra\n",
       "10    Firdevs\n",
       "dtype: object"
      ]
     },
     "execution_count": 6,
     "metadata": {},
     "output_type": "execute_result"
    }
   ],
   "source": [
    "pd.Series(benimYaslarim,benimListem)"
   ]
  },
  {
   "cell_type": "code",
   "execution_count": 7,
   "id": "53e27922",
   "metadata": {},
   "outputs": [
    {
     "data": {
      "text/plain": [
       "50     Zeliha\n",
       "40    Merthan\n",
       "30      Büsra\n",
       "10    Firdevs\n",
       "dtype: object"
      ]
     },
     "execution_count": 7,
     "metadata": {},
     "output_type": "execute_result"
    }
   ],
   "source": [
    "pd.Series(data = benimYaslarim, index=benimListem )"
   ]
  },
  {
   "cell_type": "code",
   "execution_count": 8,
   "id": "cd87f480",
   "metadata": {},
   "outputs": [],
   "source": [
    "numpyDizisi = np.array([50,40,30,20])"
   ]
  },
  {
   "cell_type": "code",
   "execution_count": 9,
   "id": "f71d49b4",
   "metadata": {},
   "outputs": [
    {
     "data": {
      "text/plain": [
       "0    50\n",
       "1    40\n",
       "2    30\n",
       "3    20\n",
       "dtype: int32"
      ]
     },
     "execution_count": 9,
     "metadata": {},
     "output_type": "execute_result"
    }
   ],
   "source": [
    "pd.Series(numpyDizisi)"
   ]
  },
  {
   "cell_type": "code",
   "execution_count": 10,
   "id": "f939617c",
   "metadata": {},
   "outputs": [
    {
     "data": {
      "text/plain": [
       "Zeliha     50\n",
       "Merthan    40\n",
       "Büsra      30\n",
       "Firdevs    20\n",
       "dtype: int32"
      ]
     },
     "execution_count": 10,
     "metadata": {},
     "output_type": "execute_result"
    }
   ],
   "source": [
    "pd.Series(numpyDizisi,benimYaslarim)"
   ]
  },
  {
   "cell_type": "code",
   "execution_count": 11,
   "id": "282ce7af",
   "metadata": {},
   "outputs": [
    {
     "data": {
      "text/plain": [
       "Zeliha     20\n",
       "Merthan    30\n",
       "Büsra      40\n",
       "Firdevs    50\n",
       "dtype: int64"
      ]
     },
     "execution_count": 11,
     "metadata": {},
     "output_type": "execute_result"
    }
   ],
   "source": [
    "pd.Series(data = [i for i in range(20,60,10)], index =benimYaslarim)"
   ]
  },
  {
   "cell_type": "code",
   "execution_count": 12,
   "id": "8b007aef",
   "metadata": {},
   "outputs": [
    {
     "data": {
      "text/plain": [
       "Zeliha     2\n",
       "Merthan    3\n",
       "Büsra      4\n",
       "dtype: int64"
      ]
     },
     "execution_count": 12,
     "metadata": {},
     "output_type": "execute_result"
    }
   ],
   "source": [
    "pd.Series(index = [\"Zeliha\",\"Merthan\", \"Büsra\"], data =[2,3,4])"
   ]
  },
  {
   "cell_type": "code",
   "execution_count": 13,
   "id": "59ca6d7c",
   "metadata": {},
   "outputs": [
    {
     "data": {
      "text/plain": [
       "Notlar    isimler\n",
       "40         Zeliha\n",
       "50        Merthan\n",
       "60          Büsra\n",
       "dtype: object"
      ]
     },
     "execution_count": 13,
     "metadata": {},
     "output_type": "execute_result"
    }
   ],
   "source": [
    "pd.Series([\"isimler\",\"Zeliha\",\"Merthan\", \"Büsra\"], [\"Notlar\",40,50,60])"
   ]
  },
  {
   "cell_type": "code",
   "execution_count": 14,
   "id": "d8adfc72",
   "metadata": {},
   "outputs": [],
   "source": [
    "yarismaSonucu1 = pd.Series([10,20,30,40],[benimYaslarim])"
   ]
  },
  {
   "cell_type": "code",
   "execution_count": 15,
   "id": "600ab662",
   "metadata": {},
   "outputs": [
    {
     "data": {
      "text/plain": [
       "Zeliha     10\n",
       "Merthan    20\n",
       "Büsra      30\n",
       "Firdevs    40\n",
       "dtype: int64"
      ]
     },
     "execution_count": 15,
     "metadata": {},
     "output_type": "execute_result"
    }
   ],
   "source": [
    "yarismaSonucu1"
   ]
  },
  {
   "cell_type": "code",
   "execution_count": 16,
   "id": "ee6922e5",
   "metadata": {},
   "outputs": [],
   "source": [
    " yarismaSonucu2 = pd.Series([80,90,100,95],[benimYaslarim])"
   ]
  },
  {
   "cell_type": "code",
   "execution_count": 17,
   "id": "01471836",
   "metadata": {},
   "outputs": [
    {
     "data": {
      "text/plain": [
       "Zeliha      80\n",
       "Merthan     90\n",
       "Büsra      100\n",
       "Firdevs     95\n",
       "dtype: int64"
      ]
     },
     "execution_count": 17,
     "metadata": {},
     "output_type": "execute_result"
    }
   ],
   "source": [
    "yarismaSonucu2"
   ]
  },
  {
   "cell_type": "code",
   "execution_count": 18,
   "id": "85851146",
   "metadata": {},
   "outputs": [
    {
     "data": {
      "text/plain": [
       "80"
      ]
     },
     "execution_count": 18,
     "metadata": {},
     "output_type": "execute_result"
    }
   ],
   "source": [
    "yarismaSonucu2[\"Zeliha\"]"
   ]
  },
  {
   "cell_type": "code",
   "execution_count": 19,
   "id": "ea3ffb7e",
   "metadata": {},
   "outputs": [],
   "source": [
    "sonSonuc = yarismaSonucu1 + yarismaSonucu2"
   ]
  },
  {
   "cell_type": "code",
   "execution_count": 20,
   "id": "e850da48",
   "metadata": {},
   "outputs": [
    {
     "data": {
      "text/plain": [
       "Zeliha      90\n",
       "Merthan    110\n",
       "Büsra      130\n",
       "Firdevs    135\n",
       "dtype: int64"
      ]
     },
     "execution_count": 20,
     "metadata": {},
     "output_type": "execute_result"
    }
   ],
   "source": [
    "sonSonuc"
   ]
  },
  {
   "cell_type": "code",
   "execution_count": 21,
   "id": "7ef20a2d",
   "metadata": {},
   "outputs": [],
   "source": [
    "farkliSeries = pd.Series([20,30,40],[\"a\",\"b\",\"c\"])"
   ]
  },
  {
   "cell_type": "code",
   "execution_count": 22,
   "id": "13dbbb35",
   "metadata": {},
   "outputs": [],
   "source": [
    "farkliSeries2 = pd.Series([10,20,50],[\"a\",\"c\",\"f\"])"
   ]
  },
  {
   "cell_type": "code",
   "execution_count": 23,
   "id": "bcfc795f",
   "metadata": {},
   "outputs": [],
   "source": [
    "sonucSeries = farkliSeries + farkliSeries2"
   ]
  },
  {
   "cell_type": "code",
   "execution_count": 24,
   "id": "b7e66da3",
   "metadata": {},
   "outputs": [
    {
     "data": {
      "text/plain": [
       "a    30.0\n",
       "b     NaN\n",
       "c    60.0\n",
       "f     NaN\n",
       "dtype: float64"
      ]
     },
     "execution_count": 24,
     "metadata": {},
     "output_type": "execute_result"
    }
   ],
   "source": [
    "sonucSeries"
   ]
  },
  {
   "cell_type": "markdown",
   "id": "b6fd5ffb",
   "metadata": {},
   "source": [
    "# DataFrame"
   ]
  },
  {
   "cell_type": "code",
   "execution_count": 25,
   "id": "c0d5fa79",
   "metadata": {},
   "outputs": [],
   "source": [
    "import numpy as np\n",
    "import pandas as pd"
   ]
  },
  {
   "cell_type": "code",
   "execution_count": 26,
   "id": "c2fd9575",
   "metadata": {},
   "outputs": [],
   "source": [
    "data = np.random.randn(3,3) # 3*3'lük random matris"
   ]
  },
  {
   "cell_type": "code",
   "execution_count": 27,
   "id": "43023649",
   "metadata": {},
   "outputs": [
    {
     "data": {
      "text/plain": [
       "array([[ 0.01804187,  0.39127544, -0.53137551],\n",
       "       [-0.37100382,  1.70232649, -0.03173748],\n",
       "       [ 0.85944865,  0.26789093, -0.55723867]])"
      ]
     },
     "execution_count": 27,
     "metadata": {},
     "output_type": "execute_result"
    }
   ],
   "source": [
    "data"
   ]
  },
  {
   "cell_type": "code",
   "execution_count": 28,
   "id": "f07f00d8",
   "metadata": {},
   "outputs": [],
   "source": [
    "dataFrame = pd.DataFrame(data)"
   ]
  },
  {
   "cell_type": "code",
   "execution_count": 29,
   "id": "05941a54",
   "metadata": {},
   "outputs": [
    {
     "data": {
      "text/html": [
       "<div>\n",
       "<style scoped>\n",
       "    .dataframe tbody tr th:only-of-type {\n",
       "        vertical-align: middle;\n",
       "    }\n",
       "\n",
       "    .dataframe tbody tr th {\n",
       "        vertical-align: top;\n",
       "    }\n",
       "\n",
       "    .dataframe thead th {\n",
       "        text-align: right;\n",
       "    }\n",
       "</style>\n",
       "<table border=\"1\" class=\"dataframe\">\n",
       "  <thead>\n",
       "    <tr style=\"text-align: right;\">\n",
       "      <th></th>\n",
       "      <th>0</th>\n",
       "      <th>1</th>\n",
       "      <th>2</th>\n",
       "    </tr>\n",
       "  </thead>\n",
       "  <tbody>\n",
       "    <tr>\n",
       "      <th>0</th>\n",
       "      <td>0.018042</td>\n",
       "      <td>0.391275</td>\n",
       "      <td>-0.531376</td>\n",
       "    </tr>\n",
       "    <tr>\n",
       "      <th>1</th>\n",
       "      <td>-0.371004</td>\n",
       "      <td>1.702326</td>\n",
       "      <td>-0.031737</td>\n",
       "    </tr>\n",
       "    <tr>\n",
       "      <th>2</th>\n",
       "      <td>0.859449</td>\n",
       "      <td>0.267891</td>\n",
       "      <td>-0.557239</td>\n",
       "    </tr>\n",
       "  </tbody>\n",
       "</table>\n",
       "</div>"
      ],
      "text/plain": [
       "          0         1         2\n",
       "0  0.018042  0.391275 -0.531376\n",
       "1 -0.371004  1.702326 -0.031737\n",
       "2  0.859449  0.267891 -0.557239"
      ]
     },
     "execution_count": 29,
     "metadata": {},
     "output_type": "execute_result"
    }
   ],
   "source": [
    "dataFrame"
   ]
  },
  {
   "cell_type": "code",
   "execution_count": 30,
   "id": "ce490065",
   "metadata": {},
   "outputs": [
    {
     "data": {
      "text/plain": [
       "pandas.core.frame.DataFrame"
      ]
     },
     "execution_count": 30,
     "metadata": {},
     "output_type": "execute_result"
    }
   ],
   "source": [
    "type(dataFrame)"
   ]
  },
  {
   "cell_type": "code",
   "execution_count": 31,
   "id": "9e79cee7",
   "metadata": {},
   "outputs": [
    {
     "data": {
      "text/plain": [
       "0    0.391275\n",
       "1    1.702326\n",
       "2    0.267891\n",
       "Name: 1, dtype: float64"
      ]
     },
     "execution_count": 31,
     "metadata": {},
     "output_type": "execute_result"
    }
   ],
   "source": [
    "dataFrame[1]  #sütun 1'i alır      "
   ]
  },
  {
   "cell_type": "code",
   "execution_count": 32,
   "id": "3907f1ca",
   "metadata": {},
   "outputs": [
    {
     "data": {
      "text/plain": [
       "0   -0.371004\n",
       "1    1.702326\n",
       "2   -0.031737\n",
       "Name: 1, dtype: float64"
      ]
     },
     "execution_count": 32,
     "metadata": {},
     "output_type": "execute_result"
    }
   ],
   "source": [
    "dataFrame.loc[1]  #satır 1'i alır"
   ]
  },
  {
   "cell_type": "code",
   "execution_count": 33,
   "id": "41dbbccc",
   "metadata": {},
   "outputs": [
    {
     "data": {
      "text/plain": [
       "0    0.018042\n",
       "1    0.391275\n",
       "2   -0.531376\n",
       "Name: 0, dtype: float64"
      ]
     },
     "execution_count": 33,
     "metadata": {},
     "output_type": "execute_result"
    }
   ],
   "source": [
    "dataFrame.iloc[0] "
   ]
  },
  {
   "cell_type": "code",
   "execution_count": 34,
   "id": "b507bc07",
   "metadata": {},
   "outputs": [],
   "source": [
    "newDataFrame = np.random.randn(4,4)"
   ]
  },
  {
   "cell_type": "code",
   "execution_count": 35,
   "id": "d7de553a",
   "metadata": {},
   "outputs": [
    {
     "data": {
      "text/plain": [
       "array([[-0.3169691 , -1.24582997,  0.71941427, -0.49892288],\n",
       "       [ 0.80340535, -1.2287983 ,  0.88102549,  0.16977698],\n",
       "       [ 0.18540308, -1.78461059, -1.61912936,  1.97387922],\n",
       "       [-0.16914304,  0.37278766, -0.28500272,  0.67295651]])"
      ]
     },
     "execution_count": 35,
     "metadata": {},
     "output_type": "execute_result"
    }
   ],
   "source": [
    "newDataFrame"
   ]
  },
  {
   "cell_type": "code",
   "execution_count": 36,
   "id": "8026a09c",
   "metadata": {},
   "outputs": [],
   "source": [
    "newDataFrame = pd.DataFrame(newDataFrame,index=[\"zeliha\",\"merthan\",\"firdevs\",\"büsra\"],columns= [\"mat\",\"fizik\",\"kimya\",\"genel\"])"
   ]
  },
  {
   "cell_type": "code",
   "execution_count": 37,
   "id": "ee22f9f8",
   "metadata": {},
   "outputs": [
    {
     "data": {
      "text/html": [
       "<div>\n",
       "<style scoped>\n",
       "    .dataframe tbody tr th:only-of-type {\n",
       "        vertical-align: middle;\n",
       "    }\n",
       "\n",
       "    .dataframe tbody tr th {\n",
       "        vertical-align: top;\n",
       "    }\n",
       "\n",
       "    .dataframe thead th {\n",
       "        text-align: right;\n",
       "    }\n",
       "</style>\n",
       "<table border=\"1\" class=\"dataframe\">\n",
       "  <thead>\n",
       "    <tr style=\"text-align: right;\">\n",
       "      <th></th>\n",
       "      <th>mat</th>\n",
       "      <th>fizik</th>\n",
       "      <th>kimya</th>\n",
       "      <th>genel</th>\n",
       "    </tr>\n",
       "  </thead>\n",
       "  <tbody>\n",
       "    <tr>\n",
       "      <th>zeliha</th>\n",
       "      <td>-0.316969</td>\n",
       "      <td>-1.245830</td>\n",
       "      <td>0.719414</td>\n",
       "      <td>-0.498923</td>\n",
       "    </tr>\n",
       "    <tr>\n",
       "      <th>merthan</th>\n",
       "      <td>0.803405</td>\n",
       "      <td>-1.228798</td>\n",
       "      <td>0.881025</td>\n",
       "      <td>0.169777</td>\n",
       "    </tr>\n",
       "    <tr>\n",
       "      <th>firdevs</th>\n",
       "      <td>0.185403</td>\n",
       "      <td>-1.784611</td>\n",
       "      <td>-1.619129</td>\n",
       "      <td>1.973879</td>\n",
       "    </tr>\n",
       "    <tr>\n",
       "      <th>büsra</th>\n",
       "      <td>-0.169143</td>\n",
       "      <td>0.372788</td>\n",
       "      <td>-0.285003</td>\n",
       "      <td>0.672957</td>\n",
       "    </tr>\n",
       "  </tbody>\n",
       "</table>\n",
       "</div>"
      ],
      "text/plain": [
       "              mat     fizik     kimya     genel\n",
       "zeliha  -0.316969 -1.245830  0.719414 -0.498923\n",
       "merthan  0.803405 -1.228798  0.881025  0.169777\n",
       "firdevs  0.185403 -1.784611 -1.619129  1.973879\n",
       "büsra   -0.169143  0.372788 -0.285003  0.672957"
      ]
     },
     "execution_count": 37,
     "metadata": {},
     "output_type": "execute_result"
    }
   ],
   "source": [
    "newDataFrame  # cloumns:kolon eklemek için"
   ]
  },
  {
   "cell_type": "code",
   "execution_count": 38,
   "id": "7a440197",
   "metadata": {},
   "outputs": [
    {
     "data": {
      "text/plain": [
       "zeliha    -0.316969\n",
       "merthan    0.803405\n",
       "firdevs    0.185403\n",
       "büsra     -0.169143\n",
       "Name: mat, dtype: float64"
      ]
     },
     "execution_count": 38,
     "metadata": {},
     "output_type": "execute_result"
    }
   ],
   "source": [
    "newDataFrame[\"mat\"]"
   ]
  },
  {
   "cell_type": "code",
   "execution_count": 39,
   "id": "19fbb51b",
   "metadata": {},
   "outputs": [
    {
     "data": {
      "text/plain": [
       "zeliha     0.719414\n",
       "merthan    0.881025\n",
       "firdevs   -1.619129\n",
       "büsra     -0.285003\n",
       "Name: kimya, dtype: float64"
      ]
     },
     "execution_count": 39,
     "metadata": {},
     "output_type": "execute_result"
    }
   ],
   "source": [
    "newDataFrame[\"kimya\"]"
   ]
  },
  {
   "cell_type": "code",
   "execution_count": 40,
   "id": "89f5e934",
   "metadata": {},
   "outputs": [
    {
     "data": {
      "text/html": [
       "<div>\n",
       "<style scoped>\n",
       "    .dataframe tbody tr th:only-of-type {\n",
       "        vertical-align: middle;\n",
       "    }\n",
       "\n",
       "    .dataframe tbody tr th {\n",
       "        vertical-align: top;\n",
       "    }\n",
       "\n",
       "    .dataframe thead th {\n",
       "        text-align: right;\n",
       "    }\n",
       "</style>\n",
       "<table border=\"1\" class=\"dataframe\">\n",
       "  <thead>\n",
       "    <tr style=\"text-align: right;\">\n",
       "      <th></th>\n",
       "      <th>kimya</th>\n",
       "      <th>fizik</th>\n",
       "    </tr>\n",
       "  </thead>\n",
       "  <tbody>\n",
       "    <tr>\n",
       "      <th>zeliha</th>\n",
       "      <td>0.719414</td>\n",
       "      <td>-1.245830</td>\n",
       "    </tr>\n",
       "    <tr>\n",
       "      <th>merthan</th>\n",
       "      <td>0.881025</td>\n",
       "      <td>-1.228798</td>\n",
       "    </tr>\n",
       "    <tr>\n",
       "      <th>firdevs</th>\n",
       "      <td>-1.619129</td>\n",
       "      <td>-1.784611</td>\n",
       "    </tr>\n",
       "    <tr>\n",
       "      <th>büsra</th>\n",
       "      <td>-0.285003</td>\n",
       "      <td>0.372788</td>\n",
       "    </tr>\n",
       "  </tbody>\n",
       "</table>\n",
       "</div>"
      ],
      "text/plain": [
       "            kimya     fizik\n",
       "zeliha   0.719414 -1.245830\n",
       "merthan  0.881025 -1.228798\n",
       "firdevs -1.619129 -1.784611\n",
       "büsra   -0.285003  0.372788"
      ]
     },
     "execution_count": 40,
     "metadata": {},
     "output_type": "execute_result"
    }
   ],
   "source": [
    "newDataFrame[[\"kimya\",\"fizik\"]]"
   ]
  },
  {
   "cell_type": "code",
   "execution_count": 41,
   "id": "845326c6",
   "metadata": {},
   "outputs": [
    {
     "data": {
      "text/plain": [
       "mat     -0.316969\n",
       "fizik   -1.245830\n",
       "kimya    0.719414\n",
       "genel   -0.498923\n",
       "Name: zeliha, dtype: float64"
      ]
     },
     "execution_count": 41,
     "metadata": {},
     "output_type": "execute_result"
    }
   ],
   "source": [
    "newDataFrame.loc[\"zeliha\"]    # sadece satır(row) işlemi için = .loc kullanırız"
   ]
  },
  {
   "cell_type": "code",
   "execution_count": 42,
   "id": "9f647180",
   "metadata": {},
   "outputs": [
    {
     "data": {
      "text/plain": [
       "mat      0.803405\n",
       "fizik   -1.228798\n",
       "kimya    0.881025\n",
       "genel    0.169777\n",
       "Name: merthan, dtype: float64"
      ]
     },
     "execution_count": 42,
     "metadata": {},
     "output_type": "execute_result"
    }
   ],
   "source": [
    "newDataFrame.loc[\"merthan\"]  # sadece satırı alırız.    loc için= satırın adı"
   ]
  },
  {
   "cell_type": "code",
   "execution_count": 43,
   "id": "aff1c9e7",
   "metadata": {},
   "outputs": [
    {
     "data": {
      "text/plain": [
       "mat      0.803405\n",
       "fizik   -1.228798\n",
       "kimya    0.881025\n",
       "genel    0.169777\n",
       "Name: merthan, dtype: float64"
      ]
     },
     "execution_count": 43,
     "metadata": {},
     "output_type": "execute_result"
    }
   ],
   "source": [
    "newDataFrame.iloc[1]  # index bazlı lokasyon= sadece satırı aldı: indis veriyoruz."
   ]
  },
  {
   "cell_type": "code",
   "execution_count": 44,
   "id": "18744743",
   "metadata": {},
   "outputs": [
    {
     "data": {
      "text/html": [
       "<div>\n",
       "<style scoped>\n",
       "    .dataframe tbody tr th:only-of-type {\n",
       "        vertical-align: middle;\n",
       "    }\n",
       "\n",
       "    .dataframe tbody tr th {\n",
       "        vertical-align: top;\n",
       "    }\n",
       "\n",
       "    .dataframe thead th {\n",
       "        text-align: right;\n",
       "    }\n",
       "</style>\n",
       "<table border=\"1\" class=\"dataframe\">\n",
       "  <thead>\n",
       "    <tr style=\"text-align: right;\">\n",
       "      <th></th>\n",
       "      <th>mat</th>\n",
       "      <th>fizik</th>\n",
       "      <th>kimya</th>\n",
       "      <th>genel</th>\n",
       "    </tr>\n",
       "  </thead>\n",
       "  <tbody>\n",
       "    <tr>\n",
       "      <th>zeliha</th>\n",
       "      <td>-0.316969</td>\n",
       "      <td>-1.245830</td>\n",
       "      <td>0.719414</td>\n",
       "      <td>-0.498923</td>\n",
       "    </tr>\n",
       "    <tr>\n",
       "      <th>merthan</th>\n",
       "      <td>0.803405</td>\n",
       "      <td>-1.228798</td>\n",
       "      <td>0.881025</td>\n",
       "      <td>0.169777</td>\n",
       "    </tr>\n",
       "    <tr>\n",
       "      <th>firdevs</th>\n",
       "      <td>0.185403</td>\n",
       "      <td>-1.784611</td>\n",
       "      <td>-1.619129</td>\n",
       "      <td>1.973879</td>\n",
       "    </tr>\n",
       "    <tr>\n",
       "      <th>büsra</th>\n",
       "      <td>-0.169143</td>\n",
       "      <td>0.372788</td>\n",
       "      <td>-0.285003</td>\n",
       "      <td>0.672957</td>\n",
       "    </tr>\n",
       "  </tbody>\n",
       "</table>\n",
       "</div>"
      ],
      "text/plain": [
       "              mat     fizik     kimya     genel\n",
       "zeliha  -0.316969 -1.245830  0.719414 -0.498923\n",
       "merthan  0.803405 -1.228798  0.881025  0.169777\n",
       "firdevs  0.185403 -1.784611 -1.619129  1.973879\n",
       "büsra   -0.169143  0.372788 -0.285003  0.672957"
      ]
     },
     "execution_count": 44,
     "metadata": {},
     "output_type": "execute_result"
    }
   ],
   "source": [
    "newDataFrame"
   ]
  },
  {
   "cell_type": "code",
   "execution_count": 45,
   "id": "90329380",
   "metadata": {},
   "outputs": [
    {
     "data": {
      "text/plain": [
       "zeliha    -1.245830\n",
       "merthan   -1.228798\n",
       "firdevs   -1.784611\n",
       "büsra      0.372788\n",
       "Name: fizik, dtype: float64"
      ]
     },
     "execution_count": 45,
     "metadata": {},
     "output_type": "execute_result"
    }
   ],
   "source": [
    "newDataFrame[\"fizik\"]"
   ]
  },
  {
   "cell_type": "code",
   "execution_count": 46,
   "id": "83cf336c",
   "metadata": {},
   "outputs": [],
   "source": [
    "newDataFrame[\"yazem\"]= newDataFrame[\"fizik\"] + newDataFrame [\"fizik\"]"
   ]
  },
  {
   "cell_type": "code",
   "execution_count": 47,
   "id": "f41ad7fc",
   "metadata": {},
   "outputs": [
    {
     "data": {
      "text/html": [
       "<div>\n",
       "<style scoped>\n",
       "    .dataframe tbody tr th:only-of-type {\n",
       "        vertical-align: middle;\n",
       "    }\n",
       "\n",
       "    .dataframe tbody tr th {\n",
       "        vertical-align: top;\n",
       "    }\n",
       "\n",
       "    .dataframe thead th {\n",
       "        text-align: right;\n",
       "    }\n",
       "</style>\n",
       "<table border=\"1\" class=\"dataframe\">\n",
       "  <thead>\n",
       "    <tr style=\"text-align: right;\">\n",
       "      <th></th>\n",
       "      <th>mat</th>\n",
       "      <th>fizik</th>\n",
       "      <th>kimya</th>\n",
       "      <th>genel</th>\n",
       "      <th>yazem</th>\n",
       "    </tr>\n",
       "  </thead>\n",
       "  <tbody>\n",
       "    <tr>\n",
       "      <th>zeliha</th>\n",
       "      <td>-0.316969</td>\n",
       "      <td>-1.245830</td>\n",
       "      <td>0.719414</td>\n",
       "      <td>-0.498923</td>\n",
       "      <td>-2.491660</td>\n",
       "    </tr>\n",
       "    <tr>\n",
       "      <th>merthan</th>\n",
       "      <td>0.803405</td>\n",
       "      <td>-1.228798</td>\n",
       "      <td>0.881025</td>\n",
       "      <td>0.169777</td>\n",
       "      <td>-2.457597</td>\n",
       "    </tr>\n",
       "    <tr>\n",
       "      <th>firdevs</th>\n",
       "      <td>0.185403</td>\n",
       "      <td>-1.784611</td>\n",
       "      <td>-1.619129</td>\n",
       "      <td>1.973879</td>\n",
       "      <td>-3.569221</td>\n",
       "    </tr>\n",
       "    <tr>\n",
       "      <th>büsra</th>\n",
       "      <td>-0.169143</td>\n",
       "      <td>0.372788</td>\n",
       "      <td>-0.285003</td>\n",
       "      <td>0.672957</td>\n",
       "      <td>0.745575</td>\n",
       "    </tr>\n",
       "  </tbody>\n",
       "</table>\n",
       "</div>"
      ],
      "text/plain": [
       "              mat     fizik     kimya     genel     yazem\n",
       "zeliha  -0.316969 -1.245830  0.719414 -0.498923 -2.491660\n",
       "merthan  0.803405 -1.228798  0.881025  0.169777 -2.457597\n",
       "firdevs  0.185403 -1.784611 -1.619129  1.973879 -3.569221\n",
       "büsra   -0.169143  0.372788 -0.285003  0.672957  0.745575"
      ]
     },
     "execution_count": 47,
     "metadata": {},
     "output_type": "execute_result"
    }
   ],
   "source": [
    "newDataFrame    #yeni bir sütun eklemiş olduk"
   ]
  },
  {
   "cell_type": "code",
   "execution_count": 48,
   "id": "cb897b11",
   "metadata": {},
   "outputs": [
    {
     "data": {
      "text/html": [
       "<div>\n",
       "<style scoped>\n",
       "    .dataframe tbody tr th:only-of-type {\n",
       "        vertical-align: middle;\n",
       "    }\n",
       "\n",
       "    .dataframe tbody tr th {\n",
       "        vertical-align: top;\n",
       "    }\n",
       "\n",
       "    .dataframe thead th {\n",
       "        text-align: right;\n",
       "    }\n",
       "</style>\n",
       "<table border=\"1\" class=\"dataframe\">\n",
       "  <thead>\n",
       "    <tr style=\"text-align: right;\">\n",
       "      <th></th>\n",
       "      <th>mat</th>\n",
       "      <th>fizik</th>\n",
       "      <th>kimya</th>\n",
       "      <th>genel</th>\n",
       "    </tr>\n",
       "  </thead>\n",
       "  <tbody>\n",
       "    <tr>\n",
       "      <th>zeliha</th>\n",
       "      <td>-0.316969</td>\n",
       "      <td>-1.245830</td>\n",
       "      <td>0.719414</td>\n",
       "      <td>-0.498923</td>\n",
       "    </tr>\n",
       "    <tr>\n",
       "      <th>merthan</th>\n",
       "      <td>0.803405</td>\n",
       "      <td>-1.228798</td>\n",
       "      <td>0.881025</td>\n",
       "      <td>0.169777</td>\n",
       "    </tr>\n",
       "    <tr>\n",
       "      <th>firdevs</th>\n",
       "      <td>0.185403</td>\n",
       "      <td>-1.784611</td>\n",
       "      <td>-1.619129</td>\n",
       "      <td>1.973879</td>\n",
       "    </tr>\n",
       "    <tr>\n",
       "      <th>büsra</th>\n",
       "      <td>-0.169143</td>\n",
       "      <td>0.372788</td>\n",
       "      <td>-0.285003</td>\n",
       "      <td>0.672957</td>\n",
       "    </tr>\n",
       "  </tbody>\n",
       "</table>\n",
       "</div>"
      ],
      "text/plain": [
       "              mat     fizik     kimya     genel\n",
       "zeliha  -0.316969 -1.245830  0.719414 -0.498923\n",
       "merthan  0.803405 -1.228798  0.881025  0.169777\n",
       "firdevs  0.185403 -1.784611 -1.619129  1.973879\n",
       "büsra   -0.169143  0.372788 -0.285003  0.672957"
      ]
     },
     "execution_count": 48,
     "metadata": {},
     "output_type": "execute_result"
    }
   ],
   "source": [
    "newDataFrame.drop(\"yazem\", axis = 1)   # drop = fall: kolon gider !! Sütun silmek için her zaman axis=1"
   ]
  },
  {
   "cell_type": "code",
   "execution_count": 49,
   "id": "48b8ba9d",
   "metadata": {},
   "outputs": [
    {
     "data": {
      "text/html": [
       "<div>\n",
       "<style scoped>\n",
       "    .dataframe tbody tr th:only-of-type {\n",
       "        vertical-align: middle;\n",
       "    }\n",
       "\n",
       "    .dataframe tbody tr th {\n",
       "        vertical-align: top;\n",
       "    }\n",
       "\n",
       "    .dataframe thead th {\n",
       "        text-align: right;\n",
       "    }\n",
       "</style>\n",
       "<table border=\"1\" class=\"dataframe\">\n",
       "  <thead>\n",
       "    <tr style=\"text-align: right;\">\n",
       "      <th></th>\n",
       "      <th>mat</th>\n",
       "      <th>fizik</th>\n",
       "      <th>kimya</th>\n",
       "      <th>genel</th>\n",
       "      <th>yazem</th>\n",
       "    </tr>\n",
       "  </thead>\n",
       "  <tbody>\n",
       "    <tr>\n",
       "      <th>zeliha</th>\n",
       "      <td>-0.316969</td>\n",
       "      <td>-1.245830</td>\n",
       "      <td>0.719414</td>\n",
       "      <td>-0.498923</td>\n",
       "      <td>-2.491660</td>\n",
       "    </tr>\n",
       "    <tr>\n",
       "      <th>merthan</th>\n",
       "      <td>0.803405</td>\n",
       "      <td>-1.228798</td>\n",
       "      <td>0.881025</td>\n",
       "      <td>0.169777</td>\n",
       "      <td>-2.457597</td>\n",
       "    </tr>\n",
       "    <tr>\n",
       "      <th>firdevs</th>\n",
       "      <td>0.185403</td>\n",
       "      <td>-1.784611</td>\n",
       "      <td>-1.619129</td>\n",
       "      <td>1.973879</td>\n",
       "      <td>-3.569221</td>\n",
       "    </tr>\n",
       "  </tbody>\n",
       "</table>\n",
       "</div>"
      ],
      "text/plain": [
       "              mat     fizik     kimya     genel     yazem\n",
       "zeliha  -0.316969 -1.245830  0.719414 -0.498923 -2.491660\n",
       "merthan  0.803405 -1.228798  0.881025  0.169777 -2.457597\n",
       "firdevs  0.185403 -1.784611 -1.619129  1.973879 -3.569221"
      ]
     },
     "execution_count": 49,
     "metadata": {},
     "output_type": "execute_result"
    }
   ],
   "source": [
    "newDataFrame.drop(\"büsra\")  # satırı direkt sildi "
   ]
  },
  {
   "cell_type": "code",
   "execution_count": 50,
   "id": "e8a40779",
   "metadata": {},
   "outputs": [
    {
     "data": {
      "text/html": [
       "<div>\n",
       "<style scoped>\n",
       "    .dataframe tbody tr th:only-of-type {\n",
       "        vertical-align: middle;\n",
       "    }\n",
       "\n",
       "    .dataframe tbody tr th {\n",
       "        vertical-align: top;\n",
       "    }\n",
       "\n",
       "    .dataframe thead th {\n",
       "        text-align: right;\n",
       "    }\n",
       "</style>\n",
       "<table border=\"1\" class=\"dataframe\">\n",
       "  <thead>\n",
       "    <tr style=\"text-align: right;\">\n",
       "      <th></th>\n",
       "      <th>mat</th>\n",
       "      <th>fizik</th>\n",
       "      <th>kimya</th>\n",
       "      <th>genel</th>\n",
       "      <th>yazem</th>\n",
       "    </tr>\n",
       "  </thead>\n",
       "  <tbody>\n",
       "    <tr>\n",
       "      <th>zeliha</th>\n",
       "      <td>-0.316969</td>\n",
       "      <td>-1.245830</td>\n",
       "      <td>0.719414</td>\n",
       "      <td>-0.498923</td>\n",
       "      <td>-2.491660</td>\n",
       "    </tr>\n",
       "    <tr>\n",
       "      <th>merthan</th>\n",
       "      <td>0.803405</td>\n",
       "      <td>-1.228798</td>\n",
       "      <td>0.881025</td>\n",
       "      <td>0.169777</td>\n",
       "      <td>-2.457597</td>\n",
       "    </tr>\n",
       "    <tr>\n",
       "      <th>firdevs</th>\n",
       "      <td>0.185403</td>\n",
       "      <td>-1.784611</td>\n",
       "      <td>-1.619129</td>\n",
       "      <td>1.973879</td>\n",
       "      <td>-3.569221</td>\n",
       "    </tr>\n",
       "  </tbody>\n",
       "</table>\n",
       "</div>"
      ],
      "text/plain": [
       "              mat     fizik     kimya     genel     yazem\n",
       "zeliha  -0.316969 -1.245830  0.719414 -0.498923 -2.491660\n",
       "merthan  0.803405 -1.228798  0.881025  0.169777 -2.457597\n",
       "firdevs  0.185403 -1.784611 -1.619129  1.973879 -3.569221"
      ]
     },
     "execution_count": 50,
     "metadata": {},
     "output_type": "execute_result"
    }
   ],
   "source": [
    "newDataFrame.drop(\"büsra\", axis= 0)  # yukarıdakiyle aynı işlem satır silindi"
   ]
  },
  {
   "cell_type": "code",
   "execution_count": 51,
   "id": "2bcc9bf1",
   "metadata": {},
   "outputs": [
    {
     "data": {
      "text/html": [
       "<div>\n",
       "<style scoped>\n",
       "    .dataframe tbody tr th:only-of-type {\n",
       "        vertical-align: middle;\n",
       "    }\n",
       "\n",
       "    .dataframe tbody tr th {\n",
       "        vertical-align: top;\n",
       "    }\n",
       "\n",
       "    .dataframe thead th {\n",
       "        text-align: right;\n",
       "    }\n",
       "</style>\n",
       "<table border=\"1\" class=\"dataframe\">\n",
       "  <thead>\n",
       "    <tr style=\"text-align: right;\">\n",
       "      <th></th>\n",
       "      <th>mat</th>\n",
       "      <th>fizik</th>\n",
       "      <th>kimya</th>\n",
       "      <th>genel</th>\n",
       "      <th>yazem</th>\n",
       "    </tr>\n",
       "  </thead>\n",
       "  <tbody>\n",
       "    <tr>\n",
       "      <th>zeliha</th>\n",
       "      <td>-0.316969</td>\n",
       "      <td>-1.245830</td>\n",
       "      <td>0.719414</td>\n",
       "      <td>-0.498923</td>\n",
       "      <td>-2.491660</td>\n",
       "    </tr>\n",
       "    <tr>\n",
       "      <th>merthan</th>\n",
       "      <td>0.803405</td>\n",
       "      <td>-1.228798</td>\n",
       "      <td>0.881025</td>\n",
       "      <td>0.169777</td>\n",
       "      <td>-2.457597</td>\n",
       "    </tr>\n",
       "    <tr>\n",
       "      <th>firdevs</th>\n",
       "      <td>0.185403</td>\n",
       "      <td>-1.784611</td>\n",
       "      <td>-1.619129</td>\n",
       "      <td>1.973879</td>\n",
       "      <td>-3.569221</td>\n",
       "    </tr>\n",
       "    <tr>\n",
       "      <th>büsra</th>\n",
       "      <td>-0.169143</td>\n",
       "      <td>0.372788</td>\n",
       "      <td>-0.285003</td>\n",
       "      <td>0.672957</td>\n",
       "      <td>0.745575</td>\n",
       "    </tr>\n",
       "  </tbody>\n",
       "</table>\n",
       "</div>"
      ],
      "text/plain": [
       "              mat     fizik     kimya     genel     yazem\n",
       "zeliha  -0.316969 -1.245830  0.719414 -0.498923 -2.491660\n",
       "merthan  0.803405 -1.228798  0.881025  0.169777 -2.457597\n",
       "firdevs  0.185403 -1.784611 -1.619129  1.973879 -3.569221\n",
       "büsra   -0.169143  0.372788 -0.285003  0.672957  0.745575"
      ]
     },
     "execution_count": 51,
     "metadata": {},
     "output_type": "execute_result"
    }
   ],
   "source": [
    "newDataFrame"
   ]
  },
  {
   "cell_type": "code",
   "execution_count": 52,
   "id": "d9e5d48f",
   "metadata": {},
   "outputs": [],
   "source": [
    "newDataFrame.drop(\"yazem\", axis= 1, inplace= True)   #kalıcı olarak siler: inplace=True"
   ]
  },
  {
   "cell_type": "code",
   "execution_count": 53,
   "id": "eb83bb6e",
   "metadata": {},
   "outputs": [
    {
     "data": {
      "text/html": [
       "<div>\n",
       "<style scoped>\n",
       "    .dataframe tbody tr th:only-of-type {\n",
       "        vertical-align: middle;\n",
       "    }\n",
       "\n",
       "    .dataframe tbody tr th {\n",
       "        vertical-align: top;\n",
       "    }\n",
       "\n",
       "    .dataframe thead th {\n",
       "        text-align: right;\n",
       "    }\n",
       "</style>\n",
       "<table border=\"1\" class=\"dataframe\">\n",
       "  <thead>\n",
       "    <tr style=\"text-align: right;\">\n",
       "      <th></th>\n",
       "      <th>mat</th>\n",
       "      <th>fizik</th>\n",
       "      <th>kimya</th>\n",
       "      <th>genel</th>\n",
       "    </tr>\n",
       "  </thead>\n",
       "  <tbody>\n",
       "    <tr>\n",
       "      <th>zeliha</th>\n",
       "      <td>-0.316969</td>\n",
       "      <td>-1.245830</td>\n",
       "      <td>0.719414</td>\n",
       "      <td>-0.498923</td>\n",
       "    </tr>\n",
       "    <tr>\n",
       "      <th>merthan</th>\n",
       "      <td>0.803405</td>\n",
       "      <td>-1.228798</td>\n",
       "      <td>0.881025</td>\n",
       "      <td>0.169777</td>\n",
       "    </tr>\n",
       "    <tr>\n",
       "      <th>firdevs</th>\n",
       "      <td>0.185403</td>\n",
       "      <td>-1.784611</td>\n",
       "      <td>-1.619129</td>\n",
       "      <td>1.973879</td>\n",
       "    </tr>\n",
       "    <tr>\n",
       "      <th>büsra</th>\n",
       "      <td>-0.169143</td>\n",
       "      <td>0.372788</td>\n",
       "      <td>-0.285003</td>\n",
       "      <td>0.672957</td>\n",
       "    </tr>\n",
       "  </tbody>\n",
       "</table>\n",
       "</div>"
      ],
      "text/plain": [
       "              mat     fizik     kimya     genel\n",
       "zeliha  -0.316969 -1.245830  0.719414 -0.498923\n",
       "merthan  0.803405 -1.228798  0.881025  0.169777\n",
       "firdevs  0.185403 -1.784611 -1.619129  1.973879\n",
       "büsra   -0.169143  0.372788 -0.285003  0.672957"
      ]
     },
     "execution_count": 53,
     "metadata": {},
     "output_type": "execute_result"
    }
   ],
   "source": [
    "newDataFrame"
   ]
  },
  {
   "cell_type": "code",
   "execution_count": 54,
   "id": "030c4b2b",
   "metadata": {},
   "outputs": [
    {
     "data": {
      "text/plain": [
       "-1.2458299739889276"
      ]
     },
     "execution_count": 54,
     "metadata": {},
     "output_type": "execute_result"
    }
   ],
   "source": [
    "newDataFrame.loc[\"zeliha\"][\"fizik\"]  #ayrı ayrı da yazılabilir"
   ]
  },
  {
   "cell_type": "code",
   "execution_count": 55,
   "id": "1209e342",
   "metadata": {},
   "outputs": [
    {
     "data": {
      "text/plain": [
       "-1.2458299739889276"
      ]
     },
     "execution_count": 55,
     "metadata": {},
     "output_type": "execute_result"
    }
   ],
   "source": [
    "newDataFrame.loc[\"zeliha\",\"fizik\"]"
   ]
  },
  {
   "cell_type": "code",
   "execution_count": 56,
   "id": "4cca8d5d",
   "metadata": {},
   "outputs": [
    {
     "data": {
      "text/html": [
       "<div>\n",
       "<style scoped>\n",
       "    .dataframe tbody tr th:only-of-type {\n",
       "        vertical-align: middle;\n",
       "    }\n",
       "\n",
       "    .dataframe tbody tr th {\n",
       "        vertical-align: top;\n",
       "    }\n",
       "\n",
       "    .dataframe thead th {\n",
       "        text-align: right;\n",
       "    }\n",
       "</style>\n",
       "<table border=\"1\" class=\"dataframe\">\n",
       "  <thead>\n",
       "    <tr style=\"text-align: right;\">\n",
       "      <th></th>\n",
       "      <th>mat</th>\n",
       "      <th>fizik</th>\n",
       "      <th>kimya</th>\n",
       "      <th>genel</th>\n",
       "    </tr>\n",
       "  </thead>\n",
       "  <tbody>\n",
       "    <tr>\n",
       "      <th>zeliha</th>\n",
       "      <td>-0.316969</td>\n",
       "      <td>-1.245830</td>\n",
       "      <td>0.719414</td>\n",
       "      <td>-0.498923</td>\n",
       "    </tr>\n",
       "    <tr>\n",
       "      <th>merthan</th>\n",
       "      <td>0.803405</td>\n",
       "      <td>-1.228798</td>\n",
       "      <td>0.881025</td>\n",
       "      <td>0.169777</td>\n",
       "    </tr>\n",
       "    <tr>\n",
       "      <th>firdevs</th>\n",
       "      <td>0.185403</td>\n",
       "      <td>-1.784611</td>\n",
       "      <td>-1.619129</td>\n",
       "      <td>1.973879</td>\n",
       "    </tr>\n",
       "    <tr>\n",
       "      <th>büsra</th>\n",
       "      <td>-0.169143</td>\n",
       "      <td>0.372788</td>\n",
       "      <td>-0.285003</td>\n",
       "      <td>0.672957</td>\n",
       "    </tr>\n",
       "  </tbody>\n",
       "</table>\n",
       "</div>"
      ],
      "text/plain": [
       "              mat     fizik     kimya     genel\n",
       "zeliha  -0.316969 -1.245830  0.719414 -0.498923\n",
       "merthan  0.803405 -1.228798  0.881025  0.169777\n",
       "firdevs  0.185403 -1.784611 -1.619129  1.973879\n",
       "büsra   -0.169143  0.372788 -0.285003  0.672957"
      ]
     },
     "execution_count": 56,
     "metadata": {},
     "output_type": "execute_result"
    }
   ],
   "source": [
    "newDataFrame"
   ]
  },
  {
   "cell_type": "code",
   "execution_count": 57,
   "id": "70746024",
   "metadata": {},
   "outputs": [
    {
     "data": {
      "text/html": [
       "<div>\n",
       "<style scoped>\n",
       "    .dataframe tbody tr th:only-of-type {\n",
       "        vertical-align: middle;\n",
       "    }\n",
       "\n",
       "    .dataframe tbody tr th {\n",
       "        vertical-align: top;\n",
       "    }\n",
       "\n",
       "    .dataframe thead th {\n",
       "        text-align: right;\n",
       "    }\n",
       "</style>\n",
       "<table border=\"1\" class=\"dataframe\">\n",
       "  <thead>\n",
       "    <tr style=\"text-align: right;\">\n",
       "      <th></th>\n",
       "      <th>mat</th>\n",
       "      <th>fizik</th>\n",
       "      <th>kimya</th>\n",
       "      <th>genel</th>\n",
       "    </tr>\n",
       "  </thead>\n",
       "  <tbody>\n",
       "    <tr>\n",
       "      <th>zeliha</th>\n",
       "      <td>True</td>\n",
       "      <td>True</td>\n",
       "      <td>False</td>\n",
       "      <td>True</td>\n",
       "    </tr>\n",
       "    <tr>\n",
       "      <th>merthan</th>\n",
       "      <td>False</td>\n",
       "      <td>True</td>\n",
       "      <td>False</td>\n",
       "      <td>False</td>\n",
       "    </tr>\n",
       "    <tr>\n",
       "      <th>firdevs</th>\n",
       "      <td>False</td>\n",
       "      <td>True</td>\n",
       "      <td>True</td>\n",
       "      <td>False</td>\n",
       "    </tr>\n",
       "    <tr>\n",
       "      <th>büsra</th>\n",
       "      <td>True</td>\n",
       "      <td>False</td>\n",
       "      <td>True</td>\n",
       "      <td>False</td>\n",
       "    </tr>\n",
       "  </tbody>\n",
       "</table>\n",
       "</div>"
      ],
      "text/plain": [
       "           mat  fizik  kimya  genel\n",
       "zeliha    True   True  False   True\n",
       "merthan  False   True  False  False\n",
       "firdevs  False   True   True  False\n",
       "büsra     True  False   True  False"
      ]
     },
     "execution_count": 57,
     "metadata": {},
     "output_type": "execute_result"
    }
   ],
   "source": [
    "newDataFrame < 0 "
   ]
  },
  {
   "cell_type": "code",
   "execution_count": 58,
   "id": "69dde1fc",
   "metadata": {},
   "outputs": [],
   "source": [
    "booleanFrame = newDataFrame < 0"
   ]
  },
  {
   "cell_type": "code",
   "execution_count": 59,
   "id": "3740437b",
   "metadata": {},
   "outputs": [
    {
     "data": {
      "text/html": [
       "<div>\n",
       "<style scoped>\n",
       "    .dataframe tbody tr th:only-of-type {\n",
       "        vertical-align: middle;\n",
       "    }\n",
       "\n",
       "    .dataframe tbody tr th {\n",
       "        vertical-align: top;\n",
       "    }\n",
       "\n",
       "    .dataframe thead th {\n",
       "        text-align: right;\n",
       "    }\n",
       "</style>\n",
       "<table border=\"1\" class=\"dataframe\">\n",
       "  <thead>\n",
       "    <tr style=\"text-align: right;\">\n",
       "      <th></th>\n",
       "      <th>mat</th>\n",
       "      <th>fizik</th>\n",
       "      <th>kimya</th>\n",
       "      <th>genel</th>\n",
       "    </tr>\n",
       "  </thead>\n",
       "  <tbody>\n",
       "    <tr>\n",
       "      <th>zeliha</th>\n",
       "      <td>True</td>\n",
       "      <td>True</td>\n",
       "      <td>False</td>\n",
       "      <td>True</td>\n",
       "    </tr>\n",
       "    <tr>\n",
       "      <th>merthan</th>\n",
       "      <td>False</td>\n",
       "      <td>True</td>\n",
       "      <td>False</td>\n",
       "      <td>False</td>\n",
       "    </tr>\n",
       "    <tr>\n",
       "      <th>firdevs</th>\n",
       "      <td>False</td>\n",
       "      <td>True</td>\n",
       "      <td>True</td>\n",
       "      <td>False</td>\n",
       "    </tr>\n",
       "    <tr>\n",
       "      <th>büsra</th>\n",
       "      <td>True</td>\n",
       "      <td>False</td>\n",
       "      <td>True</td>\n",
       "      <td>False</td>\n",
       "    </tr>\n",
       "  </tbody>\n",
       "</table>\n",
       "</div>"
      ],
      "text/plain": [
       "           mat  fizik  kimya  genel\n",
       "zeliha    True   True  False   True\n",
       "merthan  False   True  False  False\n",
       "firdevs  False   True   True  False\n",
       "büsra     True  False   True  False"
      ]
     },
     "execution_count": 59,
     "metadata": {},
     "output_type": "execute_result"
    }
   ],
   "source": [
    "booleanFrame"
   ]
  },
  {
   "cell_type": "code",
   "execution_count": 60,
   "id": "aaedaa4d",
   "metadata": {},
   "outputs": [
    {
     "data": {
      "text/html": [
       "<div>\n",
       "<style scoped>\n",
       "    .dataframe tbody tr th:only-of-type {\n",
       "        vertical-align: middle;\n",
       "    }\n",
       "\n",
       "    .dataframe tbody tr th {\n",
       "        vertical-align: top;\n",
       "    }\n",
       "\n",
       "    .dataframe thead th {\n",
       "        text-align: right;\n",
       "    }\n",
       "</style>\n",
       "<table border=\"1\" class=\"dataframe\">\n",
       "  <thead>\n",
       "    <tr style=\"text-align: right;\">\n",
       "      <th></th>\n",
       "      <th>mat</th>\n",
       "      <th>fizik</th>\n",
       "      <th>kimya</th>\n",
       "      <th>genel</th>\n",
       "    </tr>\n",
       "  </thead>\n",
       "  <tbody>\n",
       "    <tr>\n",
       "      <th>zeliha</th>\n",
       "      <td>-0.316969</td>\n",
       "      <td>-1.245830</td>\n",
       "      <td>NaN</td>\n",
       "      <td>-0.498923</td>\n",
       "    </tr>\n",
       "    <tr>\n",
       "      <th>merthan</th>\n",
       "      <td>NaN</td>\n",
       "      <td>-1.228798</td>\n",
       "      <td>NaN</td>\n",
       "      <td>NaN</td>\n",
       "    </tr>\n",
       "    <tr>\n",
       "      <th>firdevs</th>\n",
       "      <td>NaN</td>\n",
       "      <td>-1.784611</td>\n",
       "      <td>-1.619129</td>\n",
       "      <td>NaN</td>\n",
       "    </tr>\n",
       "    <tr>\n",
       "      <th>büsra</th>\n",
       "      <td>-0.169143</td>\n",
       "      <td>NaN</td>\n",
       "      <td>-0.285003</td>\n",
       "      <td>NaN</td>\n",
       "    </tr>\n",
       "  </tbody>\n",
       "</table>\n",
       "</div>"
      ],
      "text/plain": [
       "              mat     fizik     kimya     genel\n",
       "zeliha  -0.316969 -1.245830       NaN -0.498923\n",
       "merthan       NaN -1.228798       NaN       NaN\n",
       "firdevs       NaN -1.784611 -1.619129       NaN\n",
       "büsra   -0.169143       NaN -0.285003       NaN"
      ]
     },
     "execution_count": 60,
     "metadata": {},
     "output_type": "execute_result"
    }
   ],
   "source": [
    "newDataFrame[booleanFrame]   #yalnızca 0'dan küçükler yazıldı= True'lar yazılır."
   ]
  },
  {
   "cell_type": "code",
   "execution_count": 61,
   "id": "ace726a4",
   "metadata": {},
   "outputs": [
    {
     "data": {
      "text/html": [
       "<div>\n",
       "<style scoped>\n",
       "    .dataframe tbody tr th:only-of-type {\n",
       "        vertical-align: middle;\n",
       "    }\n",
       "\n",
       "    .dataframe tbody tr th {\n",
       "        vertical-align: top;\n",
       "    }\n",
       "\n",
       "    .dataframe thead th {\n",
       "        text-align: right;\n",
       "    }\n",
       "</style>\n",
       "<table border=\"1\" class=\"dataframe\">\n",
       "  <thead>\n",
       "    <tr style=\"text-align: right;\">\n",
       "      <th></th>\n",
       "      <th>mat</th>\n",
       "      <th>fizik</th>\n",
       "      <th>kimya</th>\n",
       "      <th>genel</th>\n",
       "    </tr>\n",
       "  </thead>\n",
       "  <tbody>\n",
       "    <tr>\n",
       "      <th>zeliha</th>\n",
       "      <td>-0.316969</td>\n",
       "      <td>-1.245830</td>\n",
       "      <td>NaN</td>\n",
       "      <td>-0.498923</td>\n",
       "    </tr>\n",
       "    <tr>\n",
       "      <th>merthan</th>\n",
       "      <td>NaN</td>\n",
       "      <td>-1.228798</td>\n",
       "      <td>NaN</td>\n",
       "      <td>NaN</td>\n",
       "    </tr>\n",
       "    <tr>\n",
       "      <th>firdevs</th>\n",
       "      <td>NaN</td>\n",
       "      <td>-1.784611</td>\n",
       "      <td>-1.619129</td>\n",
       "      <td>NaN</td>\n",
       "    </tr>\n",
       "    <tr>\n",
       "      <th>büsra</th>\n",
       "      <td>-0.169143</td>\n",
       "      <td>NaN</td>\n",
       "      <td>-0.285003</td>\n",
       "      <td>NaN</td>\n",
       "    </tr>\n",
       "  </tbody>\n",
       "</table>\n",
       "</div>"
      ],
      "text/plain": [
       "              mat     fizik     kimya     genel\n",
       "zeliha  -0.316969 -1.245830       NaN -0.498923\n",
       "merthan       NaN -1.228798       NaN       NaN\n",
       "firdevs       NaN -1.784611 -1.619129       NaN\n",
       "büsra   -0.169143       NaN -0.285003       NaN"
      ]
     },
     "execution_count": 61,
     "metadata": {},
     "output_type": "execute_result"
    }
   ],
   "source": [
    "newDataFrame[newDataFrame < 0]  #yukarıdaki işlemi tek satırda yapar\n"
   ]
  },
  {
   "cell_type": "code",
   "execution_count": 62,
   "id": "29567104",
   "metadata": {},
   "outputs": [
    {
     "data": {
      "text/html": [
       "<div>\n",
       "<style scoped>\n",
       "    .dataframe tbody tr th:only-of-type {\n",
       "        vertical-align: middle;\n",
       "    }\n",
       "\n",
       "    .dataframe tbody tr th {\n",
       "        vertical-align: top;\n",
       "    }\n",
       "\n",
       "    .dataframe thead th {\n",
       "        text-align: right;\n",
       "    }\n",
       "</style>\n",
       "<table border=\"1\" class=\"dataframe\">\n",
       "  <thead>\n",
       "    <tr style=\"text-align: right;\">\n",
       "      <th></th>\n",
       "      <th>mat</th>\n",
       "      <th>fizik</th>\n",
       "      <th>kimya</th>\n",
       "      <th>genel</th>\n",
       "    </tr>\n",
       "  </thead>\n",
       "  <tbody>\n",
       "    <tr>\n",
       "      <th>büsra</th>\n",
       "      <td>-0.169143</td>\n",
       "      <td>0.372788</td>\n",
       "      <td>-0.285003</td>\n",
       "      <td>0.672957</td>\n",
       "    </tr>\n",
       "  </tbody>\n",
       "</table>\n",
       "</div>"
      ],
      "text/plain": [
       "            mat     fizik     kimya     genel\n",
       "büsra -0.169143  0.372788 -0.285003  0.672957"
      ]
     },
     "execution_count": 62,
     "metadata": {},
     "output_type": "execute_result"
    }
   ],
   "source": [
    "newDataFrame[newDataFrame[\"fizik\"] > 0]  #büşrayla merthan satırı silinmiş oldu"
   ]
  },
  {
   "cell_type": "code",
   "execution_count": 63,
   "id": "cbeca748",
   "metadata": {},
   "outputs": [
    {
     "data": {
      "text/html": [
       "<div>\n",
       "<style scoped>\n",
       "    .dataframe tbody tr th:only-of-type {\n",
       "        vertical-align: middle;\n",
       "    }\n",
       "\n",
       "    .dataframe tbody tr th {\n",
       "        vertical-align: top;\n",
       "    }\n",
       "\n",
       "    .dataframe thead th {\n",
       "        text-align: right;\n",
       "    }\n",
       "</style>\n",
       "<table border=\"1\" class=\"dataframe\">\n",
       "  <thead>\n",
       "    <tr style=\"text-align: right;\">\n",
       "      <th></th>\n",
       "      <th>mat</th>\n",
       "      <th>fizik</th>\n",
       "      <th>kimya</th>\n",
       "      <th>genel</th>\n",
       "    </tr>\n",
       "  </thead>\n",
       "  <tbody>\n",
       "    <tr>\n",
       "      <th>merthan</th>\n",
       "      <td>0.803405</td>\n",
       "      <td>-1.228798</td>\n",
       "      <td>0.881025</td>\n",
       "      <td>0.169777</td>\n",
       "    </tr>\n",
       "    <tr>\n",
       "      <th>firdevs</th>\n",
       "      <td>0.185403</td>\n",
       "      <td>-1.784611</td>\n",
       "      <td>-1.619129</td>\n",
       "      <td>1.973879</td>\n",
       "    </tr>\n",
       "    <tr>\n",
       "      <th>büsra</th>\n",
       "      <td>-0.169143</td>\n",
       "      <td>0.372788</td>\n",
       "      <td>-0.285003</td>\n",
       "      <td>0.672957</td>\n",
       "    </tr>\n",
       "  </tbody>\n",
       "</table>\n",
       "</div>"
      ],
      "text/plain": [
       "              mat     fizik     kimya     genel\n",
       "merthan  0.803405 -1.228798  0.881025  0.169777\n",
       "firdevs  0.185403 -1.784611 -1.619129  1.973879\n",
       "büsra   -0.169143  0.372788 -0.285003  0.672957"
      ]
     },
     "execution_count": 63,
     "metadata": {},
     "output_type": "execute_result"
    }
   ],
   "source": [
    "newDataFrame[newDataFrame[\"genel\"] > 0] #zeliha,Firdevs,Merthan satırını siler."
   ]
  },
  {
   "cell_type": "code",
   "execution_count": 64,
   "id": "dc7aa431",
   "metadata": {},
   "outputs": [
    {
     "data": {
      "text/html": [
       "<div>\n",
       "<style scoped>\n",
       "    .dataframe tbody tr th:only-of-type {\n",
       "        vertical-align: middle;\n",
       "    }\n",
       "\n",
       "    .dataframe tbody tr th {\n",
       "        vertical-align: top;\n",
       "    }\n",
       "\n",
       "    .dataframe thead th {\n",
       "        text-align: right;\n",
       "    }\n",
       "</style>\n",
       "<table border=\"1\" class=\"dataframe\">\n",
       "  <thead>\n",
       "    <tr style=\"text-align: right;\">\n",
       "      <th></th>\n",
       "      <th>mat</th>\n",
       "      <th>fizik</th>\n",
       "      <th>kimya</th>\n",
       "      <th>genel</th>\n",
       "    </tr>\n",
       "  </thead>\n",
       "  <tbody>\n",
       "    <tr>\n",
       "      <th>zeliha</th>\n",
       "      <td>-0.316969</td>\n",
       "      <td>-1.245830</td>\n",
       "      <td>0.719414</td>\n",
       "      <td>-0.498923</td>\n",
       "    </tr>\n",
       "    <tr>\n",
       "      <th>merthan</th>\n",
       "      <td>0.803405</td>\n",
       "      <td>-1.228798</td>\n",
       "      <td>0.881025</td>\n",
       "      <td>0.169777</td>\n",
       "    </tr>\n",
       "    <tr>\n",
       "      <th>firdevs</th>\n",
       "      <td>0.185403</td>\n",
       "      <td>-1.784611</td>\n",
       "      <td>-1.619129</td>\n",
       "      <td>1.973879</td>\n",
       "    </tr>\n",
       "    <tr>\n",
       "      <th>büsra</th>\n",
       "      <td>-0.169143</td>\n",
       "      <td>0.372788</td>\n",
       "      <td>-0.285003</td>\n",
       "      <td>0.672957</td>\n",
       "    </tr>\n",
       "  </tbody>\n",
       "</table>\n",
       "</div>"
      ],
      "text/plain": [
       "              mat     fizik     kimya     genel\n",
       "zeliha  -0.316969 -1.245830  0.719414 -0.498923\n",
       "merthan  0.803405 -1.228798  0.881025  0.169777\n",
       "firdevs  0.185403 -1.784611 -1.619129  1.973879\n",
       "büsra   -0.169143  0.372788 -0.285003  0.672957"
      ]
     },
     "execution_count": 64,
     "metadata": {},
     "output_type": "execute_result"
    }
   ],
   "source": [
    "newDataFrame"
   ]
  },
  {
   "cell_type": "code",
   "execution_count": 65,
   "id": "ef82b631",
   "metadata": {},
   "outputs": [
    {
     "data": {
      "text/html": [
       "<div>\n",
       "<style scoped>\n",
       "    .dataframe tbody tr th:only-of-type {\n",
       "        vertical-align: middle;\n",
       "    }\n",
       "\n",
       "    .dataframe tbody tr th {\n",
       "        vertical-align: top;\n",
       "    }\n",
       "\n",
       "    .dataframe thead th {\n",
       "        text-align: right;\n",
       "    }\n",
       "</style>\n",
       "<table border=\"1\" class=\"dataframe\">\n",
       "  <thead>\n",
       "    <tr style=\"text-align: right;\">\n",
       "      <th></th>\n",
       "      <th>index</th>\n",
       "      <th>mat</th>\n",
       "      <th>fizik</th>\n",
       "      <th>kimya</th>\n",
       "      <th>genel</th>\n",
       "    </tr>\n",
       "  </thead>\n",
       "  <tbody>\n",
       "    <tr>\n",
       "      <th>0</th>\n",
       "      <td>zeliha</td>\n",
       "      <td>-0.316969</td>\n",
       "      <td>-1.245830</td>\n",
       "      <td>0.719414</td>\n",
       "      <td>-0.498923</td>\n",
       "    </tr>\n",
       "    <tr>\n",
       "      <th>1</th>\n",
       "      <td>merthan</td>\n",
       "      <td>0.803405</td>\n",
       "      <td>-1.228798</td>\n",
       "      <td>0.881025</td>\n",
       "      <td>0.169777</td>\n",
       "    </tr>\n",
       "    <tr>\n",
       "      <th>2</th>\n",
       "      <td>firdevs</td>\n",
       "      <td>0.185403</td>\n",
       "      <td>-1.784611</td>\n",
       "      <td>-1.619129</td>\n",
       "      <td>1.973879</td>\n",
       "    </tr>\n",
       "    <tr>\n",
       "      <th>3</th>\n",
       "      <td>büsra</td>\n",
       "      <td>-0.169143</td>\n",
       "      <td>0.372788</td>\n",
       "      <td>-0.285003</td>\n",
       "      <td>0.672957</td>\n",
       "    </tr>\n",
       "  </tbody>\n",
       "</table>\n",
       "</div>"
      ],
      "text/plain": [
       "     index       mat     fizik     kimya     genel\n",
       "0   zeliha -0.316969 -1.245830  0.719414 -0.498923\n",
       "1  merthan  0.803405 -1.228798  0.881025  0.169777\n",
       "2  firdevs  0.185403 -1.784611 -1.619129  1.973879\n",
       "3    büsra -0.169143  0.372788 -0.285003  0.672957"
      ]
     },
     "execution_count": 65,
     "metadata": {},
     "output_type": "execute_result"
    }
   ],
   "source": [
    "#indeks değiştirmek istersek;\n",
    "\n",
    "newDataFrame.reset_index()"
   ]
  },
  {
   "cell_type": "code",
   "execution_count": 66,
   "id": "ea17567b",
   "metadata": {},
   "outputs": [
    {
     "data": {
      "text/html": [
       "<div>\n",
       "<style scoped>\n",
       "    .dataframe tbody tr th:only-of-type {\n",
       "        vertical-align: middle;\n",
       "    }\n",
       "\n",
       "    .dataframe tbody tr th {\n",
       "        vertical-align: top;\n",
       "    }\n",
       "\n",
       "    .dataframe thead th {\n",
       "        text-align: right;\n",
       "    }\n",
       "</style>\n",
       "<table border=\"1\" class=\"dataframe\">\n",
       "  <thead>\n",
       "    <tr style=\"text-align: right;\">\n",
       "      <th></th>\n",
       "      <th>mat</th>\n",
       "      <th>fizik</th>\n",
       "      <th>kimya</th>\n",
       "      <th>genel</th>\n",
       "    </tr>\n",
       "  </thead>\n",
       "  <tbody>\n",
       "    <tr>\n",
       "      <th>zeliha</th>\n",
       "      <td>-0.316969</td>\n",
       "      <td>-1.245830</td>\n",
       "      <td>0.719414</td>\n",
       "      <td>-0.498923</td>\n",
       "    </tr>\n",
       "    <tr>\n",
       "      <th>merthan</th>\n",
       "      <td>0.803405</td>\n",
       "      <td>-1.228798</td>\n",
       "      <td>0.881025</td>\n",
       "      <td>0.169777</td>\n",
       "    </tr>\n",
       "    <tr>\n",
       "      <th>firdevs</th>\n",
       "      <td>0.185403</td>\n",
       "      <td>-1.784611</td>\n",
       "      <td>-1.619129</td>\n",
       "      <td>1.973879</td>\n",
       "    </tr>\n",
       "    <tr>\n",
       "      <th>büsra</th>\n",
       "      <td>-0.169143</td>\n",
       "      <td>0.372788</td>\n",
       "      <td>-0.285003</td>\n",
       "      <td>0.672957</td>\n",
       "    </tr>\n",
       "  </tbody>\n",
       "</table>\n",
       "</div>"
      ],
      "text/plain": [
       "              mat     fizik     kimya     genel\n",
       "zeliha  -0.316969 -1.245830  0.719414 -0.498923\n",
       "merthan  0.803405 -1.228798  0.881025  0.169777\n",
       "firdevs  0.185403 -1.784611 -1.619129  1.973879\n",
       "büsra   -0.169143  0.372788 -0.285003  0.672957"
      ]
     },
     "execution_count": 66,
     "metadata": {},
     "output_type": "execute_result"
    }
   ],
   "source": [
    "newDataFrame #tekrar çağırdığımızda eski liste gelir"
   ]
  },
  {
   "cell_type": "code",
   "execution_count": 67,
   "id": "9a54d74c",
   "metadata": {},
   "outputs": [],
   "source": [
    "yeniIndexList = [\"zel\", \"mer\", \"büs\", \"fir\"]"
   ]
  },
  {
   "cell_type": "code",
   "execution_count": 68,
   "id": "2b3c666b",
   "metadata": {},
   "outputs": [],
   "source": [
    "newDataFrame[\"Yeni Index\"] = yeniIndexList  #kolon ekledik"
   ]
  },
  {
   "cell_type": "code",
   "execution_count": 69,
   "id": "21721195",
   "metadata": {},
   "outputs": [
    {
     "data": {
      "text/html": [
       "<div>\n",
       "<style scoped>\n",
       "    .dataframe tbody tr th:only-of-type {\n",
       "        vertical-align: middle;\n",
       "    }\n",
       "\n",
       "    .dataframe tbody tr th {\n",
       "        vertical-align: top;\n",
       "    }\n",
       "\n",
       "    .dataframe thead th {\n",
       "        text-align: right;\n",
       "    }\n",
       "</style>\n",
       "<table border=\"1\" class=\"dataframe\">\n",
       "  <thead>\n",
       "    <tr style=\"text-align: right;\">\n",
       "      <th></th>\n",
       "      <th>mat</th>\n",
       "      <th>fizik</th>\n",
       "      <th>kimya</th>\n",
       "      <th>genel</th>\n",
       "      <th>Yeni Index</th>\n",
       "      <th>Yeni</th>\n",
       "    </tr>\n",
       "  </thead>\n",
       "  <tbody>\n",
       "    <tr>\n",
       "      <th>zeliha</th>\n",
       "      <td>-0.316969</td>\n",
       "      <td>-1.245830</td>\n",
       "      <td>0.719414</td>\n",
       "      <td>-0.498923</td>\n",
       "      <td>zel</td>\n",
       "      <td>zel</td>\n",
       "    </tr>\n",
       "    <tr>\n",
       "      <th>merthan</th>\n",
       "      <td>0.803405</td>\n",
       "      <td>-1.228798</td>\n",
       "      <td>0.881025</td>\n",
       "      <td>0.169777</td>\n",
       "      <td>mer</td>\n",
       "      <td>mer</td>\n",
       "    </tr>\n",
       "    <tr>\n",
       "      <th>firdevs</th>\n",
       "      <td>0.185403</td>\n",
       "      <td>-1.784611</td>\n",
       "      <td>-1.619129</td>\n",
       "      <td>1.973879</td>\n",
       "      <td>büs</td>\n",
       "      <td>büs</td>\n",
       "    </tr>\n",
       "    <tr>\n",
       "      <th>büsra</th>\n",
       "      <td>-0.169143</td>\n",
       "      <td>0.372788</td>\n",
       "      <td>-0.285003</td>\n",
       "      <td>0.672957</td>\n",
       "      <td>fir</td>\n",
       "      <td>fir</td>\n",
       "    </tr>\n",
       "  </tbody>\n",
       "</table>\n",
       "</div>"
      ],
      "text/plain": [
       "              mat     fizik     kimya     genel Yeni Index Yeni\n",
       "zeliha  -0.316969 -1.245830  0.719414 -0.498923        zel  zel\n",
       "merthan  0.803405 -1.228798  0.881025  0.169777        mer  mer\n",
       "firdevs  0.185403 -1.784611 -1.619129  1.973879        büs  büs\n",
       "büsra   -0.169143  0.372788 -0.285003  0.672957        fir  fir"
      ]
     },
     "execution_count": 69,
     "metadata": {},
     "output_type": "execute_result"
    }
   ],
   "source": [
    "newDataFrame[\"Yeni\"] = yeniIndexList  #kolon ekledik\n",
    "newDataFrame"
   ]
  },
  {
   "cell_type": "code",
   "execution_count": 70,
   "id": "e9f23728",
   "metadata": {},
   "outputs": [],
   "source": [
    "newDataFrame.drop(\"Yeni\", axis =1 ,inplace=True)  #eski kolonu sildik"
   ]
  },
  {
   "cell_type": "code",
   "execution_count": 71,
   "id": "4bd953b6",
   "metadata": {},
   "outputs": [
    {
     "data": {
      "text/html": [
       "<div>\n",
       "<style scoped>\n",
       "    .dataframe tbody tr th:only-of-type {\n",
       "        vertical-align: middle;\n",
       "    }\n",
       "\n",
       "    .dataframe tbody tr th {\n",
       "        vertical-align: top;\n",
       "    }\n",
       "\n",
       "    .dataframe thead th {\n",
       "        text-align: right;\n",
       "    }\n",
       "</style>\n",
       "<table border=\"1\" class=\"dataframe\">\n",
       "  <thead>\n",
       "    <tr style=\"text-align: right;\">\n",
       "      <th></th>\n",
       "      <th>mat</th>\n",
       "      <th>fizik</th>\n",
       "      <th>kimya</th>\n",
       "      <th>genel</th>\n",
       "      <th>Yeni Index</th>\n",
       "    </tr>\n",
       "  </thead>\n",
       "  <tbody>\n",
       "    <tr>\n",
       "      <th>zeliha</th>\n",
       "      <td>-0.316969</td>\n",
       "      <td>-1.245830</td>\n",
       "      <td>0.719414</td>\n",
       "      <td>-0.498923</td>\n",
       "      <td>zel</td>\n",
       "    </tr>\n",
       "    <tr>\n",
       "      <th>merthan</th>\n",
       "      <td>0.803405</td>\n",
       "      <td>-1.228798</td>\n",
       "      <td>0.881025</td>\n",
       "      <td>0.169777</td>\n",
       "      <td>mer</td>\n",
       "    </tr>\n",
       "    <tr>\n",
       "      <th>firdevs</th>\n",
       "      <td>0.185403</td>\n",
       "      <td>-1.784611</td>\n",
       "      <td>-1.619129</td>\n",
       "      <td>1.973879</td>\n",
       "      <td>büs</td>\n",
       "    </tr>\n",
       "    <tr>\n",
       "      <th>büsra</th>\n",
       "      <td>-0.169143</td>\n",
       "      <td>0.372788</td>\n",
       "      <td>-0.285003</td>\n",
       "      <td>0.672957</td>\n",
       "      <td>fir</td>\n",
       "    </tr>\n",
       "  </tbody>\n",
       "</table>\n",
       "</div>"
      ],
      "text/plain": [
       "              mat     fizik     kimya     genel Yeni Index\n",
       "zeliha  -0.316969 -1.245830  0.719414 -0.498923        zel\n",
       "merthan  0.803405 -1.228798  0.881025  0.169777        mer\n",
       "firdevs  0.185403 -1.784611 -1.619129  1.973879        büs\n",
       "büsra   -0.169143  0.372788 -0.285003  0.672957        fir"
      ]
     },
     "execution_count": 71,
     "metadata": {},
     "output_type": "execute_result"
    }
   ],
   "source": [
    "newDataFrame"
   ]
  },
  {
   "cell_type": "code",
   "execution_count": 72,
   "id": "700d7fdd",
   "metadata": {},
   "outputs": [],
   "source": [
    "newDataFrame.set_index(\"Yeni Index\", inplace = True)"
   ]
  },
  {
   "cell_type": "code",
   "execution_count": 73,
   "id": "dfaeb032",
   "metadata": {},
   "outputs": [
    {
     "data": {
      "text/html": [
       "<div>\n",
       "<style scoped>\n",
       "    .dataframe tbody tr th:only-of-type {\n",
       "        vertical-align: middle;\n",
       "    }\n",
       "\n",
       "    .dataframe tbody tr th {\n",
       "        vertical-align: top;\n",
       "    }\n",
       "\n",
       "    .dataframe thead th {\n",
       "        text-align: right;\n",
       "    }\n",
       "</style>\n",
       "<table border=\"1\" class=\"dataframe\">\n",
       "  <thead>\n",
       "    <tr style=\"text-align: right;\">\n",
       "      <th></th>\n",
       "      <th>mat</th>\n",
       "      <th>fizik</th>\n",
       "      <th>kimya</th>\n",
       "      <th>genel</th>\n",
       "    </tr>\n",
       "    <tr>\n",
       "      <th>Yeni Index</th>\n",
       "      <th></th>\n",
       "      <th></th>\n",
       "      <th></th>\n",
       "      <th></th>\n",
       "    </tr>\n",
       "  </thead>\n",
       "  <tbody>\n",
       "    <tr>\n",
       "      <th>zel</th>\n",
       "      <td>-0.316969</td>\n",
       "      <td>-1.245830</td>\n",
       "      <td>0.719414</td>\n",
       "      <td>-0.498923</td>\n",
       "    </tr>\n",
       "    <tr>\n",
       "      <th>mer</th>\n",
       "      <td>0.803405</td>\n",
       "      <td>-1.228798</td>\n",
       "      <td>0.881025</td>\n",
       "      <td>0.169777</td>\n",
       "    </tr>\n",
       "    <tr>\n",
       "      <th>büs</th>\n",
       "      <td>0.185403</td>\n",
       "      <td>-1.784611</td>\n",
       "      <td>-1.619129</td>\n",
       "      <td>1.973879</td>\n",
       "    </tr>\n",
       "    <tr>\n",
       "      <th>fir</th>\n",
       "      <td>-0.169143</td>\n",
       "      <td>0.372788</td>\n",
       "      <td>-0.285003</td>\n",
       "      <td>0.672957</td>\n",
       "    </tr>\n",
       "  </tbody>\n",
       "</table>\n",
       "</div>"
      ],
      "text/plain": [
       "                 mat     fizik     kimya     genel\n",
       "Yeni Index                                        \n",
       "zel        -0.316969 -1.245830  0.719414 -0.498923\n",
       "mer         0.803405 -1.228798  0.881025  0.169777\n",
       "büs         0.185403 -1.784611 -1.619129  1.973879\n",
       "fir        -0.169143  0.372788 -0.285003  0.672957"
      ]
     },
     "execution_count": 73,
     "metadata": {},
     "output_type": "execute_result"
    }
   ],
   "source": [
    "newDataFrame"
   ]
  },
  {
   "cell_type": "code",
   "execution_count": 74,
   "id": "80c3dcb2",
   "metadata": {},
   "outputs": [
    {
     "data": {
      "text/plain": [
       "mat     -0.316969\n",
       "fizik   -1.245830\n",
       "kimya    0.719414\n",
       "genel   -0.498923\n",
       "Name: zel, dtype: float64"
      ]
     },
     "execution_count": 74,
     "metadata": {},
     "output_type": "execute_result"
    }
   ],
   "source": [
    "newDataFrame.loc[\"zel\"] "
   ]
  },
  {
   "cell_type": "code",
   "execution_count": 75,
   "id": "1ea8be5d",
   "metadata": {},
   "outputs": [
    {
     "data": {
      "text/plain": [
       "mat     -0.316969\n",
       "fizik   -1.245830\n",
       "kimya    0.719414\n",
       "genel   -0.498923\n",
       "Name: zel, dtype: float64"
      ]
     },
     "execution_count": 75,
     "metadata": {},
     "output_type": "execute_result"
    }
   ],
   "source": [
    "newDataFrame.iloc[0]"
   ]
  },
  {
   "cell_type": "markdown",
   "id": "904c5d93",
   "metadata": {},
   "source": [
    "# Multi index"
   ]
  },
  {
   "cell_type": "code",
   "execution_count": 76,
   "id": "38bf9271",
   "metadata": {},
   "outputs": [],
   "source": [
    "ilkIndeksler = [\"Simpson\", \"Simpson\" ,\"Simpson\", \"South Park\", \"South Park\", \"South Park\"]"
   ]
  },
  {
   "cell_type": "code",
   "execution_count": 77,
   "id": "39854241",
   "metadata": {},
   "outputs": [],
   "source": [
    "icIndeksler = [\"Homer Simpson\", \"Bart Simpson\", \"Marge Simpson\" , \"Cartman\", \"Kenny\", \"Kyle\" ]"
   ]
  },
  {
   "cell_type": "code",
   "execution_count": 78,
   "id": "a515af02",
   "metadata": {},
   "outputs": [],
   "source": [
    "birlesmisIndeks = list(zip(ilkIndeksler,icIndeksler))"
   ]
  },
  {
   "cell_type": "code",
   "execution_count": 79,
   "id": "5a342f3a",
   "metadata": {},
   "outputs": [
    {
     "data": {
      "text/plain": [
       "[('Simpson', 'Homer Simpson'),\n",
       " ('Simpson', 'Bart Simpson'),\n",
       " ('Simpson', 'Marge Simpson'),\n",
       " ('South Park', 'Cartman'),\n",
       " ('South Park', 'Kenny'),\n",
       " ('South Park', 'Kyle')]"
      ]
     },
     "execution_count": 79,
     "metadata": {},
     "output_type": "execute_result"
    }
   ],
   "source": [
    "birlesmisIndeks"
   ]
  },
  {
   "cell_type": "code",
   "execution_count": 80,
   "id": "9e2f645c",
   "metadata": {},
   "outputs": [
    {
     "data": {
      "text/plain": [
       "0    (Simpson, Homer Simpson)\n",
       "1     (Simpson, Bart Simpson)\n",
       "2    (Simpson, Marge Simpson)\n",
       "3       (South Park, Cartman)\n",
       "4         (South Park, Kenny)\n",
       "5          (South Park, Kyle)\n",
       "dtype: object"
      ]
     },
     "execution_count": 80,
     "metadata": {},
     "output_type": "execute_result"
    }
   ],
   "source": [
    "pd.Series(birlesmisIndeks)"
   ]
  },
  {
   "cell_type": "code",
   "execution_count": 81,
   "id": "cefe40ae",
   "metadata": {},
   "outputs": [],
   "source": [
    "birlesmisIndeks = pd.MultiIndex.from_tuples(birlesmisIndeks)"
   ]
  },
  {
   "cell_type": "code",
   "execution_count": 82,
   "id": "92c3290b",
   "metadata": {},
   "outputs": [
    {
     "data": {
      "text/plain": [
       "MultiIndex([(   'Simpson', 'Homer Simpson'),\n",
       "            (   'Simpson',  'Bart Simpson'),\n",
       "            (   'Simpson', 'Marge Simpson'),\n",
       "            ('South Park',       'Cartman'),\n",
       "            ('South Park',         'Kenny'),\n",
       "            ('South Park',          'Kyle')],\n",
       "           )"
      ]
     },
     "execution_count": 82,
     "metadata": {},
     "output_type": "execute_result"
    }
   ],
   "source": [
    "birlesmisIndeks"
   ]
  },
  {
   "cell_type": "code",
   "execution_count": 83,
   "id": "f7061f72",
   "metadata": {},
   "outputs": [],
   "source": [
    "benimListem = [[40,\"a\"], [30,\"b\"],[20,\"c\"],[10,\"d\"],[9,\"e\"],[8,\"f\"]]"
   ]
  },
  {
   "cell_type": "code",
   "execution_count": 84,
   "id": "4b397785",
   "metadata": {},
   "outputs": [],
   "source": [
    "cizgiFilmNumpy = np.array(benimListem)    # Numpy listesine çevirdik."
   ]
  },
  {
   "cell_type": "code",
   "execution_count": 85,
   "id": "9d3f5433",
   "metadata": {},
   "outputs": [],
   "source": [
    "cizgiDataFrame = pd.DataFrame(cizgiFilmNumpy, index=birlesmisIndeks, columns= [\"Yas\",\"Meslek\"])"
   ]
  },
  {
   "cell_type": "code",
   "execution_count": 86,
   "id": "da86e5b8",
   "metadata": {},
   "outputs": [
    {
     "data": {
      "text/html": [
       "<div>\n",
       "<style scoped>\n",
       "    .dataframe tbody tr th:only-of-type {\n",
       "        vertical-align: middle;\n",
       "    }\n",
       "\n",
       "    .dataframe tbody tr th {\n",
       "        vertical-align: top;\n",
       "    }\n",
       "\n",
       "    .dataframe thead th {\n",
       "        text-align: right;\n",
       "    }\n",
       "</style>\n",
       "<table border=\"1\" class=\"dataframe\">\n",
       "  <thead>\n",
       "    <tr style=\"text-align: right;\">\n",
       "      <th></th>\n",
       "      <th></th>\n",
       "      <th>Yas</th>\n",
       "      <th>Meslek</th>\n",
       "    </tr>\n",
       "  </thead>\n",
       "  <tbody>\n",
       "    <tr>\n",
       "      <th rowspan=\"3\" valign=\"top\">Simpson</th>\n",
       "      <th>Homer Simpson</th>\n",
       "      <td>40</td>\n",
       "      <td>a</td>\n",
       "    </tr>\n",
       "    <tr>\n",
       "      <th>Bart Simpson</th>\n",
       "      <td>30</td>\n",
       "      <td>b</td>\n",
       "    </tr>\n",
       "    <tr>\n",
       "      <th>Marge Simpson</th>\n",
       "      <td>20</td>\n",
       "      <td>c</td>\n",
       "    </tr>\n",
       "    <tr>\n",
       "      <th rowspan=\"3\" valign=\"top\">South Park</th>\n",
       "      <th>Cartman</th>\n",
       "      <td>10</td>\n",
       "      <td>d</td>\n",
       "    </tr>\n",
       "    <tr>\n",
       "      <th>Kenny</th>\n",
       "      <td>9</td>\n",
       "      <td>e</td>\n",
       "    </tr>\n",
       "    <tr>\n",
       "      <th>Kyle</th>\n",
       "      <td>8</td>\n",
       "      <td>f</td>\n",
       "    </tr>\n",
       "  </tbody>\n",
       "</table>\n",
       "</div>"
      ],
      "text/plain": [
       "                         Yas Meslek\n",
       "Simpson    Homer Simpson  40      a\n",
       "           Bart Simpson   30      b\n",
       "           Marge Simpson  20      c\n",
       "South Park Cartman        10      d\n",
       "           Kenny           9      e\n",
       "           Kyle            8      f"
      ]
     },
     "execution_count": 86,
     "metadata": {},
     "output_type": "execute_result"
    }
   ],
   "source": [
    "cizgiDataFrame"
   ]
  },
  {
   "cell_type": "code",
   "execution_count": 87,
   "id": "8e1ec4ca",
   "metadata": {},
   "outputs": [
    {
     "data": {
      "text/html": [
       "<div>\n",
       "<style scoped>\n",
       "    .dataframe tbody tr th:only-of-type {\n",
       "        vertical-align: middle;\n",
       "    }\n",
       "\n",
       "    .dataframe tbody tr th {\n",
       "        vertical-align: top;\n",
       "    }\n",
       "\n",
       "    .dataframe thead th {\n",
       "        text-align: right;\n",
       "    }\n",
       "</style>\n",
       "<table border=\"1\" class=\"dataframe\">\n",
       "  <thead>\n",
       "    <tr style=\"text-align: right;\">\n",
       "      <th></th>\n",
       "      <th>Yas</th>\n",
       "      <th>Meslek</th>\n",
       "    </tr>\n",
       "  </thead>\n",
       "  <tbody>\n",
       "    <tr>\n",
       "      <th>Homer Simpson</th>\n",
       "      <td>40</td>\n",
       "      <td>a</td>\n",
       "    </tr>\n",
       "    <tr>\n",
       "      <th>Bart Simpson</th>\n",
       "      <td>30</td>\n",
       "      <td>b</td>\n",
       "    </tr>\n",
       "    <tr>\n",
       "      <th>Marge Simpson</th>\n",
       "      <td>20</td>\n",
       "      <td>c</td>\n",
       "    </tr>\n",
       "  </tbody>\n",
       "</table>\n",
       "</div>"
      ],
      "text/plain": [
       "              Yas Meslek\n",
       "Homer Simpson  40      a\n",
       "Bart Simpson   30      b\n",
       "Marge Simpson  20      c"
      ]
     },
     "execution_count": 87,
     "metadata": {},
     "output_type": "execute_result"
    }
   ],
   "source": [
    "cizgiDataFrame.loc[\"Simpson\"]"
   ]
  },
  {
   "cell_type": "code",
   "execution_count": 88,
   "id": "623205e1",
   "metadata": {},
   "outputs": [
    {
     "data": {
      "text/plain": [
       "Yas       30\n",
       "Meslek     b\n",
       "Name: (Simpson, Bart Simpson), dtype: object"
      ]
     },
     "execution_count": 88,
     "metadata": {},
     "output_type": "execute_result"
    }
   ],
   "source": [
    "cizgiDataFrame.iloc[1]"
   ]
  },
  {
   "cell_type": "code",
   "execution_count": 89,
   "id": "2f8d7522",
   "metadata": {},
   "outputs": [
    {
     "data": {
      "text/plain": [
       "Yas       9\n",
       "Meslek    e\n",
       "Name: Kenny, dtype: object"
      ]
     },
     "execution_count": 89,
     "metadata": {},
     "output_type": "execute_result"
    }
   ],
   "source": [
    "cizgiDataFrame.loc[\"South Park\"].loc[\"Kenny\"]"
   ]
  },
  {
   "cell_type": "code",
   "execution_count": 90,
   "id": "e1478e63",
   "metadata": {},
   "outputs": [],
   "source": [
    "cizgiDataFrame.index.names = [\"Film adı\", \"İsim\"]  #index ismi atadık."
   ]
  },
  {
   "cell_type": "code",
   "execution_count": 91,
   "id": "f52b7f29",
   "metadata": {},
   "outputs": [
    {
     "data": {
      "text/html": [
       "<div>\n",
       "<style scoped>\n",
       "    .dataframe tbody tr th:only-of-type {\n",
       "        vertical-align: middle;\n",
       "    }\n",
       "\n",
       "    .dataframe tbody tr th {\n",
       "        vertical-align: top;\n",
       "    }\n",
       "\n",
       "    .dataframe thead th {\n",
       "        text-align: right;\n",
       "    }\n",
       "</style>\n",
       "<table border=\"1\" class=\"dataframe\">\n",
       "  <thead>\n",
       "    <tr style=\"text-align: right;\">\n",
       "      <th></th>\n",
       "      <th></th>\n",
       "      <th>Yas</th>\n",
       "      <th>Meslek</th>\n",
       "    </tr>\n",
       "    <tr>\n",
       "      <th>Film adı</th>\n",
       "      <th>İsim</th>\n",
       "      <th></th>\n",
       "      <th></th>\n",
       "    </tr>\n",
       "  </thead>\n",
       "  <tbody>\n",
       "    <tr>\n",
       "      <th rowspan=\"3\" valign=\"top\">Simpson</th>\n",
       "      <th>Homer Simpson</th>\n",
       "      <td>40</td>\n",
       "      <td>a</td>\n",
       "    </tr>\n",
       "    <tr>\n",
       "      <th>Bart Simpson</th>\n",
       "      <td>30</td>\n",
       "      <td>b</td>\n",
       "    </tr>\n",
       "    <tr>\n",
       "      <th>Marge Simpson</th>\n",
       "      <td>20</td>\n",
       "      <td>c</td>\n",
       "    </tr>\n",
       "    <tr>\n",
       "      <th rowspan=\"3\" valign=\"top\">South Park</th>\n",
       "      <th>Cartman</th>\n",
       "      <td>10</td>\n",
       "      <td>d</td>\n",
       "    </tr>\n",
       "    <tr>\n",
       "      <th>Kenny</th>\n",
       "      <td>9</td>\n",
       "      <td>e</td>\n",
       "    </tr>\n",
       "    <tr>\n",
       "      <th>Kyle</th>\n",
       "      <td>8</td>\n",
       "      <td>f</td>\n",
       "    </tr>\n",
       "  </tbody>\n",
       "</table>\n",
       "</div>"
      ],
      "text/plain": [
       "                         Yas Meslek\n",
       "Film adı   İsim                    \n",
       "Simpson    Homer Simpson  40      a\n",
       "           Bart Simpson   30      b\n",
       "           Marge Simpson  20      c\n",
       "South Park Cartman        10      d\n",
       "           Kenny           9      e\n",
       "           Kyle            8      f"
      ]
     },
     "execution_count": 91,
     "metadata": {},
     "output_type": "execute_result"
    }
   ],
   "source": [
    "cizgiDataFrame"
   ]
  },
  {
   "cell_type": "markdown",
   "id": "d80d10f6",
   "metadata": {},
   "source": [
    "# Pandas Operasyonları"
   ]
  },
  {
   "cell_type": "code",
   "execution_count": 92,
   "id": "55d17d95",
   "metadata": {},
   "outputs": [],
   "source": [
    "import pandas as pd\n",
    "import numpy as np\n",
    "\n",
    "data = [[10,20,np.nan],[10,np.nan,15],[20,16,30]]"
   ]
  },
  {
   "cell_type": "code",
   "execution_count": 93,
   "id": "0cb6e01d",
   "metadata": {},
   "outputs": [],
   "source": [
    "havaDurumuDataFrame = pd.DataFrame(data,index =[\"salı\",\"cars\",\"pers\"],columns=[\"ıstanbul\",\"ankara\",\"izmir\"])"
   ]
  },
  {
   "cell_type": "code",
   "execution_count": 94,
   "id": "115c83be",
   "metadata": {},
   "outputs": [
    {
     "data": {
      "text/html": [
       "<div>\n",
       "<style scoped>\n",
       "    .dataframe tbody tr th:only-of-type {\n",
       "        vertical-align: middle;\n",
       "    }\n",
       "\n",
       "    .dataframe tbody tr th {\n",
       "        vertical-align: top;\n",
       "    }\n",
       "\n",
       "    .dataframe thead th {\n",
       "        text-align: right;\n",
       "    }\n",
       "</style>\n",
       "<table border=\"1\" class=\"dataframe\">\n",
       "  <thead>\n",
       "    <tr style=\"text-align: right;\">\n",
       "      <th></th>\n",
       "      <th>ıstanbul</th>\n",
       "      <th>ankara</th>\n",
       "      <th>izmir</th>\n",
       "    </tr>\n",
       "  </thead>\n",
       "  <tbody>\n",
       "    <tr>\n",
       "      <th>salı</th>\n",
       "      <td>10</td>\n",
       "      <td>20.0</td>\n",
       "      <td>NaN</td>\n",
       "    </tr>\n",
       "    <tr>\n",
       "      <th>cars</th>\n",
       "      <td>10</td>\n",
       "      <td>NaN</td>\n",
       "      <td>15.0</td>\n",
       "    </tr>\n",
       "    <tr>\n",
       "      <th>pers</th>\n",
       "      <td>20</td>\n",
       "      <td>16.0</td>\n",
       "      <td>30.0</td>\n",
       "    </tr>\n",
       "  </tbody>\n",
       "</table>\n",
       "</div>"
      ],
      "text/plain": [
       "      ıstanbul  ankara  izmir\n",
       "salı        10    20.0    NaN\n",
       "cars        10     NaN   15.0\n",
       "pers        20    16.0   30.0"
      ]
     },
     "execution_count": 94,
     "metadata": {},
     "output_type": "execute_result"
    }
   ],
   "source": [
    "havaDurumuDataFrame "
   ]
  },
  {
   "cell_type": "code",
   "execution_count": 95,
   "id": "5315d0fd",
   "metadata": {},
   "outputs": [
    {
     "data": {
      "text/html": [
       "<div>\n",
       "<style scoped>\n",
       "    .dataframe tbody tr th:only-of-type {\n",
       "        vertical-align: middle;\n",
       "    }\n",
       "\n",
       "    .dataframe tbody tr th {\n",
       "        vertical-align: top;\n",
       "    }\n",
       "\n",
       "    .dataframe thead th {\n",
       "        text-align: right;\n",
       "    }\n",
       "</style>\n",
       "<table border=\"1\" class=\"dataframe\">\n",
       "  <thead>\n",
       "    <tr style=\"text-align: right;\">\n",
       "      <th></th>\n",
       "      <th>ıstanbul</th>\n",
       "      <th>ankara</th>\n",
       "      <th>izmir</th>\n",
       "    </tr>\n",
       "  </thead>\n",
       "  <tbody>\n",
       "    <tr>\n",
       "      <th>pers</th>\n",
       "      <td>20</td>\n",
       "      <td>16.0</td>\n",
       "      <td>30.0</td>\n",
       "    </tr>\n",
       "  </tbody>\n",
       "</table>\n",
       "</div>"
      ],
      "text/plain": [
       "      ıstanbul  ankara  izmir\n",
       "pers        20    16.0   30.0"
      ]
     },
     "execution_count": 95,
     "metadata": {},
     "output_type": "execute_result"
    }
   ],
   "source": [
    "havaDurumuDataFrame.dropna()  #non available olan satırlar gitti."
   ]
  },
  {
   "cell_type": "code",
   "execution_count": 96,
   "id": "56c6def8",
   "metadata": {},
   "outputs": [
    {
     "data": {
      "text/html": [
       "<div>\n",
       "<style scoped>\n",
       "    .dataframe tbody tr th:only-of-type {\n",
       "        vertical-align: middle;\n",
       "    }\n",
       "\n",
       "    .dataframe tbody tr th {\n",
       "        vertical-align: top;\n",
       "    }\n",
       "\n",
       "    .dataframe thead th {\n",
       "        text-align: right;\n",
       "    }\n",
       "</style>\n",
       "<table border=\"1\" class=\"dataframe\">\n",
       "  <thead>\n",
       "    <tr style=\"text-align: right;\">\n",
       "      <th></th>\n",
       "      <th>ıstanbul</th>\n",
       "    </tr>\n",
       "  </thead>\n",
       "  <tbody>\n",
       "    <tr>\n",
       "      <th>salı</th>\n",
       "      <td>10</td>\n",
       "    </tr>\n",
       "    <tr>\n",
       "      <th>cars</th>\n",
       "      <td>10</td>\n",
       "    </tr>\n",
       "    <tr>\n",
       "      <th>pers</th>\n",
       "      <td>20</td>\n",
       "    </tr>\n",
       "  </tbody>\n",
       "</table>\n",
       "</div>"
      ],
      "text/plain": [
       "      ıstanbul\n",
       "salı        10\n",
       "cars        10\n",
       "pers        20"
      ]
     },
     "execution_count": 96,
     "metadata": {},
     "output_type": "execute_result"
    }
   ],
   "source": [
    "havaDurumuDataFrame.dropna(axis=1) #na olan sütunlar gitti"
   ]
  },
  {
   "cell_type": "code",
   "execution_count": 97,
   "id": "193f9c8b",
   "metadata": {},
   "outputs": [],
   "source": [
    "havaDurumuDataFrame.dropna(axis=1, inplace= True)"
   ]
  },
  {
   "cell_type": "code",
   "execution_count": 98,
   "id": "8d0b23f7",
   "metadata": {},
   "outputs": [
    {
     "data": {
      "text/html": [
       "<div>\n",
       "<style scoped>\n",
       "    .dataframe tbody tr th:only-of-type {\n",
       "        vertical-align: middle;\n",
       "    }\n",
       "\n",
       "    .dataframe tbody tr th {\n",
       "        vertical-align: top;\n",
       "    }\n",
       "\n",
       "    .dataframe thead th {\n",
       "        text-align: right;\n",
       "    }\n",
       "</style>\n",
       "<table border=\"1\" class=\"dataframe\">\n",
       "  <thead>\n",
       "    <tr style=\"text-align: right;\">\n",
       "      <th></th>\n",
       "      <th>ıstanbul</th>\n",
       "    </tr>\n",
       "  </thead>\n",
       "  <tbody>\n",
       "    <tr>\n",
       "      <th>salı</th>\n",
       "      <td>10</td>\n",
       "    </tr>\n",
       "    <tr>\n",
       "      <th>cars</th>\n",
       "      <td>10</td>\n",
       "    </tr>\n",
       "    <tr>\n",
       "      <th>pers</th>\n",
       "      <td>20</td>\n",
       "    </tr>\n",
       "  </tbody>\n",
       "</table>\n",
       "</div>"
      ],
      "text/plain": [
       "      ıstanbul\n",
       "salı        10\n",
       "cars        10\n",
       "pers        20"
      ]
     },
     "execution_count": 98,
     "metadata": {},
     "output_type": "execute_result"
    }
   ],
   "source": [
    "havaDurumuDataFrame"
   ]
  },
  {
   "cell_type": "code",
   "execution_count": 99,
   "id": "236f315b",
   "metadata": {},
   "outputs": [],
   "source": [
    "sozlukVerisi = pd.DataFrame({\"İstanbul\":[np.nan,20,30],\"izmir\":[12,30,65],\"İzmit\":[30,np.nan,np.nan]},index = [\"pazartesi\",\"salı\",\"çarşamba\"])"
   ]
  },
  {
   "cell_type": "code",
   "execution_count": 100,
   "id": "4d694167",
   "metadata": {},
   "outputs": [
    {
     "data": {
      "text/html": [
       "<div>\n",
       "<style scoped>\n",
       "    .dataframe tbody tr th:only-of-type {\n",
       "        vertical-align: middle;\n",
       "    }\n",
       "\n",
       "    .dataframe tbody tr th {\n",
       "        vertical-align: top;\n",
       "    }\n",
       "\n",
       "    .dataframe thead th {\n",
       "        text-align: right;\n",
       "    }\n",
       "</style>\n",
       "<table border=\"1\" class=\"dataframe\">\n",
       "  <thead>\n",
       "    <tr style=\"text-align: right;\">\n",
       "      <th></th>\n",
       "      <th>İstanbul</th>\n",
       "      <th>izmir</th>\n",
       "      <th>İzmit</th>\n",
       "    </tr>\n",
       "  </thead>\n",
       "  <tbody>\n",
       "    <tr>\n",
       "      <th>pazartesi</th>\n",
       "      <td>NaN</td>\n",
       "      <td>12</td>\n",
       "      <td>30.0</td>\n",
       "    </tr>\n",
       "    <tr>\n",
       "      <th>salı</th>\n",
       "      <td>20.0</td>\n",
       "      <td>30</td>\n",
       "      <td>NaN</td>\n",
       "    </tr>\n",
       "    <tr>\n",
       "      <th>çarşamba</th>\n",
       "      <td>30.0</td>\n",
       "      <td>65</td>\n",
       "      <td>NaN</td>\n",
       "    </tr>\n",
       "  </tbody>\n",
       "</table>\n",
       "</div>"
      ],
      "text/plain": [
       "           İstanbul  izmir  İzmit\n",
       "pazartesi       NaN     12   30.0\n",
       "salı           20.0     30    NaN\n",
       "çarşamba       30.0     65    NaN"
      ]
     },
     "execution_count": 100,
     "metadata": {},
     "output_type": "execute_result"
    }
   ],
   "source": [
    "sozlukVerisi"
   ]
  },
  {
   "cell_type": "code",
   "execution_count": 101,
   "id": "88ac817e",
   "metadata": {},
   "outputs": [
    {
     "data": {
      "text/html": [
       "<div>\n",
       "<style scoped>\n",
       "    .dataframe tbody tr th:only-of-type {\n",
       "        vertical-align: middle;\n",
       "    }\n",
       "\n",
       "    .dataframe tbody tr th {\n",
       "        vertical-align: top;\n",
       "    }\n",
       "\n",
       "    .dataframe thead th {\n",
       "        text-align: right;\n",
       "    }\n",
       "</style>\n",
       "<table border=\"1\" class=\"dataframe\">\n",
       "  <thead>\n",
       "    <tr style=\"text-align: right;\">\n",
       "      <th></th>\n",
       "      <th>İstanbul</th>\n",
       "      <th>izmir</th>\n",
       "    </tr>\n",
       "  </thead>\n",
       "  <tbody>\n",
       "    <tr>\n",
       "      <th>pazartesi</th>\n",
       "      <td>NaN</td>\n",
       "      <td>12</td>\n",
       "    </tr>\n",
       "    <tr>\n",
       "      <th>salı</th>\n",
       "      <td>20.0</td>\n",
       "      <td>30</td>\n",
       "    </tr>\n",
       "    <tr>\n",
       "      <th>çarşamba</th>\n",
       "      <td>30.0</td>\n",
       "      <td>65</td>\n",
       "    </tr>\n",
       "  </tbody>\n",
       "</table>\n",
       "</div>"
      ],
      "text/plain": [
       "           İstanbul  izmir\n",
       "pazartesi       NaN     12\n",
       "salı           20.0     30\n",
       "çarşamba       30.0     65"
      ]
     },
     "execution_count": 101,
     "metadata": {},
     "output_type": "execute_result"
    }
   ],
   "source": [
    "sozlukVerisi.dropna(axis=1, thresh=2)  #sütunlarda 2 nan olan gider."
   ]
  },
  {
   "cell_type": "code",
   "execution_count": 102,
   "id": "803eb202",
   "metadata": {},
   "outputs": [
    {
     "data": {
      "text/html": [
       "<div>\n",
       "<style scoped>\n",
       "    .dataframe tbody tr th:only-of-type {\n",
       "        vertical-align: middle;\n",
       "    }\n",
       "\n",
       "    .dataframe tbody tr th {\n",
       "        vertical-align: top;\n",
       "    }\n",
       "\n",
       "    .dataframe thead th {\n",
       "        text-align: right;\n",
       "    }\n",
       "</style>\n",
       "<table border=\"1\" class=\"dataframe\">\n",
       "  <thead>\n",
       "    <tr style=\"text-align: right;\">\n",
       "      <th></th>\n",
       "      <th>izmir</th>\n",
       "    </tr>\n",
       "  </thead>\n",
       "  <tbody>\n",
       "    <tr>\n",
       "      <th>pazartesi</th>\n",
       "      <td>12</td>\n",
       "    </tr>\n",
       "    <tr>\n",
       "      <th>salı</th>\n",
       "      <td>30</td>\n",
       "    </tr>\n",
       "    <tr>\n",
       "      <th>çarşamba</th>\n",
       "      <td>65</td>\n",
       "    </tr>\n",
       "  </tbody>\n",
       "</table>\n",
       "</div>"
      ],
      "text/plain": [
       "           izmir\n",
       "pazartesi     12\n",
       "salı          30\n",
       "çarşamba      65"
      ]
     },
     "execution_count": 102,
     "metadata": {},
     "output_type": "execute_result"
    }
   ],
   "source": [
    "sozlukVerisi.dropna(axis=1)"
   ]
  },
  {
   "cell_type": "code",
   "execution_count": 103,
   "id": "bc23a396",
   "metadata": {},
   "outputs": [],
   "source": [
    "sozlukVerisi[\"Konya\"] = [20,30,40]"
   ]
  },
  {
   "cell_type": "code",
   "execution_count": 104,
   "id": "702ce43b",
   "metadata": {},
   "outputs": [
    {
     "data": {
      "text/html": [
       "<div>\n",
       "<style scoped>\n",
       "    .dataframe tbody tr th:only-of-type {\n",
       "        vertical-align: middle;\n",
       "    }\n",
       "\n",
       "    .dataframe tbody tr th {\n",
       "        vertical-align: top;\n",
       "    }\n",
       "\n",
       "    .dataframe thead th {\n",
       "        text-align: right;\n",
       "    }\n",
       "</style>\n",
       "<table border=\"1\" class=\"dataframe\">\n",
       "  <thead>\n",
       "    <tr style=\"text-align: right;\">\n",
       "      <th></th>\n",
       "      <th>İstanbul</th>\n",
       "      <th>izmir</th>\n",
       "      <th>İzmit</th>\n",
       "      <th>Konya</th>\n",
       "    </tr>\n",
       "  </thead>\n",
       "  <tbody>\n",
       "    <tr>\n",
       "      <th>pazartesi</th>\n",
       "      <td>NaN</td>\n",
       "      <td>12</td>\n",
       "      <td>30.0</td>\n",
       "      <td>20</td>\n",
       "    </tr>\n",
       "    <tr>\n",
       "      <th>salı</th>\n",
       "      <td>20.0</td>\n",
       "      <td>30</td>\n",
       "      <td>NaN</td>\n",
       "      <td>30</td>\n",
       "    </tr>\n",
       "    <tr>\n",
       "      <th>çarşamba</th>\n",
       "      <td>30.0</td>\n",
       "      <td>65</td>\n",
       "      <td>NaN</td>\n",
       "      <td>40</td>\n",
       "    </tr>\n",
       "  </tbody>\n",
       "</table>\n",
       "</div>"
      ],
      "text/plain": [
       "           İstanbul  izmir  İzmit  Konya\n",
       "pazartesi       NaN     12   30.0     20\n",
       "salı           20.0     30    NaN     30\n",
       "çarşamba       30.0     65    NaN     40"
      ]
     },
     "execution_count": 104,
     "metadata": {},
     "output_type": "execute_result"
    }
   ],
   "source": [
    "sozlukVerisi"
   ]
  },
  {
   "cell_type": "code",
   "execution_count": 105,
   "id": "dee26d10",
   "metadata": {},
   "outputs": [],
   "source": [
    "sozlukVerisi.fillna(5,inplace=True)        #fillna: boşlukları 5 doldurur."
   ]
  },
  {
   "cell_type": "code",
   "execution_count": 106,
   "id": "76ef1be7",
   "metadata": {},
   "outputs": [
    {
     "data": {
      "text/html": [
       "<div>\n",
       "<style scoped>\n",
       "    .dataframe tbody tr th:only-of-type {\n",
       "        vertical-align: middle;\n",
       "    }\n",
       "\n",
       "    .dataframe tbody tr th {\n",
       "        vertical-align: top;\n",
       "    }\n",
       "\n",
       "    .dataframe thead th {\n",
       "        text-align: right;\n",
       "    }\n",
       "</style>\n",
       "<table border=\"1\" class=\"dataframe\">\n",
       "  <thead>\n",
       "    <tr style=\"text-align: right;\">\n",
       "      <th></th>\n",
       "      <th>İstanbul</th>\n",
       "      <th>izmir</th>\n",
       "      <th>İzmit</th>\n",
       "      <th>Konya</th>\n",
       "    </tr>\n",
       "  </thead>\n",
       "  <tbody>\n",
       "    <tr>\n",
       "      <th>pazartesi</th>\n",
       "      <td>5.0</td>\n",
       "      <td>12</td>\n",
       "      <td>30.0</td>\n",
       "      <td>20</td>\n",
       "    </tr>\n",
       "    <tr>\n",
       "      <th>salı</th>\n",
       "      <td>20.0</td>\n",
       "      <td>30</td>\n",
       "      <td>5.0</td>\n",
       "      <td>30</td>\n",
       "    </tr>\n",
       "    <tr>\n",
       "      <th>çarşamba</th>\n",
       "      <td>30.0</td>\n",
       "      <td>65</td>\n",
       "      <td>5.0</td>\n",
       "      <td>40</td>\n",
       "    </tr>\n",
       "  </tbody>\n",
       "</table>\n",
       "</div>"
      ],
      "text/plain": [
       "           İstanbul  izmir  İzmit  Konya\n",
       "pazartesi       5.0     12   30.0     20\n",
       "salı           20.0     30    5.0     30\n",
       "çarşamba       30.0     65    5.0     40"
      ]
     },
     "execution_count": 106,
     "metadata": {},
     "output_type": "execute_result"
    }
   ],
   "source": [
    "sozlukVerisi"
   ]
  },
  {
   "cell_type": "markdown",
   "id": "d50d498c",
   "metadata": {},
   "source": [
    "# Groupby"
   ]
  },
  {
   "cell_type": "code",
   "execution_count": 107,
   "id": "90a3333a",
   "metadata": {},
   "outputs": [],
   "source": [
    "import numpy as np\n",
    "import pandas as pd"
   ]
  },
  {
   "cell_type": "code",
   "execution_count": 108,
   "id": "27eec9c0",
   "metadata": {},
   "outputs": [],
   "source": [
    "maasSozlugu = {\"Departmanlar\" : [\"Yazılım\",\"Satış\",\"Finans\",\"Pazarlama\",\"İnsan Kaynakları\",\"Hukuk\"],\n",
    "               \"Calışan İsmi\": [\"zeliha\",\"merthan\",\"firdevs\",\"büsra\",\"mine\",\"rasit\"],\n",
    "               \"Maas\" : [1500,3000,20000,6000,8000,4000]\n",
    "              }"
   ]
  },
  {
   "cell_type": "code",
   "execution_count": 109,
   "id": "b004b8ac",
   "metadata": {},
   "outputs": [],
   "source": [
    "maasDataFrame = pd.DataFrame(maasSozlugu)"
   ]
  },
  {
   "cell_type": "code",
   "execution_count": 110,
   "id": "a486d127",
   "metadata": {},
   "outputs": [
    {
     "data": {
      "text/html": [
       "<div>\n",
       "<style scoped>\n",
       "    .dataframe tbody tr th:only-of-type {\n",
       "        vertical-align: middle;\n",
       "    }\n",
       "\n",
       "    .dataframe tbody tr th {\n",
       "        vertical-align: top;\n",
       "    }\n",
       "\n",
       "    .dataframe thead th {\n",
       "        text-align: right;\n",
       "    }\n",
       "</style>\n",
       "<table border=\"1\" class=\"dataframe\">\n",
       "  <thead>\n",
       "    <tr style=\"text-align: right;\">\n",
       "      <th></th>\n",
       "      <th>Departmanlar</th>\n",
       "      <th>Calışan İsmi</th>\n",
       "      <th>Maas</th>\n",
       "    </tr>\n",
       "  </thead>\n",
       "  <tbody>\n",
       "    <tr>\n",
       "      <th>0</th>\n",
       "      <td>Yazılım</td>\n",
       "      <td>zeliha</td>\n",
       "      <td>1500</td>\n",
       "    </tr>\n",
       "    <tr>\n",
       "      <th>1</th>\n",
       "      <td>Satış</td>\n",
       "      <td>merthan</td>\n",
       "      <td>3000</td>\n",
       "    </tr>\n",
       "    <tr>\n",
       "      <th>2</th>\n",
       "      <td>Finans</td>\n",
       "      <td>firdevs</td>\n",
       "      <td>20000</td>\n",
       "    </tr>\n",
       "    <tr>\n",
       "      <th>3</th>\n",
       "      <td>Pazarlama</td>\n",
       "      <td>büsra</td>\n",
       "      <td>6000</td>\n",
       "    </tr>\n",
       "    <tr>\n",
       "      <th>4</th>\n",
       "      <td>İnsan Kaynakları</td>\n",
       "      <td>mine</td>\n",
       "      <td>8000</td>\n",
       "    </tr>\n",
       "    <tr>\n",
       "      <th>5</th>\n",
       "      <td>Hukuk</td>\n",
       "      <td>rasit</td>\n",
       "      <td>4000</td>\n",
       "    </tr>\n",
       "  </tbody>\n",
       "</table>\n",
       "</div>"
      ],
      "text/plain": [
       "       Departmanlar Calışan İsmi   Maas\n",
       "0           Yazılım       zeliha   1500\n",
       "1             Satış      merthan   3000\n",
       "2            Finans      firdevs  20000\n",
       "3         Pazarlama        büsra   6000\n",
       "4  İnsan Kaynakları         mine   8000\n",
       "5             Hukuk        rasit   4000"
      ]
     },
     "execution_count": 110,
     "metadata": {},
     "output_type": "execute_result"
    }
   ],
   "source": [
    "maasDataFrame"
   ]
  },
  {
   "cell_type": "code",
   "execution_count": 111,
   "id": "2ae6142d",
   "metadata": {},
   "outputs": [],
   "source": [
    "import pandas as pd\n",
    "\n",
    "YeniMaasSozlugu = {\"Departmanlar\" : [\"Yazılım\",\"Yazılım\",\"Finans\",\"Finans\",\"Hukuk\",\"Hukuk\"],\n",
    "               \"Calışan İsmi\": [\"zeliha\",\"merthan\",\"firdevs\",\"büsra\",\"mine\",\"rasit\"],\n",
    "               \"Maas\" : [1500,3000,20000,6000,8000,4000]\n",
    "              }"
   ]
  },
  {
   "cell_type": "code",
   "execution_count": 112,
   "id": "d8ea3c73",
   "metadata": {},
   "outputs": [],
   "source": [
    "maasYeniDataFrame = pd.DataFrame(YeniMaasSozlugu)"
   ]
  },
  {
   "cell_type": "code",
   "execution_count": 113,
   "id": "a7070b30",
   "metadata": {},
   "outputs": [
    {
     "data": {
      "text/html": [
       "<div>\n",
       "<style scoped>\n",
       "    .dataframe tbody tr th:only-of-type {\n",
       "        vertical-align: middle;\n",
       "    }\n",
       "\n",
       "    .dataframe tbody tr th {\n",
       "        vertical-align: top;\n",
       "    }\n",
       "\n",
       "    .dataframe thead th {\n",
       "        text-align: right;\n",
       "    }\n",
       "</style>\n",
       "<table border=\"1\" class=\"dataframe\">\n",
       "  <thead>\n",
       "    <tr style=\"text-align: right;\">\n",
       "      <th></th>\n",
       "      <th>Departmanlar</th>\n",
       "      <th>Calışan İsmi</th>\n",
       "      <th>Maas</th>\n",
       "    </tr>\n",
       "  </thead>\n",
       "  <tbody>\n",
       "    <tr>\n",
       "      <th>0</th>\n",
       "      <td>Yazılım</td>\n",
       "      <td>zeliha</td>\n",
       "      <td>1500</td>\n",
       "    </tr>\n",
       "    <tr>\n",
       "      <th>1</th>\n",
       "      <td>Yazılım</td>\n",
       "      <td>merthan</td>\n",
       "      <td>3000</td>\n",
       "    </tr>\n",
       "    <tr>\n",
       "      <th>2</th>\n",
       "      <td>Finans</td>\n",
       "      <td>firdevs</td>\n",
       "      <td>20000</td>\n",
       "    </tr>\n",
       "    <tr>\n",
       "      <th>3</th>\n",
       "      <td>Finans</td>\n",
       "      <td>büsra</td>\n",
       "      <td>6000</td>\n",
       "    </tr>\n",
       "    <tr>\n",
       "      <th>4</th>\n",
       "      <td>Hukuk</td>\n",
       "      <td>mine</td>\n",
       "      <td>8000</td>\n",
       "    </tr>\n",
       "    <tr>\n",
       "      <th>5</th>\n",
       "      <td>Hukuk</td>\n",
       "      <td>rasit</td>\n",
       "      <td>4000</td>\n",
       "    </tr>\n",
       "  </tbody>\n",
       "</table>\n",
       "</div>"
      ],
      "text/plain": [
       "  Departmanlar Calışan İsmi   Maas\n",
       "0      Yazılım       zeliha   1500\n",
       "1      Yazılım      merthan   3000\n",
       "2       Finans      firdevs  20000\n",
       "3       Finans        büsra   6000\n",
       "4        Hukuk         mine   8000\n",
       "5        Hukuk        rasit   4000"
      ]
     },
     "execution_count": 113,
     "metadata": {},
     "output_type": "execute_result"
    }
   ],
   "source": [
    "maasYeniDataFrame"
   ]
  },
  {
   "cell_type": "code",
   "execution_count": 114,
   "id": "f891db07",
   "metadata": {},
   "outputs": [],
   "source": [
    "grupObjesi = maasYeniDataFrame.groupby(\"Departmanlar\")"
   ]
  },
  {
   "cell_type": "code",
   "execution_count": 115,
   "id": "a8a3b207",
   "metadata": {},
   "outputs": [
    {
     "data": {
      "text/html": [
       "<div>\n",
       "<style scoped>\n",
       "    .dataframe tbody tr th:only-of-type {\n",
       "        vertical-align: middle;\n",
       "    }\n",
       "\n",
       "    .dataframe tbody tr th {\n",
       "        vertical-align: top;\n",
       "    }\n",
       "\n",
       "    .dataframe thead tr th {\n",
       "        text-align: left;\n",
       "    }\n",
       "\n",
       "    .dataframe thead tr:last-of-type th {\n",
       "        text-align: right;\n",
       "    }\n",
       "</style>\n",
       "<table border=\"1\" class=\"dataframe\">\n",
       "  <thead>\n",
       "    <tr>\n",
       "      <th></th>\n",
       "      <th colspan=\"8\" halign=\"left\">Maas</th>\n",
       "    </tr>\n",
       "    <tr>\n",
       "      <th></th>\n",
       "      <th>count</th>\n",
       "      <th>mean</th>\n",
       "      <th>std</th>\n",
       "      <th>min</th>\n",
       "      <th>25%</th>\n",
       "      <th>50%</th>\n",
       "      <th>75%</th>\n",
       "      <th>max</th>\n",
       "    </tr>\n",
       "    <tr>\n",
       "      <th>Departmanlar</th>\n",
       "      <th></th>\n",
       "      <th></th>\n",
       "      <th></th>\n",
       "      <th></th>\n",
       "      <th></th>\n",
       "      <th></th>\n",
       "      <th></th>\n",
       "      <th></th>\n",
       "    </tr>\n",
       "  </thead>\n",
       "  <tbody>\n",
       "    <tr>\n",
       "      <th>Finans</th>\n",
       "      <td>2.0</td>\n",
       "      <td>13000.0</td>\n",
       "      <td>9899.494937</td>\n",
       "      <td>6000.0</td>\n",
       "      <td>9500.0</td>\n",
       "      <td>13000.0</td>\n",
       "      <td>16500.0</td>\n",
       "      <td>20000.0</td>\n",
       "    </tr>\n",
       "    <tr>\n",
       "      <th>Hukuk</th>\n",
       "      <td>2.0</td>\n",
       "      <td>6000.0</td>\n",
       "      <td>2828.427125</td>\n",
       "      <td>4000.0</td>\n",
       "      <td>5000.0</td>\n",
       "      <td>6000.0</td>\n",
       "      <td>7000.0</td>\n",
       "      <td>8000.0</td>\n",
       "    </tr>\n",
       "    <tr>\n",
       "      <th>Yazılım</th>\n",
       "      <td>2.0</td>\n",
       "      <td>2250.0</td>\n",
       "      <td>1060.660172</td>\n",
       "      <td>1500.0</td>\n",
       "      <td>1875.0</td>\n",
       "      <td>2250.0</td>\n",
       "      <td>2625.0</td>\n",
       "      <td>3000.0</td>\n",
       "    </tr>\n",
       "  </tbody>\n",
       "</table>\n",
       "</div>"
      ],
      "text/plain": [
       "              Maas                                                          \\\n",
       "             count     mean          std     min     25%      50%      75%   \n",
       "Departmanlar                                                                 \n",
       "Finans         2.0  13000.0  9899.494937  6000.0  9500.0  13000.0  16500.0   \n",
       "Hukuk          2.0   6000.0  2828.427125  4000.0  5000.0   6000.0   7000.0   \n",
       "Yazılım        2.0   2250.0  1060.660172  1500.0  1875.0   2250.0   2625.0   \n",
       "\n",
       "                       \n",
       "                  max  \n",
       "Departmanlar           \n",
       "Finans        20000.0  \n",
       "Hukuk          8000.0  \n",
       "Yazılım        3000.0  "
      ]
     },
     "execution_count": 115,
     "metadata": {},
     "output_type": "execute_result"
    }
   ],
   "source": [
    "grupObjesi.describe() # özellikleri belirtir.(standart sapma-min-max vb.)"
   ]
  },
  {
   "cell_type": "code",
   "execution_count": 116,
   "id": "4493b6a8",
   "metadata": {},
   "outputs": [
    {
     "data": {
      "text/html": [
       "<div>\n",
       "<style scoped>\n",
       "    .dataframe tbody tr th:only-of-type {\n",
       "        vertical-align: middle;\n",
       "    }\n",
       "\n",
       "    .dataframe tbody tr th {\n",
       "        vertical-align: top;\n",
       "    }\n",
       "\n",
       "    .dataframe thead th {\n",
       "        text-align: right;\n",
       "    }\n",
       "</style>\n",
       "<table border=\"1\" class=\"dataframe\">\n",
       "  <thead>\n",
       "    <tr style=\"text-align: right;\">\n",
       "      <th></th>\n",
       "      <th>Maas</th>\n",
       "    </tr>\n",
       "    <tr>\n",
       "      <th>Departmanlar</th>\n",
       "      <th></th>\n",
       "    </tr>\n",
       "  </thead>\n",
       "  <tbody>\n",
       "    <tr>\n",
       "      <th>Finans</th>\n",
       "      <td>13000.0</td>\n",
       "    </tr>\n",
       "    <tr>\n",
       "      <th>Hukuk</th>\n",
       "      <td>6000.0</td>\n",
       "    </tr>\n",
       "    <tr>\n",
       "      <th>Yazılım</th>\n",
       "      <td>2250.0</td>\n",
       "    </tr>\n",
       "  </tbody>\n",
       "</table>\n",
       "</div>"
      ],
      "text/plain": [
       "                 Maas\n",
       "Departmanlar         \n",
       "Finans        13000.0\n",
       "Hukuk          6000.0\n",
       "Yazılım        2250.0"
      ]
     },
     "execution_count": 116,
     "metadata": {},
     "output_type": "execute_result"
    }
   ],
   "source": [
    "grupObjesi.mean()  # Departmanların ortalama maaşını görürüz."
   ]
  },
  {
   "cell_type": "code",
   "execution_count": 117,
   "id": "5271a149",
   "metadata": {},
   "outputs": [
    {
     "data": {
      "text/html": [
       "<div>\n",
       "<style scoped>\n",
       "    .dataframe tbody tr th:only-of-type {\n",
       "        vertical-align: middle;\n",
       "    }\n",
       "\n",
       "    .dataframe tbody tr th {\n",
       "        vertical-align: top;\n",
       "    }\n",
       "\n",
       "    .dataframe thead th {\n",
       "        text-align: right;\n",
       "    }\n",
       "</style>\n",
       "<table border=\"1\" class=\"dataframe\">\n",
       "  <thead>\n",
       "    <tr style=\"text-align: right;\">\n",
       "      <th></th>\n",
       "      <th>Calışan İsmi</th>\n",
       "      <th>Maas</th>\n",
       "    </tr>\n",
       "    <tr>\n",
       "      <th>Departmanlar</th>\n",
       "      <th></th>\n",
       "      <th></th>\n",
       "    </tr>\n",
       "  </thead>\n",
       "  <tbody>\n",
       "    <tr>\n",
       "      <th>Finans</th>\n",
       "      <td>büsra</td>\n",
       "      <td>6000</td>\n",
       "    </tr>\n",
       "    <tr>\n",
       "      <th>Hukuk</th>\n",
       "      <td>mine</td>\n",
       "      <td>4000</td>\n",
       "    </tr>\n",
       "    <tr>\n",
       "      <th>Yazılım</th>\n",
       "      <td>merthan</td>\n",
       "      <td>1500</td>\n",
       "    </tr>\n",
       "  </tbody>\n",
       "</table>\n",
       "</div>"
      ],
      "text/plain": [
       "             Calışan İsmi  Maas\n",
       "Departmanlar                   \n",
       "Finans              büsra  6000\n",
       "Hukuk                mine  4000\n",
       "Yazılım           merthan  1500"
      ]
     },
     "execution_count": 117,
     "metadata": {},
     "output_type": "execute_result"
    }
   ],
   "source": [
    "grupObjesi.min()  #Departmanların en düşük maaşını görürüz."
   ]
  },
  {
   "cell_type": "code",
   "execution_count": 118,
   "id": "7b821ef0",
   "metadata": {},
   "outputs": [
    {
     "data": {
      "text/html": [
       "<div>\n",
       "<style scoped>\n",
       "    .dataframe tbody tr th:only-of-type {\n",
       "        vertical-align: middle;\n",
       "    }\n",
       "\n",
       "    .dataframe tbody tr th {\n",
       "        vertical-align: top;\n",
       "    }\n",
       "\n",
       "    .dataframe thead th {\n",
       "        text-align: right;\n",
       "    }\n",
       "</style>\n",
       "<table border=\"1\" class=\"dataframe\">\n",
       "  <thead>\n",
       "    <tr style=\"text-align: right;\">\n",
       "      <th></th>\n",
       "      <th>Calışan İsmi</th>\n",
       "      <th>Maas</th>\n",
       "    </tr>\n",
       "    <tr>\n",
       "      <th>Departmanlar</th>\n",
       "      <th></th>\n",
       "      <th></th>\n",
       "    </tr>\n",
       "  </thead>\n",
       "  <tbody>\n",
       "    <tr>\n",
       "      <th>Finans</th>\n",
       "      <td>firdevs</td>\n",
       "      <td>20000</td>\n",
       "    </tr>\n",
       "    <tr>\n",
       "      <th>Hukuk</th>\n",
       "      <td>rasit</td>\n",
       "      <td>8000</td>\n",
       "    </tr>\n",
       "    <tr>\n",
       "      <th>Yazılım</th>\n",
       "      <td>zeliha</td>\n",
       "      <td>3000</td>\n",
       "    </tr>\n",
       "  </tbody>\n",
       "</table>\n",
       "</div>"
      ],
      "text/plain": [
       "             Calışan İsmi   Maas\n",
       "Departmanlar                    \n",
       "Finans            firdevs  20000\n",
       "Hukuk               rasit   8000\n",
       "Yazılım            zeliha   3000"
      ]
     },
     "execution_count": 118,
     "metadata": {},
     "output_type": "execute_result"
    }
   ],
   "source": [
    "grupObjesi.max() # Departmanların en yüksek maaşını görürüz."
   ]
  },
  {
   "cell_type": "code",
   "execution_count": 119,
   "id": "f880a36c",
   "metadata": {},
   "outputs": [
    {
     "data": {
      "text/html": [
       "<div>\n",
       "<style scoped>\n",
       "    .dataframe tbody tr th:only-of-type {\n",
       "        vertical-align: middle;\n",
       "    }\n",
       "\n",
       "    .dataframe tbody tr th {\n",
       "        vertical-align: top;\n",
       "    }\n",
       "\n",
       "    .dataframe thead tr th {\n",
       "        text-align: left;\n",
       "    }\n",
       "\n",
       "    .dataframe thead tr:last-of-type th {\n",
       "        text-align: right;\n",
       "    }\n",
       "</style>\n",
       "<table border=\"1\" class=\"dataframe\">\n",
       "  <thead>\n",
       "    <tr>\n",
       "      <th></th>\n",
       "      <th colspan=\"8\" halign=\"left\">Maas</th>\n",
       "    </tr>\n",
       "    <tr>\n",
       "      <th></th>\n",
       "      <th>count</th>\n",
       "      <th>mean</th>\n",
       "      <th>std</th>\n",
       "      <th>min</th>\n",
       "      <th>25%</th>\n",
       "      <th>50%</th>\n",
       "      <th>75%</th>\n",
       "      <th>max</th>\n",
       "    </tr>\n",
       "    <tr>\n",
       "      <th>Departmanlar</th>\n",
       "      <th></th>\n",
       "      <th></th>\n",
       "      <th></th>\n",
       "      <th></th>\n",
       "      <th></th>\n",
       "      <th></th>\n",
       "      <th></th>\n",
       "      <th></th>\n",
       "    </tr>\n",
       "  </thead>\n",
       "  <tbody>\n",
       "    <tr>\n",
       "      <th>Finans</th>\n",
       "      <td>2.0</td>\n",
       "      <td>13000.0</td>\n",
       "      <td>9899.494937</td>\n",
       "      <td>6000.0</td>\n",
       "      <td>9500.0</td>\n",
       "      <td>13000.0</td>\n",
       "      <td>16500.0</td>\n",
       "      <td>20000.0</td>\n",
       "    </tr>\n",
       "    <tr>\n",
       "      <th>Hukuk</th>\n",
       "      <td>2.0</td>\n",
       "      <td>6000.0</td>\n",
       "      <td>2828.427125</td>\n",
       "      <td>4000.0</td>\n",
       "      <td>5000.0</td>\n",
       "      <td>6000.0</td>\n",
       "      <td>7000.0</td>\n",
       "      <td>8000.0</td>\n",
       "    </tr>\n",
       "    <tr>\n",
       "      <th>Yazılım</th>\n",
       "      <td>2.0</td>\n",
       "      <td>2250.0</td>\n",
       "      <td>1060.660172</td>\n",
       "      <td>1500.0</td>\n",
       "      <td>1875.0</td>\n",
       "      <td>2250.0</td>\n",
       "      <td>2625.0</td>\n",
       "      <td>3000.0</td>\n",
       "    </tr>\n",
       "  </tbody>\n",
       "</table>\n",
       "</div>"
      ],
      "text/plain": [
       "              Maas                                                          \\\n",
       "             count     mean          std     min     25%      50%      75%   \n",
       "Departmanlar                                                                 \n",
       "Finans         2.0  13000.0  9899.494937  6000.0  9500.0  13000.0  16500.0   \n",
       "Hukuk          2.0   6000.0  2828.427125  4000.0  5000.0   6000.0   7000.0   \n",
       "Yazılım        2.0   2250.0  1060.660172  1500.0  1875.0   2250.0   2625.0   \n",
       "\n",
       "                       \n",
       "                  max  \n",
       "Departmanlar           \n",
       "Finans        20000.0  \n",
       "Hukuk          8000.0  \n",
       "Yazılım        3000.0  "
      ]
     },
     "execution_count": 119,
     "metadata": {},
     "output_type": "execute_result"
    }
   ],
   "source": [
    "grupObjesi.describe()  #özellikleri belirtir.(standart sapma-min-max vb.)"
   ]
  },
  {
   "cell_type": "markdown",
   "id": "7e3e6ac2",
   "metadata": {},
   "source": [
    "# Operasyon Devamı"
   ]
  },
  {
   "cell_type": "code",
   "execution_count": 120,
   "id": "0d56b3e8",
   "metadata": {},
   "outputs": [],
   "source": [
    "import numpy as np\n",
    "import pandas as pd"
   ]
  },
  {
   "cell_type": "code",
   "execution_count": 121,
   "id": "54b2efe1",
   "metadata": {},
   "outputs": [],
   "source": [
    " sozluk1 = {\"isim\":[\"zeliha\",\"merthan\",\"büsra\",\"firdevs\"],\n",
    "            \"Spor\":[\"Kosu\",\"yüzme\",\"Kosu\",\"Basketbol\"],\n",
    "           \"Kalori\": [100,200,300,400]}"
   ]
  },
  {
   "cell_type": "code",
   "execution_count": 122,
   "id": "b63377bf",
   "metadata": {},
   "outputs": [],
   "source": [
    "sozluk1DataFrame = pd.DataFrame(sozluk1, index = [0,1,2,3])"
   ]
  },
  {
   "cell_type": "code",
   "execution_count": 123,
   "id": "60f4fc8c",
   "metadata": {},
   "outputs": [
    {
     "data": {
      "text/html": [
       "<div>\n",
       "<style scoped>\n",
       "    .dataframe tbody tr th:only-of-type {\n",
       "        vertical-align: middle;\n",
       "    }\n",
       "\n",
       "    .dataframe tbody tr th {\n",
       "        vertical-align: top;\n",
       "    }\n",
       "\n",
       "    .dataframe thead th {\n",
       "        text-align: right;\n",
       "    }\n",
       "</style>\n",
       "<table border=\"1\" class=\"dataframe\">\n",
       "  <thead>\n",
       "    <tr style=\"text-align: right;\">\n",
       "      <th></th>\n",
       "      <th>isim</th>\n",
       "      <th>Spor</th>\n",
       "      <th>Kalori</th>\n",
       "    </tr>\n",
       "  </thead>\n",
       "  <tbody>\n",
       "    <tr>\n",
       "      <th>0</th>\n",
       "      <td>zeliha</td>\n",
       "      <td>Kosu</td>\n",
       "      <td>100</td>\n",
       "    </tr>\n",
       "    <tr>\n",
       "      <th>1</th>\n",
       "      <td>merthan</td>\n",
       "      <td>yüzme</td>\n",
       "      <td>200</td>\n",
       "    </tr>\n",
       "    <tr>\n",
       "      <th>2</th>\n",
       "      <td>büsra</td>\n",
       "      <td>Kosu</td>\n",
       "      <td>300</td>\n",
       "    </tr>\n",
       "    <tr>\n",
       "      <th>3</th>\n",
       "      <td>firdevs</td>\n",
       "      <td>Basketbol</td>\n",
       "      <td>400</td>\n",
       "    </tr>\n",
       "  </tbody>\n",
       "</table>\n",
       "</div>"
      ],
      "text/plain": [
       "      isim       Spor  Kalori\n",
       "0   zeliha       Kosu     100\n",
       "1  merthan      yüzme     200\n",
       "2    büsra       Kosu     300\n",
       "3  firdevs  Basketbol     400"
      ]
     },
     "execution_count": 123,
     "metadata": {},
     "output_type": "execute_result"
    }
   ],
   "source": [
    "sozluk1DataFrame"
   ]
  },
  {
   "cell_type": "code",
   "execution_count": 124,
   "id": "48f8aaa2",
   "metadata": {},
   "outputs": [],
   "source": [
    "sozluk2 = {\"isim\":[\"rasit\",\"süheda\",\"fadime\",\"hacer\"],\n",
    "            \"Spor\":[\"Kosu\",\"yüzme\",\"Kosu\",\"Basketbol\"],\n",
    "           \"Kalori\": [150,250,350,400]}"
   ]
  },
  {
   "cell_type": "code",
   "execution_count": 125,
   "id": "61d7c75d",
   "metadata": {},
   "outputs": [],
   "source": [
    "sozluk2DataFrame = pd.DataFrame(sozluk2, index = [4,5,6,7])"
   ]
  },
  {
   "cell_type": "code",
   "execution_count": 126,
   "id": "1a4588fd",
   "metadata": {},
   "outputs": [
    {
     "data": {
      "text/html": [
       "<div>\n",
       "<style scoped>\n",
       "    .dataframe tbody tr th:only-of-type {\n",
       "        vertical-align: middle;\n",
       "    }\n",
       "\n",
       "    .dataframe tbody tr th {\n",
       "        vertical-align: top;\n",
       "    }\n",
       "\n",
       "    .dataframe thead th {\n",
       "        text-align: right;\n",
       "    }\n",
       "</style>\n",
       "<table border=\"1\" class=\"dataframe\">\n",
       "  <thead>\n",
       "    <tr style=\"text-align: right;\">\n",
       "      <th></th>\n",
       "      <th>isim</th>\n",
       "      <th>Spor</th>\n",
       "      <th>Kalori</th>\n",
       "    </tr>\n",
       "  </thead>\n",
       "  <tbody>\n",
       "    <tr>\n",
       "      <th>4</th>\n",
       "      <td>rasit</td>\n",
       "      <td>Kosu</td>\n",
       "      <td>150</td>\n",
       "    </tr>\n",
       "    <tr>\n",
       "      <th>5</th>\n",
       "      <td>süheda</td>\n",
       "      <td>yüzme</td>\n",
       "      <td>250</td>\n",
       "    </tr>\n",
       "    <tr>\n",
       "      <th>6</th>\n",
       "      <td>fadime</td>\n",
       "      <td>Kosu</td>\n",
       "      <td>350</td>\n",
       "    </tr>\n",
       "    <tr>\n",
       "      <th>7</th>\n",
       "      <td>hacer</td>\n",
       "      <td>Basketbol</td>\n",
       "      <td>400</td>\n",
       "    </tr>\n",
       "  </tbody>\n",
       "</table>\n",
       "</div>"
      ],
      "text/plain": [
       "     isim       Spor  Kalori\n",
       "4   rasit       Kosu     150\n",
       "5  süheda      yüzme     250\n",
       "6  fadime       Kosu     350\n",
       "7   hacer  Basketbol     400"
      ]
     },
     "execution_count": 126,
     "metadata": {},
     "output_type": "execute_result"
    }
   ],
   "source": [
    "sozluk2DataFrame"
   ]
  },
  {
   "cell_type": "code",
   "execution_count": 127,
   "id": "48acc584",
   "metadata": {},
   "outputs": [],
   "source": [
    "sozluk3 = {\"isim\":[\"halil\",\"mine\",\"elif\",\"emir\"],\n",
    "            \"Spor\":[\"Kosu\",\"badminton\",\"Kosu\",\"tenis\"],\n",
    "           \"Kalori\": [350,450,550,600]}"
   ]
  },
  {
   "cell_type": "code",
   "execution_count": 128,
   "id": "66089a7f",
   "metadata": {},
   "outputs": [],
   "source": [
    "sozluk3DataFrame = pd.DataFrame(sozluk3,index = [8,9,10,11])"
   ]
  },
  {
   "cell_type": "code",
   "execution_count": 129,
   "id": "90693c30",
   "metadata": {},
   "outputs": [
    {
     "data": {
      "text/html": [
       "<div>\n",
       "<style scoped>\n",
       "    .dataframe tbody tr th:only-of-type {\n",
       "        vertical-align: middle;\n",
       "    }\n",
       "\n",
       "    .dataframe tbody tr th {\n",
       "        vertical-align: top;\n",
       "    }\n",
       "\n",
       "    .dataframe thead th {\n",
       "        text-align: right;\n",
       "    }\n",
       "</style>\n",
       "<table border=\"1\" class=\"dataframe\">\n",
       "  <thead>\n",
       "    <tr style=\"text-align: right;\">\n",
       "      <th></th>\n",
       "      <th>isim</th>\n",
       "      <th>Spor</th>\n",
       "      <th>Kalori</th>\n",
       "    </tr>\n",
       "  </thead>\n",
       "  <tbody>\n",
       "    <tr>\n",
       "      <th>8</th>\n",
       "      <td>halil</td>\n",
       "      <td>Kosu</td>\n",
       "      <td>350</td>\n",
       "    </tr>\n",
       "    <tr>\n",
       "      <th>9</th>\n",
       "      <td>mine</td>\n",
       "      <td>badminton</td>\n",
       "      <td>450</td>\n",
       "    </tr>\n",
       "    <tr>\n",
       "      <th>10</th>\n",
       "      <td>elif</td>\n",
       "      <td>Kosu</td>\n",
       "      <td>550</td>\n",
       "    </tr>\n",
       "    <tr>\n",
       "      <th>11</th>\n",
       "      <td>emir</td>\n",
       "      <td>tenis</td>\n",
       "      <td>600</td>\n",
       "    </tr>\n",
       "  </tbody>\n",
       "</table>\n",
       "</div>"
      ],
      "text/plain": [
       "     isim       Spor  Kalori\n",
       "8   halil       Kosu     350\n",
       "9    mine  badminton     450\n",
       "10   elif       Kosu     550\n",
       "11   emir      tenis     600"
      ]
     },
     "execution_count": 129,
     "metadata": {},
     "output_type": "execute_result"
    }
   ],
   "source": [
    "sozluk3DataFrame"
   ]
  },
  {
   "cell_type": "markdown",
   "id": "f7df7aaf",
   "metadata": {},
   "source": [
    "# Concatenation"
   ]
  },
  {
   "cell_type": "code",
   "execution_count": 130,
   "id": "e2a679b5",
   "metadata": {},
   "outputs": [
    {
     "data": {
      "text/html": [
       "<div>\n",
       "<style scoped>\n",
       "    .dataframe tbody tr th:only-of-type {\n",
       "        vertical-align: middle;\n",
       "    }\n",
       "\n",
       "    .dataframe tbody tr th {\n",
       "        vertical-align: top;\n",
       "    }\n",
       "\n",
       "    .dataframe thead th {\n",
       "        text-align: right;\n",
       "    }\n",
       "</style>\n",
       "<table border=\"1\" class=\"dataframe\">\n",
       "  <thead>\n",
       "    <tr style=\"text-align: right;\">\n",
       "      <th></th>\n",
       "      <th>isim</th>\n",
       "      <th>Spor</th>\n",
       "      <th>Kalori</th>\n",
       "    </tr>\n",
       "  </thead>\n",
       "  <tbody>\n",
       "    <tr>\n",
       "      <th>0</th>\n",
       "      <td>zeliha</td>\n",
       "      <td>Kosu</td>\n",
       "      <td>100</td>\n",
       "    </tr>\n",
       "    <tr>\n",
       "      <th>1</th>\n",
       "      <td>merthan</td>\n",
       "      <td>yüzme</td>\n",
       "      <td>200</td>\n",
       "    </tr>\n",
       "    <tr>\n",
       "      <th>2</th>\n",
       "      <td>büsra</td>\n",
       "      <td>Kosu</td>\n",
       "      <td>300</td>\n",
       "    </tr>\n",
       "    <tr>\n",
       "      <th>3</th>\n",
       "      <td>firdevs</td>\n",
       "      <td>Basketbol</td>\n",
       "      <td>400</td>\n",
       "    </tr>\n",
       "    <tr>\n",
       "      <th>4</th>\n",
       "      <td>rasit</td>\n",
       "      <td>Kosu</td>\n",
       "      <td>150</td>\n",
       "    </tr>\n",
       "    <tr>\n",
       "      <th>5</th>\n",
       "      <td>süheda</td>\n",
       "      <td>yüzme</td>\n",
       "      <td>250</td>\n",
       "    </tr>\n",
       "    <tr>\n",
       "      <th>6</th>\n",
       "      <td>fadime</td>\n",
       "      <td>Kosu</td>\n",
       "      <td>350</td>\n",
       "    </tr>\n",
       "    <tr>\n",
       "      <th>7</th>\n",
       "      <td>hacer</td>\n",
       "      <td>Basketbol</td>\n",
       "      <td>400</td>\n",
       "    </tr>\n",
       "    <tr>\n",
       "      <th>8</th>\n",
       "      <td>halil</td>\n",
       "      <td>Kosu</td>\n",
       "      <td>350</td>\n",
       "    </tr>\n",
       "    <tr>\n",
       "      <th>9</th>\n",
       "      <td>mine</td>\n",
       "      <td>badminton</td>\n",
       "      <td>450</td>\n",
       "    </tr>\n",
       "    <tr>\n",
       "      <th>10</th>\n",
       "      <td>elif</td>\n",
       "      <td>Kosu</td>\n",
       "      <td>550</td>\n",
       "    </tr>\n",
       "    <tr>\n",
       "      <th>11</th>\n",
       "      <td>emir</td>\n",
       "      <td>tenis</td>\n",
       "      <td>600</td>\n",
       "    </tr>\n",
       "  </tbody>\n",
       "</table>\n",
       "</div>"
      ],
      "text/plain": [
       "       isim       Spor  Kalori\n",
       "0    zeliha       Kosu     100\n",
       "1   merthan      yüzme     200\n",
       "2     büsra       Kosu     300\n",
       "3   firdevs  Basketbol     400\n",
       "4     rasit       Kosu     150\n",
       "5    süheda      yüzme     250\n",
       "6    fadime       Kosu     350\n",
       "7     hacer  Basketbol     400\n",
       "8     halil       Kosu     350\n",
       "9      mine  badminton     450\n",
       "10     elif       Kosu     550\n",
       "11     emir      tenis     600"
      ]
     },
     "execution_count": 130,
     "metadata": {},
     "output_type": "execute_result"
    }
   ],
   "source": [
    "pd.concat([sozluk1DataFrame,sozluk2DataFrame,sozluk3DataFrame], axis = 0) #birlestirdik"
   ]
  },
  {
   "cell_type": "markdown",
   "id": "4c578645",
   "metadata": {},
   "source": [
    "# Merge : birleştirmek"
   ]
  },
  {
   "cell_type": "code",
   "execution_count": 131,
   "id": "90e81a45",
   "metadata": {},
   "outputs": [],
   "source": [
    "mergeSozluk1 = {\"isim\":[\"Zeliha\",\"Merthan\",\"Büsra\"],\n",
    "               \"Spor\":[\"Kosu\",\"Basketbol\",\"Yüzme\"],\n",
    "               }"
   ]
  },
  {
   "cell_type": "code",
   "execution_count": 132,
   "id": "0353a335",
   "metadata": {},
   "outputs": [],
   "source": [
    "DataFrame1 = pd.DataFrame(mergeSozluk1, index = [0,1,2] )"
   ]
  },
  {
   "cell_type": "code",
   "execution_count": 133,
   "id": "940da66f",
   "metadata": {},
   "outputs": [
    {
     "data": {
      "text/html": [
       "<div>\n",
       "<style scoped>\n",
       "    .dataframe tbody tr th:only-of-type {\n",
       "        vertical-align: middle;\n",
       "    }\n",
       "\n",
       "    .dataframe tbody tr th {\n",
       "        vertical-align: top;\n",
       "    }\n",
       "\n",
       "    .dataframe thead th {\n",
       "        text-align: right;\n",
       "    }\n",
       "</style>\n",
       "<table border=\"1\" class=\"dataframe\">\n",
       "  <thead>\n",
       "    <tr style=\"text-align: right;\">\n",
       "      <th></th>\n",
       "      <th>isim</th>\n",
       "      <th>Spor</th>\n",
       "    </tr>\n",
       "  </thead>\n",
       "  <tbody>\n",
       "    <tr>\n",
       "      <th>0</th>\n",
       "      <td>Zeliha</td>\n",
       "      <td>Kosu</td>\n",
       "    </tr>\n",
       "    <tr>\n",
       "      <th>1</th>\n",
       "      <td>Merthan</td>\n",
       "      <td>Basketbol</td>\n",
       "    </tr>\n",
       "    <tr>\n",
       "      <th>2</th>\n",
       "      <td>Büsra</td>\n",
       "      <td>Yüzme</td>\n",
       "    </tr>\n",
       "  </tbody>\n",
       "</table>\n",
       "</div>"
      ],
      "text/plain": [
       "      isim       Spor\n",
       "0   Zeliha       Kosu\n",
       "1  Merthan  Basketbol\n",
       "2    Büsra      Yüzme"
      ]
     },
     "execution_count": 133,
     "metadata": {},
     "output_type": "execute_result"
    }
   ],
   "source": [
    "DataFrame1"
   ]
  },
  {
   "cell_type": "code",
   "execution_count": 134,
   "id": "80b14f81",
   "metadata": {},
   "outputs": [],
   "source": [
    "mergeSozluk2 = {\"isim\":[\"Zeliha\",\"Merthan\",\"Büsra\"],\n",
    "               \"Kalori\":[200,300,400]}"
   ]
  },
  {
   "cell_type": "code",
   "execution_count": 135,
   "id": "f089ca10",
   "metadata": {},
   "outputs": [],
   "source": [
    "DataFrame2  = pd.DataFrame(mergeSozluk2, index = [0,1,2])"
   ]
  },
  {
   "cell_type": "code",
   "execution_count": 136,
   "id": "a692d83c",
   "metadata": {},
   "outputs": [
    {
     "data": {
      "text/html": [
       "<div>\n",
       "<style scoped>\n",
       "    .dataframe tbody tr th:only-of-type {\n",
       "        vertical-align: middle;\n",
       "    }\n",
       "\n",
       "    .dataframe tbody tr th {\n",
       "        vertical-align: top;\n",
       "    }\n",
       "\n",
       "    .dataframe thead th {\n",
       "        text-align: right;\n",
       "    }\n",
       "</style>\n",
       "<table border=\"1\" class=\"dataframe\">\n",
       "  <thead>\n",
       "    <tr style=\"text-align: right;\">\n",
       "      <th></th>\n",
       "      <th>isim</th>\n",
       "      <th>Kalori</th>\n",
       "    </tr>\n",
       "  </thead>\n",
       "  <tbody>\n",
       "    <tr>\n",
       "      <th>0</th>\n",
       "      <td>Zeliha</td>\n",
       "      <td>200</td>\n",
       "    </tr>\n",
       "    <tr>\n",
       "      <th>1</th>\n",
       "      <td>Merthan</td>\n",
       "      <td>300</td>\n",
       "    </tr>\n",
       "    <tr>\n",
       "      <th>2</th>\n",
       "      <td>Büsra</td>\n",
       "      <td>400</td>\n",
       "    </tr>\n",
       "  </tbody>\n",
       "</table>\n",
       "</div>"
      ],
      "text/plain": [
       "      isim  Kalori\n",
       "0   Zeliha     200\n",
       "1  Merthan     300\n",
       "2    Büsra     400"
      ]
     },
     "execution_count": 136,
     "metadata": {},
     "output_type": "execute_result"
    }
   ],
   "source": [
    "DataFrame2"
   ]
  },
  {
   "cell_type": "code",
   "execution_count": 137,
   "id": "d4326237",
   "metadata": {},
   "outputs": [
    {
     "data": {
      "text/html": [
       "<div>\n",
       "<style scoped>\n",
       "    .dataframe tbody tr th:only-of-type {\n",
       "        vertical-align: middle;\n",
       "    }\n",
       "\n",
       "    .dataframe tbody tr th {\n",
       "        vertical-align: top;\n",
       "    }\n",
       "\n",
       "    .dataframe thead th {\n",
       "        text-align: right;\n",
       "    }\n",
       "</style>\n",
       "<table border=\"1\" class=\"dataframe\">\n",
       "  <thead>\n",
       "    <tr style=\"text-align: right;\">\n",
       "      <th></th>\n",
       "      <th>isim</th>\n",
       "      <th>Spor</th>\n",
       "      <th>Kalori</th>\n",
       "    </tr>\n",
       "  </thead>\n",
       "  <tbody>\n",
       "    <tr>\n",
       "      <th>0</th>\n",
       "      <td>Zeliha</td>\n",
       "      <td>Kosu</td>\n",
       "      <td>200</td>\n",
       "    </tr>\n",
       "    <tr>\n",
       "      <th>1</th>\n",
       "      <td>Merthan</td>\n",
       "      <td>Basketbol</td>\n",
       "      <td>300</td>\n",
       "    </tr>\n",
       "    <tr>\n",
       "      <th>2</th>\n",
       "      <td>Büsra</td>\n",
       "      <td>Yüzme</td>\n",
       "      <td>400</td>\n",
       "    </tr>\n",
       "  </tbody>\n",
       "</table>\n",
       "</div>"
      ],
      "text/plain": [
       "      isim       Spor  Kalori\n",
       "0   Zeliha       Kosu     200\n",
       "1  Merthan  Basketbol     300\n",
       "2    Büsra      Yüzme     400"
      ]
     },
     "execution_count": 137,
     "metadata": {},
     "output_type": "execute_result"
    }
   ],
   "source": [
    "pd.merge(DataFrame1,DataFrame2,on = \"isim\")  #isim bloğu sabit "
   ]
  },
  {
   "cell_type": "code",
   "execution_count": 138,
   "id": "264862b2",
   "metadata": {},
   "outputs": [],
   "source": [
    "import numpy as np\n",
    "import pandas as pd"
   ]
  },
  {
   "cell_type": "code",
   "execution_count": 139,
   "id": "345d2139",
   "metadata": {},
   "outputs": [],
   "source": [
    "maasSozluk = {\"İsimler\": [\"Merthan\",\"Zeliha\",\"Büsra\",\"Firdevs\"],\n",
    "              \"Departman\": [\"Yazılım\",\"Satiş\",\"Pazarlama\",\"Yazılım\"],\n",
    "              \"Maas\": [100,200,300,400],\n",
    "             }"
   ]
  },
  {
   "cell_type": "code",
   "execution_count": 140,
   "id": "0e9ebed8",
   "metadata": {},
   "outputs": [],
   "source": [
    "maasDataFrame = pd.DataFrame(maasSozluk)"
   ]
  },
  {
   "cell_type": "code",
   "execution_count": 141,
   "id": "b00b2148",
   "metadata": {},
   "outputs": [
    {
     "data": {
      "text/html": [
       "<div>\n",
       "<style scoped>\n",
       "    .dataframe tbody tr th:only-of-type {\n",
       "        vertical-align: middle;\n",
       "    }\n",
       "\n",
       "    .dataframe tbody tr th {\n",
       "        vertical-align: top;\n",
       "    }\n",
       "\n",
       "    .dataframe thead th {\n",
       "        text-align: right;\n",
       "    }\n",
       "</style>\n",
       "<table border=\"1\" class=\"dataframe\">\n",
       "  <thead>\n",
       "    <tr style=\"text-align: right;\">\n",
       "      <th></th>\n",
       "      <th>İsimler</th>\n",
       "      <th>Departman</th>\n",
       "      <th>Maas</th>\n",
       "    </tr>\n",
       "  </thead>\n",
       "  <tbody>\n",
       "    <tr>\n",
       "      <th>0</th>\n",
       "      <td>Merthan</td>\n",
       "      <td>Yazılım</td>\n",
       "      <td>100</td>\n",
       "    </tr>\n",
       "    <tr>\n",
       "      <th>1</th>\n",
       "      <td>Zeliha</td>\n",
       "      <td>Satiş</td>\n",
       "      <td>200</td>\n",
       "    </tr>\n",
       "    <tr>\n",
       "      <th>2</th>\n",
       "      <td>Büsra</td>\n",
       "      <td>Pazarlama</td>\n",
       "      <td>300</td>\n",
       "    </tr>\n",
       "    <tr>\n",
       "      <th>3</th>\n",
       "      <td>Firdevs</td>\n",
       "      <td>Yazılım</td>\n",
       "      <td>400</td>\n",
       "    </tr>\n",
       "  </tbody>\n",
       "</table>\n",
       "</div>"
      ],
      "text/plain": [
       "   İsimler  Departman  Maas\n",
       "0  Merthan    Yazılım   100\n",
       "1   Zeliha      Satiş   200\n",
       "2    Büsra  Pazarlama   300\n",
       "3  Firdevs    Yazılım   400"
      ]
     },
     "execution_count": 141,
     "metadata": {},
     "output_type": "execute_result"
    }
   ],
   "source": [
    "maasDataFrame"
   ]
  },
  {
   "cell_type": "code",
   "execution_count": 142,
   "id": "4b0f1d25",
   "metadata": {},
   "outputs": [
    {
     "data": {
      "text/plain": [
       "array(['Yazılım', 'Satiş', 'Pazarlama'], dtype=object)"
      ]
     },
     "execution_count": 142,
     "metadata": {},
     "output_type": "execute_result"
    }
   ],
   "source": [
    "maasDataFrame[\"Departman\"].unique() #özgün verileri:tekleri yazar"
   ]
  },
  {
   "cell_type": "code",
   "execution_count": 143,
   "id": "713e3f63",
   "metadata": {},
   "outputs": [
    {
     "data": {
      "text/plain": [
       "3"
      ]
     },
     "execution_count": 143,
     "metadata": {},
     "output_type": "execute_result"
    }
   ],
   "source": [
    "maasDataFrame[\"Departman\"].nunique() #number of unique: kaç tane tek var"
   ]
  },
  {
   "cell_type": "code",
   "execution_count": 144,
   "id": "3029e391",
   "metadata": {},
   "outputs": [
    {
     "data": {
      "text/plain": [
       "Yazılım      2\n",
       "Satiş        1\n",
       "Pazarlama    1\n",
       "Name: Departman, dtype: int64"
      ]
     },
     "execution_count": 144,
     "metadata": {},
     "output_type": "execute_result"
    }
   ],
   "source": [
    "maasDataFrame[\"Departman\"].value_counts() #hangi departmanda kaç kişi var"
   ]
  },
  {
   "cell_type": "code",
   "execution_count": 145,
   "id": "5b5a685b",
   "metadata": {},
   "outputs": [],
   "source": [
    "def bruttenNete(maas):\n",
    "    return maas * 0.66\n",
    "    "
   ]
  },
  {
   "cell_type": "code",
   "execution_count": 146,
   "id": "e7d7fce5",
   "metadata": {},
   "outputs": [
    {
     "data": {
      "text/plain": [
       "0     66.0\n",
       "1    132.0\n",
       "2    198.0\n",
       "3    264.0\n",
       "Name: Maas, dtype: float64"
      ]
     },
     "execution_count": 146,
     "metadata": {},
     "output_type": "execute_result"
    }
   ],
   "source": [
    "maasDataFrame[\"Maas\"].apply(bruttenNete)  #değerleri 0.66 ile çarpar"
   ]
  },
  {
   "cell_type": "code",
   "execution_count": 147,
   "id": "3c34cd35",
   "metadata": {},
   "outputs": [
    {
     "data": {
      "text/html": [
       "<div>\n",
       "<style scoped>\n",
       "    .dataframe tbody tr th:only-of-type {\n",
       "        vertical-align: middle;\n",
       "    }\n",
       "\n",
       "    .dataframe tbody tr th {\n",
       "        vertical-align: top;\n",
       "    }\n",
       "\n",
       "    .dataframe thead th {\n",
       "        text-align: right;\n",
       "    }\n",
       "</style>\n",
       "<table border=\"1\" class=\"dataframe\">\n",
       "  <thead>\n",
       "    <tr style=\"text-align: right;\">\n",
       "      <th></th>\n",
       "      <th>İsimler</th>\n",
       "      <th>Departman</th>\n",
       "      <th>Maas</th>\n",
       "    </tr>\n",
       "  </thead>\n",
       "  <tbody>\n",
       "    <tr>\n",
       "      <th>0</th>\n",
       "      <td>False</td>\n",
       "      <td>False</td>\n",
       "      <td>False</td>\n",
       "    </tr>\n",
       "    <tr>\n",
       "      <th>1</th>\n",
       "      <td>False</td>\n",
       "      <td>False</td>\n",
       "      <td>False</td>\n",
       "    </tr>\n",
       "    <tr>\n",
       "      <th>2</th>\n",
       "      <td>False</td>\n",
       "      <td>False</td>\n",
       "      <td>False</td>\n",
       "    </tr>\n",
       "    <tr>\n",
       "      <th>3</th>\n",
       "      <td>False</td>\n",
       "      <td>False</td>\n",
       "      <td>False</td>\n",
       "    </tr>\n",
       "  </tbody>\n",
       "</table>\n",
       "</div>"
      ],
      "text/plain": [
       "   İsimler  Departman   Maas\n",
       "0    False      False  False\n",
       "1    False      False  False\n",
       "2    False      False  False\n",
       "3    False      False  False"
      ]
     },
     "execution_count": 147,
     "metadata": {},
     "output_type": "execute_result"
    }
   ],
   "source": [
    "maasDataFrame.isnull() # Nan değer var mı ?"
   ]
  },
  {
   "cell_type": "code",
   "execution_count": 148,
   "id": "7bb0a912",
   "metadata": {},
   "outputs": [],
   "source": [
    "import numpy as np\n",
    "import pandas as pd"
   ]
  },
  {
   "cell_type": "code",
   "execution_count": 149,
   "id": "2bb3dfa8",
   "metadata": {},
   "outputs": [],
   "source": [
    "yeniBirVeri = {\"Karakter Sınıfı\": [\"South Park\",\"South Park\",\"Simpson\",\"Simpson\",\"Simpson\",\"Simpson\"],\n",
    "              \"Karakter ismi\": [\"Cartman\",\"Kenny\",\"Homer\",\"Bart\",\"Bart\",\"Bart\"],\n",
    "               \"Karakter Yas\" : [9,32,56,10,25,50]\n",
    "              }"
   ]
  },
  {
   "cell_type": "code",
   "execution_count": 150,
   "id": "6f4e866e",
   "metadata": {},
   "outputs": [],
   "source": [
    "karakterDF = pd.DataFrame(yeniBirVeri)"
   ]
  },
  {
   "cell_type": "code",
   "execution_count": 151,
   "id": "beeaa1dd",
   "metadata": {},
   "outputs": [
    {
     "data": {
      "text/html": [
       "<div>\n",
       "<style scoped>\n",
       "    .dataframe tbody tr th:only-of-type {\n",
       "        vertical-align: middle;\n",
       "    }\n",
       "\n",
       "    .dataframe tbody tr th {\n",
       "        vertical-align: top;\n",
       "    }\n",
       "\n",
       "    .dataframe thead th {\n",
       "        text-align: right;\n",
       "    }\n",
       "</style>\n",
       "<table border=\"1\" class=\"dataframe\">\n",
       "  <thead>\n",
       "    <tr style=\"text-align: right;\">\n",
       "      <th></th>\n",
       "      <th>Karakter Sınıfı</th>\n",
       "      <th>Karakter ismi</th>\n",
       "      <th>Karakter Yas</th>\n",
       "    </tr>\n",
       "  </thead>\n",
       "  <tbody>\n",
       "    <tr>\n",
       "      <th>0</th>\n",
       "      <td>South Park</td>\n",
       "      <td>Cartman</td>\n",
       "      <td>9</td>\n",
       "    </tr>\n",
       "    <tr>\n",
       "      <th>1</th>\n",
       "      <td>South Park</td>\n",
       "      <td>Kenny</td>\n",
       "      <td>32</td>\n",
       "    </tr>\n",
       "    <tr>\n",
       "      <th>2</th>\n",
       "      <td>Simpson</td>\n",
       "      <td>Homer</td>\n",
       "      <td>56</td>\n",
       "    </tr>\n",
       "    <tr>\n",
       "      <th>3</th>\n",
       "      <td>Simpson</td>\n",
       "      <td>Bart</td>\n",
       "      <td>10</td>\n",
       "    </tr>\n",
       "    <tr>\n",
       "      <th>4</th>\n",
       "      <td>Simpson</td>\n",
       "      <td>Bart</td>\n",
       "      <td>25</td>\n",
       "    </tr>\n",
       "    <tr>\n",
       "      <th>5</th>\n",
       "      <td>Simpson</td>\n",
       "      <td>Bart</td>\n",
       "      <td>50</td>\n",
       "    </tr>\n",
       "  </tbody>\n",
       "</table>\n",
       "</div>"
      ],
      "text/plain": [
       "  Karakter Sınıfı Karakter ismi  Karakter Yas\n",
       "0      South Park       Cartman             9\n",
       "1      South Park         Kenny            32\n",
       "2         Simpson         Homer            56\n",
       "3         Simpson          Bart            10\n",
       "4         Simpson          Bart            25\n",
       "5         Simpson          Bart            50"
      ]
     },
     "execution_count": 151,
     "metadata": {},
     "output_type": "execute_result"
    }
   ],
   "source": [
    "karakterDF"
   ]
  },
  {
   "cell_type": "code",
   "execution_count": 152,
   "id": "93775d1d",
   "metadata": {},
   "outputs": [
    {
     "data": {
      "text/html": [
       "<div>\n",
       "<style scoped>\n",
       "    .dataframe tbody tr th:only-of-type {\n",
       "        vertical-align: middle;\n",
       "    }\n",
       "\n",
       "    .dataframe tbody tr th {\n",
       "        vertical-align: top;\n",
       "    }\n",
       "\n",
       "    .dataframe thead th {\n",
       "        text-align: right;\n",
       "    }\n",
       "</style>\n",
       "<table border=\"1\" class=\"dataframe\">\n",
       "  <thead>\n",
       "    <tr style=\"text-align: right;\">\n",
       "      <th></th>\n",
       "      <th></th>\n",
       "      <th>Karakter Yas</th>\n",
       "    </tr>\n",
       "    <tr>\n",
       "      <th>Karakter Sınıfı</th>\n",
       "      <th>Karakter ismi</th>\n",
       "      <th></th>\n",
       "    </tr>\n",
       "  </thead>\n",
       "  <tbody>\n",
       "    <tr>\n",
       "      <th rowspan=\"2\" valign=\"top\">Simpson</th>\n",
       "      <th>Bart</th>\n",
       "      <td>85</td>\n",
       "    </tr>\n",
       "    <tr>\n",
       "      <th>Homer</th>\n",
       "      <td>56</td>\n",
       "    </tr>\n",
       "    <tr>\n",
       "      <th rowspan=\"2\" valign=\"top\">South Park</th>\n",
       "      <th>Cartman</th>\n",
       "      <td>9</td>\n",
       "    </tr>\n",
       "    <tr>\n",
       "      <th>Kenny</th>\n",
       "      <td>32</td>\n",
       "    </tr>\n",
       "  </tbody>\n",
       "</table>\n",
       "</div>"
      ],
      "text/plain": [
       "                               Karakter Yas\n",
       "Karakter Sınıfı Karakter ismi              \n",
       "Simpson         Bart                     85\n",
       "                Homer                    56\n",
       "South Park      Cartman                   9\n",
       "                Kenny                    32"
      ]
     },
     "execution_count": 152,
     "metadata": {},
     "output_type": "execute_result"
    }
   ],
   "source": [
    "karakterDF.pivot_table(values = \"Karakter Yas\", index = [\"Karakter Sınıfı\", \"Karakter ismi\"],aggfunc=np.sum)\n",
    "\n",
    "#aggfunc belirtmezsek ortalamasını alır"
   ]
  },
  {
   "cell_type": "markdown",
   "id": "2e0d29ae",
   "metadata": {},
   "source": [
    "# Excelle calismak"
   ]
  },
  {
   "cell_type": "code",
   "execution_count": 153,
   "id": "6d436f6c",
   "metadata": {},
   "outputs": [],
   "source": [
    "import pandas as pd"
   ]
  },
  {
   "cell_type": "code",
   "execution_count": 154,
   "id": "68487c2f",
   "metadata": {},
   "outputs": [],
   "source": [
    "dataFrame = pd.DataFrame(pd.read_excel(\"veri.xlsx\"))"
   ]
  },
  {
   "cell_type": "code",
   "execution_count": 155,
   "id": "17280609",
   "metadata": {},
   "outputs": [
    {
     "data": {
      "text/html": [
       "<div>\n",
       "<style scoped>\n",
       "    .dataframe tbody tr th:only-of-type {\n",
       "        vertical-align: middle;\n",
       "    }\n",
       "\n",
       "    .dataframe tbody tr th {\n",
       "        vertical-align: top;\n",
       "    }\n",
       "\n",
       "    .dataframe thead th {\n",
       "        text-align: right;\n",
       "    }\n",
       "</style>\n",
       "<table border=\"1\" class=\"dataframe\">\n",
       "  <thead>\n",
       "    <tr style=\"text-align: right;\">\n",
       "      <th></th>\n",
       "      <th>Unnamed: 0</th>\n",
       "      <th>Maas</th>\n",
       "      <th>Yas</th>\n",
       "      <th>Departman</th>\n",
       "    </tr>\n",
       "  </thead>\n",
       "  <tbody>\n",
       "    <tr>\n",
       "      <th>0</th>\n",
       "      <td>Zeliha</td>\n",
       "      <td>100</td>\n",
       "      <td>NaN</td>\n",
       "      <td>Yazılım</td>\n",
       "    </tr>\n",
       "    <tr>\n",
       "      <th>1</th>\n",
       "      <td>Merthan</td>\n",
       "      <td>150</td>\n",
       "      <td>56.0</td>\n",
       "      <td>Yazılım</td>\n",
       "    </tr>\n",
       "    <tr>\n",
       "      <th>2</th>\n",
       "      <td>Firdevs</td>\n",
       "      <td>200</td>\n",
       "      <td>23.0</td>\n",
       "      <td>Yazılım</td>\n",
       "    </tr>\n",
       "    <tr>\n",
       "      <th>3</th>\n",
       "      <td>Büsra</td>\n",
       "      <td>300</td>\n",
       "      <td>12.0</td>\n",
       "      <td>Pazarlama</td>\n",
       "    </tr>\n",
       "    <tr>\n",
       "      <th>4</th>\n",
       "      <td>Rasit</td>\n",
       "      <td>160</td>\n",
       "      <td>25.0</td>\n",
       "      <td>Pazarlama</td>\n",
       "    </tr>\n",
       "    <tr>\n",
       "      <th>5</th>\n",
       "      <td>Süheda</td>\n",
       "      <td>860</td>\n",
       "      <td>27.0</td>\n",
       "      <td>NaN</td>\n",
       "    </tr>\n",
       "    <tr>\n",
       "      <th>6</th>\n",
       "      <td>Halil</td>\n",
       "      <td>135</td>\n",
       "      <td>65.0</td>\n",
       "      <td>İK</td>\n",
       "    </tr>\n",
       "    <tr>\n",
       "      <th>7</th>\n",
       "      <td>Hacer</td>\n",
       "      <td>460</td>\n",
       "      <td>50.0</td>\n",
       "      <td>Satis</td>\n",
       "    </tr>\n",
       "  </tbody>\n",
       "</table>\n",
       "</div>"
      ],
      "text/plain": [
       "  Unnamed: 0  Maas   Yas  Departman\n",
       "0     Zeliha   100   NaN    Yazılım\n",
       "1    Merthan   150  56.0    Yazılım\n",
       "2    Firdevs   200  23.0    Yazılım\n",
       "3      Büsra   300  12.0  Pazarlama\n",
       "4      Rasit   160  25.0  Pazarlama\n",
       "5     Süheda   860  27.0        NaN\n",
       "6      Halil   135  65.0         İK\n",
       "7      Hacer   460  50.0      Satis"
      ]
     },
     "execution_count": 155,
     "metadata": {},
     "output_type": "execute_result"
    }
   ],
   "source": [
    "dataFrame"
   ]
  },
  {
   "cell_type": "code",
   "execution_count": 156,
   "id": "2b091b21",
   "metadata": {},
   "outputs": [],
   "source": [
    "doluDegerDateFrame = dataFrame.dropna(axis=0) #rowlardan siler"
   ]
  },
  {
   "cell_type": "code",
   "execution_count": 157,
   "id": "e8e7da78",
   "metadata": {},
   "outputs": [
    {
     "data": {
      "text/html": [
       "<div>\n",
       "<style scoped>\n",
       "    .dataframe tbody tr th:only-of-type {\n",
       "        vertical-align: middle;\n",
       "    }\n",
       "\n",
       "    .dataframe tbody tr th {\n",
       "        vertical-align: top;\n",
       "    }\n",
       "\n",
       "    .dataframe thead th {\n",
       "        text-align: right;\n",
       "    }\n",
       "</style>\n",
       "<table border=\"1\" class=\"dataframe\">\n",
       "  <thead>\n",
       "    <tr style=\"text-align: right;\">\n",
       "      <th></th>\n",
       "      <th>Unnamed: 0</th>\n",
       "      <th>Maas</th>\n",
       "      <th>Yas</th>\n",
       "      <th>Departman</th>\n",
       "    </tr>\n",
       "  </thead>\n",
       "  <tbody>\n",
       "    <tr>\n",
       "      <th>1</th>\n",
       "      <td>Merthan</td>\n",
       "      <td>150</td>\n",
       "      <td>56.0</td>\n",
       "      <td>Yazılım</td>\n",
       "    </tr>\n",
       "    <tr>\n",
       "      <th>2</th>\n",
       "      <td>Firdevs</td>\n",
       "      <td>200</td>\n",
       "      <td>23.0</td>\n",
       "      <td>Yazılım</td>\n",
       "    </tr>\n",
       "    <tr>\n",
       "      <th>3</th>\n",
       "      <td>Büsra</td>\n",
       "      <td>300</td>\n",
       "      <td>12.0</td>\n",
       "      <td>Pazarlama</td>\n",
       "    </tr>\n",
       "    <tr>\n",
       "      <th>4</th>\n",
       "      <td>Rasit</td>\n",
       "      <td>160</td>\n",
       "      <td>25.0</td>\n",
       "      <td>Pazarlama</td>\n",
       "    </tr>\n",
       "    <tr>\n",
       "      <th>6</th>\n",
       "      <td>Halil</td>\n",
       "      <td>135</td>\n",
       "      <td>65.0</td>\n",
       "      <td>İK</td>\n",
       "    </tr>\n",
       "    <tr>\n",
       "      <th>7</th>\n",
       "      <td>Hacer</td>\n",
       "      <td>460</td>\n",
       "      <td>50.0</td>\n",
       "      <td>Satis</td>\n",
       "    </tr>\n",
       "  </tbody>\n",
       "</table>\n",
       "</div>"
      ],
      "text/plain": [
       "  Unnamed: 0  Maas   Yas  Departman\n",
       "1    Merthan   150  56.0    Yazılım\n",
       "2    Firdevs   200  23.0    Yazılım\n",
       "3      Büsra   300  12.0  Pazarlama\n",
       "4      Rasit   160  25.0  Pazarlama\n",
       "6      Halil   135  65.0         İK\n",
       "7      Hacer   460  50.0      Satis"
      ]
     },
     "execution_count": 157,
     "metadata": {},
     "output_type": "execute_result"
    }
   ],
   "source": [
    "doluDegerDateFrame"
   ]
  },
  {
   "cell_type": "code",
   "execution_count": 158,
   "id": "4e5661e7",
   "metadata": {},
   "outputs": [],
   "source": [
    "doluDegerDateFrame.to_excel(\"yeniveri.xlsx\") #dolu olan değerleri tekrar excel belgesi yaptık."
   ]
  },
  {
   "cell_type": "code",
   "execution_count": null,
   "id": "b3022af3",
   "metadata": {},
   "outputs": [],
   "source": []
  }
 ],
 "metadata": {
  "kernelspec": {
   "display_name": "Python 3 (ipykernel)",
   "language": "python",
   "name": "python3"
  },
  "language_info": {
   "codemirror_mode": {
    "name": "ipython",
    "version": 3
   },
   "file_extension": ".py",
   "mimetype": "text/x-python",
   "name": "python",
   "nbconvert_exporter": "python",
   "pygments_lexer": "ipython3",
   "version": "3.9.7"
  }
 },
 "nbformat": 4,
 "nbformat_minor": 5
}

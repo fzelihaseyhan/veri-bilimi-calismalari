{
 "cells": [
  {
   "cell_type": "code",
   "execution_count": 2,
   "id": "9cabd4fa",
   "metadata": {},
   "outputs": [],
   "source": [
    "import numpy as np"
   ]
  },
  {
   "cell_type": "markdown",
   "id": "28b07015",
   "metadata": {},
   "source": [
    "# numpy array"
   ]
  },
  {
   "cell_type": "code",
   "execution_count": 2,
   "id": "0c1fca4f",
   "metadata": {},
   "outputs": [],
   "source": [
    "myList = [20,30,50]"
   ]
  },
  {
   "cell_type": "code",
   "execution_count": 3,
   "id": "3802ba76",
   "metadata": {},
   "outputs": [
    {
     "data": {
      "text/plain": [
       "array([20, 30, 50])"
      ]
     },
     "execution_count": 3,
     "metadata": {},
     "output_type": "execute_result"
    }
   ],
   "source": [
    "np.array(myList)"
   ]
  },
  {
   "cell_type": "code",
   "execution_count": 4,
   "id": "813a17dd",
   "metadata": {},
   "outputs": [
    {
     "data": {
      "text/plain": [
       "numpy.ndarray"
      ]
     },
     "execution_count": 4,
     "metadata": {},
     "output_type": "execute_result"
    }
   ],
   "source": [
    "type(np.array(myList))"
   ]
  },
  {
   "cell_type": "code",
   "execution_count": 5,
   "id": "51c22af3",
   "metadata": {},
   "outputs": [],
   "source": [
    "matrixList = [[10,20,30],[20,60,50],[30,60,0]]"
   ]
  },
  {
   "cell_type": "code",
   "execution_count": 6,
   "id": "1a8bc4cb",
   "metadata": {},
   "outputs": [
    {
     "data": {
      "text/plain": [
       "array([[10, 20, 30],\n",
       "       [20, 60, 50],\n",
       "       [30, 60,  0]])"
      ]
     },
     "execution_count": 6,
     "metadata": {},
     "output_type": "execute_result"
    }
   ],
   "source": [
    "np.array(matrixList)"
   ]
  },
  {
   "cell_type": "code",
   "execution_count": 7,
   "id": "602bb143",
   "metadata": {},
   "outputs": [
    {
     "data": {
      "text/plain": [
       "60"
      ]
     },
     "execution_count": 7,
     "metadata": {},
     "output_type": "execute_result"
    }
   ],
   "source": [
    "matrixList[2][1]"
   ]
  },
  {
   "cell_type": "markdown",
   "id": "8d48463c",
   "metadata": {},
   "source": [
    "# arange"
   ]
  },
  {
   "cell_type": "code",
   "execution_count": 8,
   "id": "e0ec37f0",
   "metadata": {},
   "outputs": [
    {
     "data": {
      "text/plain": [
       "[0, 1, 2, 3, 4, 5, 6, 7, 8, 9]"
      ]
     },
     "execution_count": 8,
     "metadata": {},
     "output_type": "execute_result"
    }
   ],
   "source": [
    "list(range(0,10))"
   ]
  },
  {
   "cell_type": "code",
   "execution_count": 9,
   "id": "afbd152a",
   "metadata": {},
   "outputs": [
    {
     "data": {
      "text/plain": [
       "array([0, 1, 2, 3, 4, 5, 6, 7, 8, 9])"
      ]
     },
     "execution_count": 9,
     "metadata": {},
     "output_type": "execute_result"
    }
   ],
   "source": [
    "import numpy as np\n",
    "np.arange(0,10)"
   ]
  },
  {
   "cell_type": "code",
   "execution_count": 10,
   "id": "49055044",
   "metadata": {},
   "outputs": [
    {
     "data": {
      "text/plain": [
       "array([ 0,  3,  6,  9, 12, 15, 18, 21])"
      ]
     },
     "execution_count": 10,
     "metadata": {},
     "output_type": "execute_result"
    }
   ],
   "source": [
    "np.arange(0,22,3)"
   ]
  },
  {
   "cell_type": "code",
   "execution_count": 11,
   "id": "86c75e46",
   "metadata": {},
   "outputs": [],
   "source": [
    "myList = list(range(0,12))"
   ]
  },
  {
   "cell_type": "code",
   "execution_count": 12,
   "id": "0ed9413d",
   "metadata": {},
   "outputs": [
    {
     "data": {
      "text/plain": [
       "[0, 1, 2, 3, 4, 5, 6, 7, 8, 9, 10, 11]"
      ]
     },
     "execution_count": 12,
     "metadata": {},
     "output_type": "execute_result"
    }
   ],
   "source": [
    "myList"
   ]
  },
  {
   "cell_type": "code",
   "execution_count": 14,
   "id": "6bcef42f",
   "metadata": {},
   "outputs": [
    {
     "data": {
      "text/plain": [
       "[11, 9, 7, 5, 3, 1]"
      ]
     },
     "execution_count": 14,
     "metadata": {},
     "output_type": "execute_result"
    }
   ],
   "source": [
    "myList[::-2] #sondan 2 azaltarak yazar"
   ]
  },
  {
   "cell_type": "code",
   "execution_count": 15,
   "id": "03a1c3f4",
   "metadata": {},
   "outputs": [
    {
     "data": {
      "text/plain": [
       "array([0., 0., 0., 0., 0.])"
      ]
     },
     "execution_count": 15,
     "metadata": {},
     "output_type": "execute_result"
    }
   ],
   "source": [
    "np.zeros(5) #5 sıfırdan oluşan array"
   ]
  },
  {
   "cell_type": "code",
   "execution_count": 16,
   "id": "3efdb487",
   "metadata": {},
   "outputs": [
    {
     "data": {
      "text/plain": [
       "array([[0., 0., 0., 0., 0.],\n",
       "       [0., 0., 0., 0., 0.],\n",
       "       [0., 0., 0., 0., 0.],\n",
       "       [0., 0., 0., 0., 0.],\n",
       "       [0., 0., 0., 0., 0.]])"
      ]
     },
     "execution_count": 16,
     "metadata": {},
     "output_type": "execute_result"
    }
   ],
   "source": [
    "np.zeros((5,5)) # 5*5'lik sıfırlardan oluşan matris."
   ]
  },
  {
   "cell_type": "code",
   "execution_count": 3,
   "id": "57e368e3",
   "metadata": {},
   "outputs": [
    {
     "data": {
      "text/plain": [
       "array([[1., 1., 1.],\n",
       "       [1., 1., 1.],\n",
       "       [1., 1., 1.]])"
      ]
     },
     "execution_count": 3,
     "metadata": {},
     "output_type": "execute_result"
    }
   ],
   "source": [
    "np.ones((3,3))  # 1'lerden oluşan matris"
   ]
  },
  {
   "cell_type": "markdown",
   "id": "7a4fd5d4",
   "metadata": {},
   "source": [
    "# linspace"
   ]
  },
  {
   "cell_type": "code",
   "execution_count": 18,
   "id": "9be46043",
   "metadata": {},
   "outputs": [
    {
     "data": {
      "text/plain": [
       "array([10.  , 11.25, 12.5 , 13.75, 15.  , 16.25, 17.5 , 18.75, 20.  ])"
      ]
     },
     "execution_count": 18,
     "metadata": {},
     "output_type": "execute_result"
    }
   ],
   "source": [
    "np.linspace(10,20,9)   #10-20 arasında 9 sayı yazdı."
   ]
  },
  {
   "cell_type": "markdown",
   "id": "0a54848a",
   "metadata": {},
   "source": [
    "# eye"
   ]
  },
  {
   "cell_type": "code",
   "execution_count": 19,
   "id": "714d120d",
   "metadata": {},
   "outputs": [
    {
     "data": {
      "text/plain": [
       "array([[1., 0., 0., 0., 0.],\n",
       "       [0., 1., 0., 0., 0.],\n",
       "       [0., 0., 1., 0., 0.],\n",
       "       [0., 0., 0., 1., 0.],\n",
       "       [0., 0., 0., 0., 1.]])"
      ]
     },
     "execution_count": 19,
     "metadata": {},
     "output_type": "execute_result"
    }
   ],
   "source": [
    "np.eye(5)  # köşegen matrisi oluşturur"
   ]
  },
  {
   "cell_type": "code",
   "execution_count": 21,
   "id": "b36ba37a",
   "metadata": {},
   "outputs": [
    {
     "data": {
      "text/plain": [
       "array([-1.33218686,  0.55945684,  0.5188032 ,  0.22037892])"
      ]
     },
     "execution_count": 21,
     "metadata": {},
     "output_type": "execute_result"
    }
   ],
   "source": [
    "np.random.randn(4)  # rastgele 4 değer alma"
   ]
  },
  {
   "cell_type": "code",
   "execution_count": 22,
   "id": "e8ba4d88",
   "metadata": {},
   "outputs": [
    {
     "data": {
      "text/plain": [
       "array([[ 1.8976502 ,  1.42811262],\n",
       "       [ 0.12627047, -0.62194972]])"
      ]
     },
     "execution_count": 22,
     "metadata": {},
     "output_type": "execute_result"
    }
   ],
   "source": [
    "np.random.randn(2,2)"
   ]
  },
  {
   "cell_type": "code",
   "execution_count": 23,
   "id": "c4801bc3",
   "metadata": {},
   "outputs": [
    {
     "data": {
      "text/plain": [
       "array([4, 2, 8, 9, 3])"
      ]
     },
     "execution_count": 23,
     "metadata": {},
     "output_type": "execute_result"
    }
   ],
   "source": [
    "np.random.randint(1,10,5)"
   ]
  },
  {
   "cell_type": "code",
   "execution_count": 24,
   "id": "fe56a347",
   "metadata": {},
   "outputs": [
    {
     "data": {
      "text/plain": [
       "array([ 1. ,  2.8,  4.6,  6.4,  8.2, 10. ])"
      ]
     },
     "execution_count": 24,
     "metadata": {},
     "output_type": "execute_result"
    }
   ],
   "source": [
    "np.linspace(1,10,6)"
   ]
  },
  {
   "cell_type": "code",
   "execution_count": 25,
   "id": "3f2a0110",
   "metadata": {},
   "outputs": [
    {
     "data": {
      "text/plain": [
       "array([9, 4, 8, 7, 2, 3])"
      ]
     },
     "execution_count": 25,
     "metadata": {},
     "output_type": "execute_result"
    }
   ],
   "source": [
    "np.random.randint(1,10,6)"
   ]
  },
  {
   "cell_type": "code",
   "execution_count": 26,
   "id": "224477ea",
   "metadata": {},
   "outputs": [],
   "source": [
    "benimNumpyDizim = np.arange(10)"
   ]
  },
  {
   "cell_type": "code",
   "execution_count": 24,
   "id": "e4d521f8",
   "metadata": {},
   "outputs": [
    {
     "data": {
      "text/plain": [
       "array([0, 1, 2, 3, 4, 5, 6, 7, 8, 9])"
      ]
     },
     "execution_count": 24,
     "metadata": {},
     "output_type": "execute_result"
    }
   ],
   "source": [
    "benimNumpyDizim"
   ]
  },
  {
   "cell_type": "code",
   "execution_count": 25,
   "id": "54cf2eb3",
   "metadata": {},
   "outputs": [],
   "source": [
    "benimRandDizim = np.random.randint(0,100,20)"
   ]
  },
  {
   "cell_type": "code",
   "execution_count": 26,
   "id": "2eb49286",
   "metadata": {},
   "outputs": [
    {
     "data": {
      "text/plain": [
       "array([91, 92, 22, 46, 26, 31, 79, 16, 37,  4, 46, 98, 39, 33, 75, 75, 82,\n",
       "       92, 92, 45])"
      ]
     },
     "execution_count": 26,
     "metadata": {},
     "output_type": "execute_result"
    }
   ],
   "source": [
    "benimRandDizim"
   ]
  },
  {
   "cell_type": "markdown",
   "id": "f3680593",
   "metadata": {},
   "source": [
    "# numpy dizi örnekleri"
   ]
  },
  {
   "cell_type": "code",
   "execution_count": 32,
   "id": "7def92ec",
   "metadata": {},
   "outputs": [
    {
     "data": {
      "text/plain": [
       "array([[0, 1, 2, 3, 4],\n",
       "       [5, 6, 7, 8, 9]])"
      ]
     },
     "execution_count": 32,
     "metadata": {},
     "output_type": "execute_result"
    }
   ],
   "source": [
    "benimNumpyDizim.reshape(2,5)  # 10 eleman vardı (5,2) olabiliir"
   ]
  },
  {
   "cell_type": "code",
   "execution_count": 33,
   "id": "52761910",
   "metadata": {},
   "outputs": [
    {
     "data": {
      "text/plain": [
       "98"
      ]
     },
     "execution_count": 33,
     "metadata": {},
     "output_type": "execute_result"
    }
   ],
   "source": [
    "benimRandDizim.max()"
   ]
  },
  {
   "cell_type": "code",
   "execution_count": 34,
   "id": "ef51309c",
   "metadata": {},
   "outputs": [
    {
     "data": {
      "text/plain": [
       "4"
      ]
     },
     "execution_count": 34,
     "metadata": {},
     "output_type": "execute_result"
    }
   ],
   "source": [
    "benimRandDizim.min()"
   ]
  },
  {
   "cell_type": "code",
   "execution_count": 35,
   "id": "958d92f8",
   "metadata": {},
   "outputs": [
    {
     "data": {
      "text/plain": [
       "9"
      ]
     },
     "execution_count": 35,
     "metadata": {},
     "output_type": "execute_result"
    }
   ],
   "source": [
    "benimRandDizim.argmin()  # kaçıncı indeks min değer?"
   ]
  },
  {
   "cell_type": "code",
   "execution_count": 36,
   "id": "ade3eba1",
   "metadata": {},
   "outputs": [
    {
     "data": {
      "text/plain": [
       "(10,)"
      ]
     },
     "execution_count": 36,
     "metadata": {},
     "output_type": "execute_result"
    }
   ],
   "source": [
    "benimNumpyDizim.shape"
   ]
  },
  {
   "cell_type": "code",
   "execution_count": 37,
   "id": "cd7ae659",
   "metadata": {},
   "outputs": [
    {
     "data": {
      "text/plain": [
       "array([0, 1, 2, 3, 4, 5, 6, 7, 8, 9])"
      ]
     },
     "execution_count": 37,
     "metadata": {},
     "output_type": "execute_result"
    }
   ],
   "source": [
    "benimNumpyDizim"
   ]
  },
  {
   "cell_type": "code",
   "execution_count": 41,
   "id": "cbb3a356",
   "metadata": {},
   "outputs": [],
   "source": [
    "reshape = benimNumpyDizim.reshape(2,5)"
   ]
  },
  {
   "cell_type": "code",
   "execution_count": 42,
   "id": "31f45dc9",
   "metadata": {},
   "outputs": [
    {
     "data": {
      "text/plain": [
       "(2, 5)"
      ]
     },
     "execution_count": 42,
     "metadata": {},
     "output_type": "execute_result"
    }
   ],
   "source": [
    "reshape.shape"
   ]
  },
  {
   "cell_type": "code",
   "execution_count": 4,
   "id": "1b9680f4",
   "metadata": {},
   "outputs": [],
   "source": [
    "import numpy as np"
   ]
  },
  {
   "cell_type": "code",
   "execution_count": 44,
   "id": "97eb6f1d",
   "metadata": {},
   "outputs": [],
   "source": [
    "myDizi = np.arange(0,15)"
   ]
  },
  {
   "cell_type": "code",
   "execution_count": 45,
   "id": "2a5aacb5",
   "metadata": {},
   "outputs": [
    {
     "data": {
      "text/plain": [
       "array([ 0,  1,  2,  3,  4,  5,  6,  7,  8,  9, 10, 11, 12, 13, 14])"
      ]
     },
     "execution_count": 45,
     "metadata": {},
     "output_type": "execute_result"
    }
   ],
   "source": [
    "myDizi"
   ]
  },
  {
   "cell_type": "code",
   "execution_count": 46,
   "id": "a9f28f2d",
   "metadata": {},
   "outputs": [
    {
     "data": {
      "text/plain": [
       "5"
      ]
     },
     "execution_count": 46,
     "metadata": {},
     "output_type": "execute_result"
    }
   ],
   "source": [
    "myDizi[5]"
   ]
  },
  {
   "cell_type": "code",
   "execution_count": 49,
   "id": "793dac1e",
   "metadata": {},
   "outputs": [
    {
     "data": {
      "text/plain": [
       "array([ 3,  4,  5,  6,  7,  8,  9, 10, 11, 12, 13, 14])"
      ]
     },
     "execution_count": 49,
     "metadata": {},
     "output_type": "execute_result"
    }
   ],
   "source": [
    "myDizi[3:]"
   ]
  },
  {
   "cell_type": "code",
   "execution_count": 52,
   "id": "06cd1284",
   "metadata": {},
   "outputs": [
    {
     "data": {
      "text/plain": [
       "array([14, 12, 10,  8,  6,  4,  2,  0])"
      ]
     },
     "execution_count": 52,
     "metadata": {},
     "output_type": "execute_result"
    }
   ],
   "source": [
    "myDizi[::-2]  #ters yönden ikişer gider "
   ]
  },
  {
   "cell_type": "code",
   "execution_count": 55,
   "id": "3feefba0",
   "metadata": {},
   "outputs": [],
   "source": [
    "myDizi[3:8] = -5  # 3-8 arasını -5 yaptık"
   ]
  },
  {
   "cell_type": "code",
   "execution_count": 56,
   "id": "8d6b2e7b",
   "metadata": {},
   "outputs": [
    {
     "data": {
      "text/plain": [
       "array([ 0,  1,  2, -5, -5, -5, -5, -5,  8,  9, 10, 11, 12, 13, 14])"
      ]
     },
     "execution_count": 56,
     "metadata": {},
     "output_type": "execute_result"
    }
   ],
   "source": [
    "myDizi       "
   ]
  },
  {
   "cell_type": "code",
   "execution_count": 57,
   "id": "5d3633d4",
   "metadata": {},
   "outputs": [],
   "source": [
    "newDizi = np.arange(0,23)"
   ]
  },
  {
   "cell_type": "code",
   "execution_count": 58,
   "id": "d7314960",
   "metadata": {},
   "outputs": [
    {
     "data": {
      "text/plain": [
       "array([ 0,  1,  2,  3,  4,  5,  6,  7,  8,  9, 10, 11, 12, 13, 14, 15, 16,\n",
       "       17, 18, 19, 20, 21, 22])"
      ]
     },
     "execution_count": 58,
     "metadata": {},
     "output_type": "execute_result"
    }
   ],
   "source": [
    "newDizi"
   ]
  },
  {
   "cell_type": "code",
   "execution_count": 62,
   "id": "1ef99d82",
   "metadata": {},
   "outputs": [],
   "source": [
    "slicingDizisi = newDizi[3:8]"
   ]
  },
  {
   "cell_type": "code",
   "execution_count": 63,
   "id": "197568cc",
   "metadata": {},
   "outputs": [
    {
     "data": {
      "text/plain": [
       "array([3, 4, 5, 6, 7])"
      ]
     },
     "execution_count": 63,
     "metadata": {},
     "output_type": "execute_result"
    }
   ],
   "source": [
    "slicingDizisi"
   ]
  },
  {
   "cell_type": "code",
   "execution_count": 64,
   "id": "852423d1",
   "metadata": {},
   "outputs": [
    {
     "data": {
      "text/plain": [
       "array([ 0,  1,  2,  3,  4,  5,  6,  7,  8,  9, 10, 11, 12, 13, 14, 15, 16,\n",
       "       17, 18, 19, 20, 21, 22])"
      ]
     },
     "execution_count": 64,
     "metadata": {},
     "output_type": "execute_result"
    }
   ],
   "source": [
    "newDizi"
   ]
  },
  {
   "cell_type": "code",
   "execution_count": 68,
   "id": "272af007",
   "metadata": {},
   "outputs": [],
   "source": [
    "slicingDizisi [:] = 300 #dizinin tüm elemanlarını 300 yaptık"
   ]
  },
  {
   "cell_type": "code",
   "execution_count": 69,
   "id": "d79f4619",
   "metadata": {},
   "outputs": [
    {
     "data": {
      "text/plain": [
       "array([300, 300, 300, 300, 300])"
      ]
     },
     "execution_count": 69,
     "metadata": {},
     "output_type": "execute_result"
    }
   ],
   "source": [
    "slicingDizisi "
   ]
  },
  {
   "cell_type": "code",
   "execution_count": 70,
   "id": "deac0673",
   "metadata": {},
   "outputs": [
    {
     "data": {
      "text/plain": [
       "array([  0,   1,   2, 300, 300, 300, 300, 300,   8,   9,  10,  11,  12,\n",
       "        13,  14,  15,  16,  17,  18,  19,  20,  21,  22])"
      ]
     },
     "execution_count": 70,
     "metadata": {},
     "output_type": "execute_result"
    }
   ],
   "source": [
    "newDizi # 3-8 indis de değişti"
   ]
  },
  {
   "cell_type": "code",
   "execution_count": 71,
   "id": "bc4fd144",
   "metadata": {},
   "outputs": [],
   "source": [
    "ornekDizi = np.arange(20)"
   ]
  },
  {
   "cell_type": "code",
   "execution_count": 72,
   "id": "ca58e850",
   "metadata": {},
   "outputs": [
    {
     "data": {
      "text/plain": [
       "array([ 0,  1,  2,  3,  4,  5,  6,  7,  8,  9, 10, 11, 12, 13, 14, 15, 16,\n",
       "       17, 18, 19])"
      ]
     },
     "execution_count": 72,
     "metadata": {},
     "output_type": "execute_result"
    }
   ],
   "source": [
    "ornekDizi"
   ]
  },
  {
   "cell_type": "code",
   "execution_count": 73,
   "id": "4ca44f15",
   "metadata": {},
   "outputs": [],
   "source": [
    "kopyaornekDizi = ornekDizi.copy()"
   ]
  },
  {
   "cell_type": "code",
   "execution_count": 74,
   "id": "e386ae05",
   "metadata": {},
   "outputs": [
    {
     "data": {
      "text/plain": [
       "array([ 0,  1,  2,  3,  4,  5,  6,  7,  8,  9, 10, 11, 12, 13, 14, 15, 16,\n",
       "       17, 18, 19])"
      ]
     },
     "execution_count": 74,
     "metadata": {},
     "output_type": "execute_result"
    }
   ],
   "source": [
    "kopyaornekDizi"
   ]
  },
  {
   "cell_type": "code",
   "execution_count": 75,
   "id": "e8b45297",
   "metadata": {},
   "outputs": [],
   "source": [
    "SlicingkopyaornekDizi = kopyaornekDizi[2:6]"
   ]
  },
  {
   "cell_type": "code",
   "execution_count": 77,
   "id": "161ba198",
   "metadata": {},
   "outputs": [],
   "source": [
    "SlicingkopyaornekDizi[:] = 300"
   ]
  },
  {
   "cell_type": "code",
   "execution_count": 78,
   "id": "7e20d29e",
   "metadata": {},
   "outputs": [
    {
     "data": {
      "text/plain": [
       "array([300, 300, 300, 300])"
      ]
     },
     "execution_count": 78,
     "metadata": {},
     "output_type": "execute_result"
    }
   ],
   "source": [
    "SlicingkopyaornekDizi"
   ]
  },
  {
   "cell_type": "code",
   "execution_count": 79,
   "id": "4f87caf2",
   "metadata": {},
   "outputs": [
    {
     "data": {
      "text/plain": [
       "array([  0,   1, 300, 300, 300, 300,   6,   7,   8,   9,  10,  11,  12,\n",
       "        13,  14,  15,  16,  17,  18,  19])"
      ]
     },
     "execution_count": 79,
     "metadata": {},
     "output_type": "execute_result"
    }
   ],
   "source": [
    "kopyaornekDizi"
   ]
  },
  {
   "cell_type": "code",
   "execution_count": 80,
   "id": "73e31266",
   "metadata": {},
   "outputs": [
    {
     "data": {
      "text/plain": [
       "array([ 0,  1,  2,  3,  4,  5,  6,  7,  8,  9, 10, 11, 12, 13, 14, 15, 16,\n",
       "       17, 18, 19])"
      ]
     },
     "execution_count": 80,
     "metadata": {},
     "output_type": "execute_result"
    }
   ],
   "source": [
    "ornekDizi"
   ]
  },
  {
   "cell_type": "markdown",
   "id": "b119b06a",
   "metadata": {},
   "source": [
    "# matrix"
   ]
  },
  {
   "cell_type": "code",
   "execution_count": 81,
   "id": "d68bc10e",
   "metadata": {},
   "outputs": [],
   "source": [
    "myList = [[10,0,30],[20,60,80],[90,45,71 ]]"
   ]
  },
  {
   "cell_type": "code",
   "execution_count": 82,
   "id": "2f0b49e1",
   "metadata": {},
   "outputs": [],
   "source": [
    "ornekMatrixDizisi = np.array(myList)"
   ]
  },
  {
   "cell_type": "code",
   "execution_count": 83,
   "id": "f6d70348",
   "metadata": {},
   "outputs": [
    {
     "data": {
      "text/plain": [
       "array([[10,  0, 30],\n",
       "       [20, 60, 80],\n",
       "       [90, 45, 71]])"
      ]
     },
     "execution_count": 83,
     "metadata": {},
     "output_type": "execute_result"
    }
   ],
   "source": [
    "ornekMatrixDizisi"
   ]
  },
  {
   "cell_type": "code",
   "execution_count": 99,
   "id": "7f019b24",
   "metadata": {},
   "outputs": [
    {
     "data": {
      "text/plain": [
       "array([ 0, 60, 45])"
      ]
     },
     "execution_count": 99,
     "metadata": {},
     "output_type": "execute_result"
    }
   ],
   "source": [
    "#ornekMatrixDizisi.transpose()[1]        # transpoz kullanmadan[ :,1]\n",
    "ornekMatrixDizisi[:,1]"
   ]
  },
  {
   "cell_type": "code",
   "execution_count": 90,
   "id": "f3d6e189",
   "metadata": {},
   "outputs": [
    {
     "data": {
      "text/plain": [
       "80"
      ]
     },
     "execution_count": 90,
     "metadata": {},
     "output_type": "execute_result"
    }
   ],
   "source": [
    "ornekMatrixDizisi[1][2]"
   ]
  },
  {
   "cell_type": "code",
   "execution_count": 91,
   "id": "cf26466f",
   "metadata": {},
   "outputs": [
    {
     "data": {
      "text/plain": [
       "80"
      ]
     },
     "execution_count": 91,
     "metadata": {},
     "output_type": "execute_result"
    }
   ],
   "source": [
    "ornekMatrixDizisi[1,2]"
   ]
  },
  {
   "cell_type": "code",
   "execution_count": 94,
   "id": "16a07d3b",
   "metadata": {},
   "outputs": [
    {
     "data": {
      "text/plain": [
       "array([30, 80, 71])"
      ]
     },
     "execution_count": 94,
     "metadata": {},
     "output_type": "execute_result"
    }
   ],
   "source": [
    "ornekMatrixDizisi[1:,2]   # 2.sütunda 1ve sonrasını alıyor"
   ]
  },
  {
   "cell_type": "code",
   "execution_count": 100,
   "id": "77110ab4",
   "metadata": {},
   "outputs": [],
   "source": [
    "newList =[[12,3,65,12,48],[25,36,95,15,84],[20,62,59,65,24]]"
   ]
  },
  {
   "cell_type": "code",
   "execution_count": 101,
   "id": "df2fe53c",
   "metadata": {},
   "outputs": [],
   "source": [
    "yeniMatrix = np.array(newList)"
   ]
  },
  {
   "cell_type": "code",
   "execution_count": 102,
   "id": "e87a7dc7",
   "metadata": {},
   "outputs": [
    {
     "data": {
      "text/plain": [
       "[[12, 3, 65, 12, 48], [25, 36, 95, 15, 84], [20, 62, 59, 65, 24]]"
      ]
     },
     "execution_count": 102,
     "metadata": {},
     "output_type": "execute_result"
    }
   ],
   "source": [
    "newList"
   ]
  },
  {
   "cell_type": "code",
   "execution_count": 103,
   "id": "a9d9a363",
   "metadata": {},
   "outputs": [
    {
     "data": {
      "text/plain": [
       "array([[12,  3, 65, 12, 48],\n",
       "       [25, 36, 95, 15, 84],\n",
       "       [20, 62, 59, 65, 24]])"
      ]
     },
     "execution_count": 103,
     "metadata": {},
     "output_type": "execute_result"
    }
   ],
   "source": [
    "yeniMatrix"
   ]
  },
  {
   "cell_type": "code",
   "execution_count": 105,
   "id": "e43c6f4f",
   "metadata": {},
   "outputs": [
    {
     "data": {
      "text/plain": [
       "15"
      ]
     },
     "execution_count": 105,
     "metadata": {},
     "output_type": "execute_result"
    }
   ],
   "source": [
    "yeniMatrix[1,3]"
   ]
  },
  {
   "cell_type": "code",
   "execution_count": 108,
   "id": "bd8c4da4",
   "metadata": {},
   "outputs": [
    {
     "data": {
      "text/plain": [
       "array([[20, 62, 59, 65, 24],\n",
       "       [12,  3, 65, 12, 48],\n",
       "       [25, 36, 95, 15, 84]])"
      ]
     },
     "execution_count": 108,
     "metadata": {},
     "output_type": "execute_result"
    }
   ],
   "source": [
    "yeniMatrix[[2,0,1]]  # önce 2.satır sonra 0 sonra 1'i yazdırır."
   ]
  },
  {
   "cell_type": "code",
   "execution_count": 28,
   "id": "58d8d910",
   "metadata": {},
   "outputs": [
    {
     "data": {
      "text/plain": [
       "array([ 0,  1,  2,  3,  4,  5,  6,  7,  8,  9, 10, 11, 12, 13, 14, 15, 16,\n",
       "       17, 18, 19, 20, 21, 22, 23, 24, 25, 26, 27, 28, 29, 30, 31])"
      ]
     },
     "execution_count": 28,
     "metadata": {},
     "output_type": "execute_result"
    }
   ],
   "source": [
    "np.array(myList)"
   ]
  },
  {
   "cell_type": "markdown",
   "id": "e55a670c",
   "metadata": {},
   "source": [
    "# operasyonler"
   ]
  },
  {
   "cell_type": "code",
   "execution_count": 31,
   "id": "c3d00e94",
   "metadata": {},
   "outputs": [],
   "source": [
    "yeniDizi = np.random.randint(5,20,10)"
   ]
  },
  {
   "cell_type": "code",
   "execution_count": 32,
   "id": "18825a89",
   "metadata": {},
   "outputs": [
    {
     "data": {
      "text/plain": [
       "array([18, 13, 11,  8,  7, 11, 10, 10, 10, 17])"
      ]
     },
     "execution_count": 32,
     "metadata": {},
     "output_type": "execute_result"
    }
   ],
   "source": [
    "yeniDizi"
   ]
  },
  {
   "cell_type": "code",
   "execution_count": 39,
   "id": "4c1f5ae1",
   "metadata": {},
   "outputs": [],
   "source": [
    "sonucDizisi = yeniDizi > 10"
   ]
  },
  {
   "cell_type": "code",
   "execution_count": 40,
   "id": "19b75250",
   "metadata": {},
   "outputs": [
    {
     "data": {
      "text/plain": [
       "array([ True,  True,  True, False, False,  True, False, False, False,\n",
       "        True])"
      ]
     },
     "execution_count": 40,
     "metadata": {},
     "output_type": "execute_result"
    }
   ],
   "source": [
    "sonucDizisi"
   ]
  },
  {
   "cell_type": "code",
   "execution_count": 41,
   "id": "b8d5624f",
   "metadata": {},
   "outputs": [
    {
     "data": {
      "text/plain": [
       "array([18, 13, 11, 11, 17])"
      ]
     },
     "execution_count": 41,
     "metadata": {},
     "output_type": "execute_result"
    }
   ],
   "source": [
    "yeniDizi[sonucDizisi]  # 10 dan büyük olan = true'ları yazdırdı"
   ]
  },
  {
   "cell_type": "code",
   "execution_count": 44,
   "id": "35b45fcd",
   "metadata": {},
   "outputs": [
    {
     "data": {
      "text/plain": [
       "array([18, 13, 11, 11, 17])"
      ]
     },
     "execution_count": 44,
     "metadata": {},
     "output_type": "execute_result"
    }
   ],
   "source": [
    "yeniDizi[yeniDizi > 10]  # direkt 10 dan büyük olanları yazdırır"
   ]
  },
  {
   "cell_type": "code",
   "execution_count": 54,
   "id": "976100b6",
   "metadata": {},
   "outputs": [],
   "source": [
    "sonDizi = np.arange(0,20)"
   ]
  },
  {
   "cell_type": "code",
   "execution_count": 55,
   "id": "0bccaaf0",
   "metadata": {},
   "outputs": [
    {
     "data": {
      "text/plain": [
       "array([ 0,  1,  2,  3,  4,  5,  6,  7,  8,  9, 10, 11, 12, 13, 14, 15, 16,\n",
       "       17, 18, 19])"
      ]
     },
     "execution_count": 55,
     "metadata": {},
     "output_type": "execute_result"
    }
   ],
   "source": [
    "sonDizi"
   ]
  },
  {
   "cell_type": "code",
   "execution_count": 56,
   "id": "d941b260",
   "metadata": {},
   "outputs": [
    {
     "data": {
      "text/plain": [
       "array([  0,   1,   4,   9,  16,  25,  36,  49,  64,  81, 100, 121, 144,\n",
       "       169, 196, 225, 256, 289, 324, 361], dtype=int32)"
      ]
     },
     "execution_count": 56,
     "metadata": {},
     "output_type": "execute_result"
    }
   ],
   "source": [
    "sonDizi **2"
   ]
  },
  {
   "cell_type": "code",
   "execution_count": 57,
   "id": "a8422f7a",
   "metadata": {},
   "outputs": [
    {
     "data": {
      "text/plain": [
       "array([  0,   1,   4,   9,  16,  25,  36,  49,  64,  81, 100, 121, 144,\n",
       "       169, 196, 225, 256, 289, 324, 361])"
      ]
     },
     "execution_count": 57,
     "metadata": {},
     "output_type": "execute_result"
    }
   ],
   "source": [
    "sonDizi * sonDizi"
   ]
  },
  {
   "cell_type": "code",
   "execution_count": 58,
   "id": "20a11e2c",
   "metadata": {},
   "outputs": [
    {
     "data": {
      "text/plain": [
       "array([0, 0, 0, 0, 0, 0, 0, 0, 0, 0, 0, 0, 0, 0, 0, 0, 0, 0, 0, 0])"
      ]
     },
     "execution_count": 58,
     "metadata": {},
     "output_type": "execute_result"
    }
   ],
   "source": [
    "sonDizi - sonDizi"
   ]
  },
  {
   "cell_type": "code",
   "execution_count": 59,
   "id": "0e9b605b",
   "metadata": {},
   "outputs": [
    {
     "data": {
      "text/plain": [
       "array([0.        , 1.        , 1.41421356, 1.73205081, 2.        ,\n",
       "       2.23606798, 2.44948974, 2.64575131, 2.82842712, 3.        ,\n",
       "       3.16227766, 3.31662479, 3.46410162, 3.60555128, 3.74165739,\n",
       "       3.87298335, 4.        , 4.12310563, 4.24264069, 4.35889894])"
      ]
     },
     "execution_count": 59,
     "metadata": {},
     "output_type": "execute_result"
    }
   ],
   "source": [
    " sonDizi ** (1/2)   #karekök"
   ]
  },
  {
   "cell_type": "code",
   "execution_count": 60,
   "id": "33d37bd0",
   "metadata": {},
   "outputs": [
    {
     "data": {
      "text/plain": [
       "array([  0,   1,   4,   9,  16,  25,  36,  49,  64,  81, 100, 121, 144,\n",
       "       169, 196, 225, 256, 289, 324, 361], dtype=int32)"
      ]
     },
     "execution_count": 60,
     "metadata": {},
     "output_type": "execute_result"
    }
   ],
   "source": [
    "np.square(sonDizi)"
   ]
  },
  {
   "cell_type": "code",
   "execution_count": 61,
   "id": "1d9ae369",
   "metadata": {},
   "outputs": [
    {
     "data": {
      "text/plain": [
       "array([0.        , 1.        , 1.41421356, 1.73205081, 2.        ,\n",
       "       2.23606798, 2.44948974, 2.64575131, 2.82842712, 3.        ,\n",
       "       3.16227766, 3.31662479, 3.46410162, 3.60555128, 3.74165739,\n",
       "       3.87298335, 4.        , 4.12310563, 4.24264069, 4.35889894])"
      ]
     },
     "execution_count": 61,
     "metadata": {},
     "output_type": "execute_result"
    }
   ],
   "source": [
    "np.sqrt(sonDizi)"
   ]
  },
  {
   "cell_type": "code",
   "execution_count": 62,
   "id": "66c63fb0",
   "metadata": {},
   "outputs": [
    {
     "data": {
      "text/plain": [
       "19"
      ]
     },
     "execution_count": 62,
     "metadata": {},
     "output_type": "execute_result"
    }
   ],
   "source": [
    "np.max(sonDizi)"
   ]
  },
  {
   "cell_type": "code",
   "execution_count": 63,
   "id": "a415696d",
   "metadata": {},
   "outputs": [
    {
     "data": {
      "text/plain": [
       "False"
      ]
     },
     "execution_count": 63,
     "metadata": {},
     "output_type": "execute_result"
    }
   ],
   "source": [
    "np.min(sonucDizisi)"
   ]
  },
  {
   "cell_type": "code",
   "execution_count": 64,
   "id": "3aad1fc2",
   "metadata": {},
   "outputs": [
    {
     "data": {
      "text/plain": [
       "19"
      ]
     },
     "execution_count": 64,
     "metadata": {},
     "output_type": "execute_result"
    }
   ],
   "source": [
    "np.argmax(sonDizi)"
   ]
  },
  {
   "cell_type": "code",
   "execution_count": 68,
   "id": "2c6f0c02",
   "metadata": {},
   "outputs": [
    {
     "data": {
      "text/plain": [
       "array([3, 4, 6, 0, 1, 5, 2, 7, 8, 9], dtype=int64)"
      ]
     },
     "execution_count": 68,
     "metadata": {},
     "output_type": "execute_result"
    }
   ],
   "source": [
    "sonucDizisi.argpartition(2)"
   ]
  },
  {
   "cell_type": "code",
   "execution_count": 70,
   "id": "af2c60e5",
   "metadata": {},
   "outputs": [
    {
     "data": {
      "text/plain": [
       "array([ 0,  1,  2,  3,  4,  5,  6,  7,  8,  9, 10, 11, 12, 13, 14, 15, 16,\n",
       "       17, 18, 19])"
      ]
     },
     "execution_count": 70,
     "metadata": {},
     "output_type": "execute_result"
    }
   ],
   "source": [
    "sonDizi"
   ]
  },
  {
   "cell_type": "code",
   "execution_count": 73,
   "id": "5760f85b",
   "metadata": {},
   "outputs": [
    {
     "data": {
      "text/plain": [
       "1"
      ]
     },
     "execution_count": 73,
     "metadata": {},
     "output_type": "execute_result"
    }
   ],
   "source": [
    "np.count_nonzero(sonDizi == 2) #nump için count kullanımı"
   ]
  },
  {
   "cell_type": "code",
   "execution_count": 5,
   "id": "8e914480",
   "metadata": {},
   "outputs": [
    {
     "data": {
      "text/plain": [
       "array([20, 30, 50])"
      ]
     },
     "execution_count": 5,
     "metadata": {},
     "output_type": "execute_result"
    }
   ],
   "source": [
    "import numpy as np\n",
    "myList = [20,30,50]\n",
    "np.array(myList)\n"
   ]
  },
  {
   "cell_type": "code",
   "execution_count": 6,
   "id": "65cc0e52",
   "metadata": {},
   "outputs": [
    {
     "data": {
      "text/plain": [
       "array([0, 1, 2, 3, 4, 5, 6, 7, 8, 9])"
      ]
     },
     "execution_count": 6,
     "metadata": {},
     "output_type": "execute_result"
    }
   ],
   "source": [
    "np.arange(0,10)"
   ]
  },
  {
   "cell_type": "code",
   "execution_count": 7,
   "id": "f4e2b028",
   "metadata": {},
   "outputs": [
    {
     "data": {
      "text/plain": [
       "array([10.  , 11.25, 12.5 , 13.75, 15.  , 16.25, 17.5 , 18.75, 20.  ])"
      ]
     },
     "execution_count": 7,
     "metadata": {},
     "output_type": "execute_result"
    }
   ],
   "source": [
    "np.linspace(10,20,9)   "
   ]
  },
  {
   "cell_type": "code",
   "execution_count": null,
   "id": "2013edb2",
   "metadata": {},
   "outputs": [],
   "source": []
  }
 ],
 "metadata": {
  "kernelspec": {
   "display_name": "Python 3 (ipykernel)",
   "language": "python",
   "name": "python3"
  },
  "language_info": {
   "codemirror_mode": {
    "name": "ipython",
    "version": 3
   },
   "file_extension": ".py",
   "mimetype": "text/x-python",
   "name": "python",
   "nbconvert_exporter": "python",
   "pygments_lexer": "ipython3",
   "version": "3.9.7"
  }
 },
 "nbformat": 4,
 "nbformat_minor": 5
}

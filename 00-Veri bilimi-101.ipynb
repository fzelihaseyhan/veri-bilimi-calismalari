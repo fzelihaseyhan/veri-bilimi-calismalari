{
 "cells": [
  {
   "cell_type": "code",
   "execution_count": 1,
   "id": "be3b105f",
   "metadata": {},
   "outputs": [],
   "source": [
    "myList = [0,1,2,3,4,5]\n"
   ]
  },
  {
   "cell_type": "code",
   "execution_count": 2,
   "id": "e062514c",
   "metadata": {},
   "outputs": [
    {
     "name": "stdout",
     "output_type": "stream",
     "text": [
      "0 \n",
      "\n",
      "1 \n",
      "\n",
      "2 \n",
      "\n",
      "3 \n",
      "\n",
      "4 \n",
      "\n",
      "5 \n",
      "\n"
     ]
    }
   ],
   "source": [
    "for sayi in myList:\n",
    "    print(sayi,\"\\n\")\n",
    "    "
   ]
  },
  {
   "cell_type": "code",
   "execution_count": 3,
   "id": "6749bb05",
   "metadata": {},
   "outputs": [
    {
     "name": "stdout",
     "output_type": "stream",
     "text": [
      "merthan\n"
     ]
    }
   ],
   "source": [
    "if 3 in myList:\n",
    "    print(\"merthan\")"
   ]
  },
  {
   "cell_type": "code",
   "execution_count": 1,
   "id": "67b61e1d",
   "metadata": {},
   "outputs": [
    {
     "data": {
      "text/plain": [
       "[0, 1, 2, 3, 4, 5, 6, 7, 8, 9]"
      ]
     },
     "execution_count": 1,
     "metadata": {},
     "output_type": "execute_result"
    }
   ],
   "source": [
    "list(range(10))"
   ]
  },
  {
   "cell_type": "code",
   "execution_count": 2,
   "id": "b35dad9d",
   "metadata": {},
   "outputs": [
    {
     "name": "stdout",
     "output_type": "stream",
     "text": [
      "0\n",
      "3\n",
      "6\n",
      "9\n",
      "12\n",
      "15\n"
     ]
    }
   ],
   "source": [
    "for sayi in list(range(6)):\n",
    "    print(sayi*3)"
   ]
  },
  {
   "cell_type": "code",
   "execution_count": 6,
   "id": "6534d218",
   "metadata": {},
   "outputs": [
    {
     "data": {
      "text/plain": [
       "[5, 8, 11, 14, 17, 20]"
      ]
     },
     "execution_count": 6,
     "metadata": {},
     "output_type": "execute_result"
    }
   ],
   "source": [
    "list(range(5,22,3))"
   ]
  },
  {
   "cell_type": "markdown",
   "id": "8d976d90",
   "metadata": {},
   "source": [
    "# enumerate"
   ]
  },
  {
   "cell_type": "code",
   "execution_count": 3,
   "id": "d8815e2e",
   "metadata": {},
   "outputs": [
    {
     "name": "stdout",
     "output_type": "stream",
     "text": [
      "yeni sayi: 1, güncel index: 0\n",
      "yeni sayi: 2, güncel index: 1\n",
      "yeni sayi: 3, güncel index: 2\n",
      "yeni sayi: 4, güncel index: 3\n",
      "yeni sayi: 5, güncel index: 4\n",
      "yeni sayi: 6, güncel index: 5\n",
      "yeni sayi: 7, güncel index: 6\n",
      "yeni sayi: 8, güncel index: 7\n",
      "yeni sayi: 9, güncel index: 8\n"
     ]
    }
   ],
   "source": [
    "index = 0\n",
    "for sayi in list(range(1,10)):\n",
    "    print(f\"yeni sayi: {sayi}, güncel index: {index}\")\n",
    "    index += 1 \n",
    "    "
   ]
  },
  {
   "cell_type": "code",
   "execution_count": 4,
   "id": "da3accdb",
   "metadata": {},
   "outputs": [
    {
     "name": "stdout",
     "output_type": "stream",
     "text": [
      "(0, 5)\n",
      "(1, 6)\n",
      "(2, 7)\n",
      "(3, 8)\n",
      "(4, 9)\n"
     ]
    }
   ],
   "source": [
    "for eleman in enumerate(list(range(5,10))):\n",
    "    print(eleman)"
   ]
  },
  {
   "cell_type": "code",
   "execution_count": 9,
   "id": "e640a4f9",
   "metadata": {},
   "outputs": [
    {
     "data": {
      "text/plain": [
       "tuple"
      ]
     },
     "execution_count": 9,
     "metadata": {},
     "output_type": "execute_result"
    }
   ],
   "source": [
    "type(eleman)"
   ]
  },
  {
   "cell_type": "code",
   "execution_count": 10,
   "id": "89e2ad76",
   "metadata": {},
   "outputs": [
    {
     "name": "stdout",
     "output_type": "stream",
     "text": [
      "5\n",
      "6\n",
      "7\n",
      "8\n",
      "9\n"
     ]
    }
   ],
   "source": [
    "for (index,sayi) in enumerate(list(range(5,10))):\n",
    "    print(sayi)"
   ]
  },
  {
   "cell_type": "markdown",
   "id": "45f2ea03",
   "metadata": {},
   "source": [
    "# random"
   ]
  },
  {
   "cell_type": "code",
   "execution_count": 6,
   "id": "78736a93",
   "metadata": {},
   "outputs": [],
   "source": [
    "from random import randint"
   ]
  },
  {
   "cell_type": "code",
   "execution_count": 7,
   "id": "24c3681f",
   "metadata": {},
   "outputs": [
    {
     "data": {
      "text/plain": [
       "32"
      ]
     },
     "execution_count": 7,
     "metadata": {},
     "output_type": "execute_result"
    }
   ],
   "source": [
    "randint(0,50) # 0-50 arası int bir sayı"
   ]
  },
  {
   "cell_type": "code",
   "execution_count": 8,
   "id": "a41b69c7",
   "metadata": {},
   "outputs": [
    {
     "data": {
      "text/plain": [
       "26"
      ]
     },
     "execution_count": 8,
     "metadata": {},
     "output_type": "execute_result"
    }
   ],
   "source": [
    "randint(0,50)"
   ]
  },
  {
   "cell_type": "code",
   "execution_count": 9,
   "id": "ad3f12c8",
   "metadata": {},
   "outputs": [
    {
     "data": {
      "text/plain": [
       "[0, 1, 2, 3, 4, 5, 6, 7, 8, 9, 10]"
      ]
     },
     "execution_count": 9,
     "metadata": {},
     "output_type": "execute_result"
    }
   ],
   "source": [
    "newList = list(range(0,11))\n",
    "newList"
   ]
  },
  {
   "cell_type": "code",
   "execution_count": 10,
   "id": "06f54b50",
   "metadata": {},
   "outputs": [
    {
     "data": {
      "text/plain": [
       "0"
      ]
     },
     "execution_count": 10,
     "metadata": {},
     "output_type": "execute_result"
    }
   ],
   "source": [
    "newList[randint(0,11)]"
   ]
  },
  {
   "cell_type": "code",
   "execution_count": 11,
   "id": "f7f4550e",
   "metadata": {},
   "outputs": [],
   "source": [
    "from random import shuffle "
   ]
  },
  {
   "cell_type": "code",
   "execution_count": 12,
   "id": "cf277e51",
   "metadata": {},
   "outputs": [
    {
     "data": {
      "text/plain": [
       "[7, 6, 9, 10, 5, 2, 3, 8, 4, 1, 0]"
      ]
     },
     "execution_count": 12,
     "metadata": {},
     "output_type": "execute_result"
    }
   ],
   "source": [
    "shuffle (newList) # listeyi karıştırdık.\n",
    "newList"
   ]
  },
  {
   "cell_type": "markdown",
   "id": "c33f9dc1",
   "metadata": {},
   "source": [
    "# zip"
   ]
  },
  {
   "cell_type": "code",
   "execution_count": 13,
   "id": "9a863729",
   "metadata": {},
   "outputs": [
    {
     "data": {
      "text/plain": [
       "[0, 1, 2, 3]"
      ]
     },
     "execution_count": 13,
     "metadata": {},
     "output_type": "execute_result"
    }
   ],
   "source": [
    "list_1 = list(range(4))\n",
    "list_1"
   ]
  },
  {
   "cell_type": "code",
   "execution_count": 14,
   "id": "238412c3",
   "metadata": {},
   "outputs": [
    {
     "data": {
      "text/plain": [
       "[0, 1, 2, 3, 4]"
      ]
     },
     "execution_count": 14,
     "metadata": {},
     "output_type": "execute_result"
    }
   ],
   "source": [
    "list_2 = list(range(5))\n",
    "list_2"
   ]
  },
  {
   "cell_type": "code",
   "execution_count": 15,
   "id": "5523f5bf",
   "metadata": {},
   "outputs": [
    {
     "data": {
      "text/plain": [
       "list"
      ]
     },
     "execution_count": 15,
     "metadata": {},
     "output_type": "execute_result"
    }
   ],
   "source": [
    "toplam = list_1 + list_2\n",
    "type(toplam)"
   ]
  },
  {
   "cell_type": "code",
   "execution_count": 16,
   "id": "61f2e821",
   "metadata": {},
   "outputs": [
    {
     "data": {
      "text/plain": [
       "[0, 1, 2, 3, 0, 1, 2, 3, 4]"
      ]
     },
     "execution_count": 16,
     "metadata": {},
     "output_type": "execute_result"
    }
   ],
   "source": [
    "toplam"
   ]
  },
  {
   "cell_type": "code",
   "execution_count": 17,
   "id": "3daf78e6",
   "metadata": {},
   "outputs": [],
   "source": [
    "meyveListesi = [\"muz\",\"çilek\",\"ananas\"]\n",
    "kaloriListesi = [200,300,400]\n",
    "gunListesi = [\"salı\",\"persembe\",\"cuma\"]"
   ]
  },
  {
   "cell_type": "code",
   "execution_count": 18,
   "id": "7a15e24b",
   "metadata": {},
   "outputs": [
    {
     "data": {
      "text/plain": [
       "[('muz', 200, 'salı'), ('çilek', 300, 'persembe'), ('ananas', 400, 'cuma')]"
      ]
     },
     "execution_count": 18,
     "metadata": {},
     "output_type": "execute_result"
    }
   ],
   "source": [
    "ziplenmis = list(zip(meyveListesi,kaloriListesi,gunListesi))\n",
    "ziplenmis"
   ]
  },
  {
   "cell_type": "code",
   "execution_count": 20,
   "id": "42a22267",
   "metadata": {},
   "outputs": [
    {
     "name": "stdout",
     "output_type": "stream",
     "text": [
      "('muz', 200, 'salı')\n",
      "('çilek', 300, 'persembe')\n",
      "('ananas', 400, 'cuma')\n"
     ]
    }
   ],
   "source": [
    "for eleman in ziplenmis:\n",
    "    print(eleman)"
   ]
  },
  {
   "cell_type": "markdown",
   "id": "43f5a1c0",
   "metadata": {},
   "source": [
    "# ileri seviye"
   ]
  },
  {
   "cell_type": "code",
   "execution_count": 21,
   "id": "03c155fc",
   "metadata": {},
   "outputs": [
    {
     "name": "stdout",
     "output_type": "stream",
     "text": [
      "Z\n",
      "e\n",
      "l\n",
      "i\n",
      "h\n",
      "a\n",
      " \n",
      "S\n",
      "e\n",
      "y\n",
      "h\n",
      "a\n",
      "n\n"
     ]
    }
   ],
   "source": [
    "myString = \"Zeliha Seyhan\"\n",
    "for harf in myString:\n",
    "    print(harf)"
   ]
  },
  {
   "cell_type": "code",
   "execution_count": 22,
   "id": "fd6ac77a",
   "metadata": {},
   "outputs": [],
   "source": [
    "listOrnek = []\n",
    "myString = \"Zeliha Seyhan\"\n",
    "\n",
    "for harf in myString:\n",
    "    listOrnek.append(harf)\n",
    "    "
   ]
  },
  {
   "cell_type": "code",
   "execution_count": 23,
   "id": "8b6b3704",
   "metadata": {},
   "outputs": [
    {
     "data": {
      "text/plain": [
       "['Z', 'e', 'l', 'i', 'h', 'a', ' ', 'S', 'e', 'y', 'h', 'a', 'n']"
      ]
     },
     "execution_count": 23,
     "metadata": {},
     "output_type": "execute_result"
    }
   ],
   "source": [
    "listOrnek"
   ]
  },
  {
   "cell_type": "code",
   "execution_count": 27,
   "id": "57e043de",
   "metadata": {},
   "outputs": [
    {
     "data": {
      "text/plain": [
       "list"
      ]
     },
     "execution_count": 27,
     "metadata": {},
     "output_type": "execute_result"
    }
   ],
   "source": [
    "x =[3,5.7]\n",
    "type(x)"
   ]
  },
  {
   "cell_type": "code",
   "execution_count": 30,
   "id": "55eb9dce",
   "metadata": {},
   "outputs": [
    {
     "data": {
      "text/plain": [
       "[3, 5.7, 9, 9]"
      ]
     },
     "execution_count": 30,
     "metadata": {},
     "output_type": "execute_result"
    }
   ],
   "source": [
    "x.append(9)\n",
    "x"
   ]
  },
  {
   "cell_type": "code",
   "execution_count": 31,
   "id": "d8d456f0",
   "metadata": {},
   "outputs": [],
   "source": [
    "yeniString = \"Zeliha Seyhan\""
   ]
  },
  {
   "cell_type": "code",
   "execution_count": 32,
   "id": "9624f02a",
   "metadata": {},
   "outputs": [],
   "source": [
    "yeniListe = [eleman for eleman in yeniString]"
   ]
  },
  {
   "cell_type": "code",
   "execution_count": 33,
   "id": "b86b2d17",
   "metadata": {},
   "outputs": [
    {
     "data": {
      "text/plain": [
       "['Z', 'e', 'l', 'i', 'h', 'a', ' ', 'S', 'e', 'y', 'h', 'a', 'n']"
      ]
     },
     "execution_count": 33,
     "metadata": {},
     "output_type": "execute_result"
    }
   ],
   "source": [
    "yeniListe"
   ]
  },
  {
   "cell_type": "code",
   "execution_count": 34,
   "id": "31e51ca3",
   "metadata": {},
   "outputs": [],
   "source": [
    "ikinciListe = [numara ** 5 for numara in list(range(0,10)) ]"
   ]
  },
  {
   "cell_type": "code",
   "execution_count": 35,
   "id": "9cb0cc92",
   "metadata": {},
   "outputs": [
    {
     "data": {
      "text/plain": [
       "[0, 1, 32, 243, 1024, 3125, 7776, 16807, 32768, 59049]"
      ]
     },
     "execution_count": 35,
     "metadata": {},
     "output_type": "execute_result"
    }
   ],
   "source": [
    "ikinciListe"
   ]
  },
  {
   "cell_type": "code",
   "execution_count": null,
   "id": "2bb21177",
   "metadata": {},
   "outputs": [],
   "source": []
  }
 ],
 "metadata": {
  "kernelspec": {
   "display_name": "Python 3 (ipykernel)",
   "language": "python",
   "name": "python3"
  },
  "language_info": {
   "codemirror_mode": {
    "name": "ipython",
    "version": 3
   },
   "file_extension": ".py",
   "mimetype": "text/x-python",
   "name": "python",
   "nbconvert_exporter": "python",
   "pygments_lexer": "ipython3",
   "version": "3.9.7"
  }
 },
 "nbformat": 4,
 "nbformat_minor": 5
}

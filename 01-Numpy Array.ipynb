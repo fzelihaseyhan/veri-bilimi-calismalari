{
 "cells": [
  {
   "cell_type": "code",
   "execution_count": 1,
   "id": "f95db0f4",
   "metadata": {},
   "outputs": [],
   "source": [
    "import numpy as np"
   ]
  },
  {
   "cell_type": "code",
   "execution_count": 2,
   "id": "e4693842",
   "metadata": {},
   "outputs": [
    {
     "data": {
      "text/plain": [
       "array([10, 20, 30, 40, 50])"
      ]
     },
     "execution_count": 2,
     "metadata": {},
     "output_type": "execute_result"
    }
   ],
   "source": [
    "np.array([10,20,30,40,50])"
   ]
  },
  {
   "cell_type": "code",
   "execution_count": 3,
   "id": "1e2ee350",
   "metadata": {},
   "outputs": [
    {
     "data": {
      "text/plain": [
       "numpy.ndarray"
      ]
     },
     "execution_count": 3,
     "metadata": {},
     "output_type": "execute_result"
    }
   ],
   "source": [
    "type(np.array([10,20,30,40,50]))"
   ]
  },
  {
   "cell_type": "code",
   "execution_count": 4,
   "id": "5939d342",
   "metadata": {},
   "outputs": [],
   "source": [
    " new_array = np.array([10,20,5.8,37.6,53,67.1], dtype=\"float32\")"
   ]
  },
  {
   "cell_type": "code",
   "execution_count": 5,
   "id": "f1846199",
   "metadata": {},
   "outputs": [
    {
     "data": {
      "text/plain": [
       "array([10. , 20. ,  5.8, 37.6, 53. , 67.1], dtype=float32)"
      ]
     },
     "execution_count": 5,
     "metadata": {},
     "output_type": "execute_result"
    }
   ],
   "source": [
    "new_array"
   ]
  },
  {
   "cell_type": "code",
   "execution_count": 6,
   "id": "75e082bb",
   "metadata": {},
   "outputs": [
    {
     "data": {
      "text/plain": [
       "array([[0, 0, 0],\n",
       "       [0, 0, 0],\n",
       "       [0, 0, 0]])"
      ]
     },
     "execution_count": 6,
     "metadata": {},
     "output_type": "execute_result"
    }
   ],
   "source": [
    "np.zeros((3,3), dtype=int)"
   ]
  },
  {
   "cell_type": "code",
   "execution_count": 7,
   "id": "6be7f722",
   "metadata": {},
   "outputs": [
    {
     "data": {
      "text/plain": [
       "array([[1, 1, 1, 1, 1],\n",
       "       [1, 1, 1, 1, 1]])"
      ]
     },
     "execution_count": 7,
     "metadata": {},
     "output_type": "execute_result"
    }
   ],
   "source": [
    "np.ones((2,5), dtype=int)"
   ]
  },
  {
   "cell_type": "code",
   "execution_count": 8,
   "id": "fa606605",
   "metadata": {},
   "outputs": [
    {
     "data": {
      "text/plain": [
       "array([[5, 5, 5],\n",
       "       [5, 5, 5],\n",
       "       [5, 5, 5]])"
      ]
     },
     "execution_count": 8,
     "metadata": {},
     "output_type": "execute_result"
    }
   ],
   "source": [
    "np.full((3,3),5)      # 3*3'lük 5 değerlerinden oluşan matris"
   ]
  },
  {
   "cell_type": "code",
   "execution_count": 9,
   "id": "4938dff3",
   "metadata": {},
   "outputs": [
    {
     "data": {
      "text/plain": [
       "array([10, 12, 14, 16, 18])"
      ]
     },
     "execution_count": 9,
     "metadata": {},
     "output_type": "execute_result"
    }
   ],
   "source": [
    "np.arange(10,20,2)    #10-20 arasında 2 arttırarak yazdırır."
   ]
  },
  {
   "cell_type": "code",
   "execution_count": 10,
   "id": "c599071e",
   "metadata": {},
   "outputs": [
    {
     "data": {
      "text/plain": [
       "array([10. , 12.5, 15. , 17.5, 20. ])"
      ]
     },
     "execution_count": 10,
     "metadata": {},
     "output_type": "execute_result"
    }
   ],
   "source": [
    "np.linspace(10,20,5)  #10-20 arasında 5 tane sayı yazdırır."
   ]
  },
  {
   "cell_type": "code",
   "execution_count": 11,
   "id": "aa19f30d",
   "metadata": {},
   "outputs": [
    {
     "data": {
      "text/plain": [
       "array([[-1.9524076 , -0.77447245, -3.23177501,  2.23557505,  6.21509108],\n",
       "       [ 0.58925602,  2.38354647,  0.23165959,  5.50778897,  1.67934949],\n",
       "       [ 2.59458839, -0.30342612, -0.49011039, -2.63782804,  1.32961064],\n",
       "       [ 0.56180287,  1.59025135,  3.47081545,  4.77978444, -0.7343232 ]])"
      ]
     },
     "execution_count": 11,
     "metadata": {},
     "output_type": "execute_result"
    }
   ],
   "source": [
    "np.random.normal(1,2,(4,5))  # ortalaması 1, standart sapması 2 olan 4*5'lik matris"
   ]
  },
  {
   "cell_type": "code",
   "execution_count": 12,
   "id": "bda3e84b",
   "metadata": {},
   "outputs": [
    {
     "data": {
      "text/plain": [
       "array([[6, 7, 9, 5, 5, 3],\n",
       "       [8, 3, 2, 2, 5, 8],\n",
       "       [5, 7, 8, 7, 6, 4],\n",
       "       [7, 4, 9, 2, 7, 8]])"
      ]
     },
     "execution_count": 12,
     "metadata": {},
     "output_type": "execute_result"
    }
   ],
   "source": [
    "np.random.randint(2,10,(4,6)) #değerleri 2-10 olan 4*6'lık matris"
   ]
  },
  {
   "cell_type": "markdown",
   "id": "5fef1d66",
   "metadata": {},
   "source": [
    "# Özellikleri"
   ]
  },
  {
   "cell_type": "code",
   "execution_count": 13,
   "id": "6938c46b",
   "metadata": {},
   "outputs": [],
   "source": [
    "yeni = np.random.randint(15, size=8)"
   ]
  },
  {
   "cell_type": "code",
   "execution_count": 14,
   "id": "36cf53c0",
   "metadata": {},
   "outputs": [
    {
     "data": {
      "text/plain": [
       "array([ 5,  0, 14,  5,  5,  4, 13,  0])"
      ]
     },
     "execution_count": 14,
     "metadata": {},
     "output_type": "execute_result"
    }
   ],
   "source": [
    "yeni"
   ]
  },
  {
   "cell_type": "code",
   "execution_count": 15,
   "id": "81afc0e7",
   "metadata": {},
   "outputs": [],
   "source": [
    "baska_degisken = np.random.randint(5, size = (3,3,3))"
   ]
  },
  {
   "cell_type": "code",
   "execution_count": 16,
   "id": "2c7cd598",
   "metadata": {},
   "outputs": [
    {
     "data": {
      "text/plain": [
       "array([[[2, 1, 0],\n",
       "        [2, 4, 4],\n",
       "        [0, 3, 2]],\n",
       "\n",
       "       [[3, 2, 4],\n",
       "        [1, 3, 2],\n",
       "        [2, 0, 1]],\n",
       "\n",
       "       [[2, 0, 1],\n",
       "        [2, 3, 0],\n",
       "        [2, 1, 1]]])"
      ]
     },
     "execution_count": 16,
     "metadata": {},
     "output_type": "execute_result"
    }
   ],
   "source": [
    "baska_degisken"
   ]
  },
  {
   "cell_type": "code",
   "execution_count": 17,
   "id": "1596ce9b",
   "metadata": {},
   "outputs": [],
   "source": [
    "array = np.random.randint(1,10,(3,3))  #rastgele dağılımlı tamsayılardan oluşan array"
   ]
  },
  {
   "cell_type": "raw",
   "id": "1354fdfe",
   "metadata": {},
   "source": [
    "# ndim = boyut sayısı"
   ]
  },
  {
   "cell_type": "raw",
   "id": "9565a8b7",
   "metadata": {},
   "source": [
    "# shape = boyut bilgisi"
   ]
  },
  {
   "cell_type": "raw",
   "id": "6ff549e0",
   "metadata": {},
   "source": [
    "# size = eleman sayısı"
   ]
  },
  {
   "cell_type": "raw",
   "id": "dc820dce",
   "metadata": {},
   "source": [
    "# dtype = veri tipi"
   ]
  },
  {
   "cell_type": "code",
   "execution_count": 22,
   "id": "4b5e1ca1",
   "metadata": {},
   "outputs": [
    {
     "data": {
      "text/plain": [
       "2"
      ]
     },
     "execution_count": 22,
     "metadata": {},
     "output_type": "execute_result"
    }
   ],
   "source": [
    "array.ndim"
   ]
  },
  {
   "cell_type": "code",
   "execution_count": 23,
   "id": "c4b7fd6d",
   "metadata": {},
   "outputs": [
    {
     "data": {
      "text/plain": [
       "(3, 3)"
      ]
     },
     "execution_count": 23,
     "metadata": {},
     "output_type": "execute_result"
    }
   ],
   "source": [
    "array.shape"
   ]
  },
  {
   "cell_type": "code",
   "execution_count": 24,
   "id": "136c1b3e",
   "metadata": {},
   "outputs": [
    {
     "data": {
      "text/plain": [
       "9"
      ]
     },
     "execution_count": 24,
     "metadata": {},
     "output_type": "execute_result"
    }
   ],
   "source": [
    "array.size"
   ]
  },
  {
   "cell_type": "code",
   "execution_count": 25,
   "id": "20c4091b",
   "metadata": {},
   "outputs": [
    {
     "data": {
      "text/plain": [
       "dtype('int32')"
      ]
     },
     "execution_count": 25,
     "metadata": {},
     "output_type": "execute_result"
    }
   ],
   "source": [
    "array.dtype"
   ]
  },
  {
   "cell_type": "code",
   "execution_count": 26,
   "id": "d7475bbb",
   "metadata": {},
   "outputs": [
    {
     "data": {
      "text/plain": [
       "(3, 3, 3)"
      ]
     },
     "execution_count": 26,
     "metadata": {},
     "output_type": "execute_result"
    }
   ],
   "source": [
    "baska_degisken.shape"
   ]
  },
  {
   "cell_type": "code",
   "execution_count": 27,
   "id": "87ea9a75",
   "metadata": {},
   "outputs": [
    {
     "data": {
      "text/plain": [
       "3"
      ]
     },
     "execution_count": 27,
     "metadata": {},
     "output_type": "execute_result"
    }
   ],
   "source": [
    "baska_degisken.ndim"
   ]
  },
  {
   "cell_type": "markdown",
   "id": "24821080",
   "metadata": {},
   "source": [
    "# Boyut Özellikleri"
   ]
  },
  {
   "cell_type": "code",
   "execution_count": 28,
   "id": "545daa04",
   "metadata": {},
   "outputs": [
    {
     "data": {
      "text/plain": [
       "array([ 1,  2,  3,  4,  5,  6,  7,  8,  9, 10, 11, 12, 13, 14, 15])"
      ]
     },
     "execution_count": 28,
     "metadata": {},
     "output_type": "execute_result"
    }
   ],
   "source": [
    "np.arange(1,16)"
   ]
  },
  {
   "cell_type": "code",
   "execution_count": 29,
   "id": "251147cd",
   "metadata": {},
   "outputs": [],
   "source": [
    "a = np.random.randint(16, size=(5,5))"
   ]
  },
  {
   "cell_type": "code",
   "execution_count": 31,
   "id": "a6f609ae",
   "metadata": {},
   "outputs": [
    {
     "data": {
      "text/plain": [
       "array([[14,  2, 14,  3, 14],\n",
       "       [ 7,  1,  7, 15, 10],\n",
       "       [13,  5,  7,  4, 10],\n",
       "       [ 5,  1,  4,  8,  1],\n",
       "       [12, 11,  8, 12,  6]])"
      ]
     },
     "execution_count": 31,
     "metadata": {},
     "output_type": "execute_result"
    }
   ],
   "source": [
    "a"
   ]
  },
  {
   "cell_type": "code",
   "execution_count": 32,
   "id": "cb835820",
   "metadata": {},
   "outputs": [
    {
     "data": {
      "text/plain": [
       "array([[ 1,  2,  3,  4,  5],\n",
       "       [ 6,  7,  8,  9, 10],\n",
       "       [11, 12, 13, 14, 15]])"
      ]
     },
     "execution_count": 32,
     "metadata": {},
     "output_type": "execute_result"
    }
   ],
   "source": [
    "np.arange(1,16).reshape((3,5))  # matrise çevirdik."
   ]
  },
  {
   "cell_type": "code",
   "execution_count": 33,
   "id": "5b139e0d",
   "metadata": {},
   "outputs": [],
   "source": [
    "onemli_1 = np.array([2,3,4]) # vektörü matrise çevirme?"
   ]
  },
  {
   "cell_type": "code",
   "execution_count": 34,
   "id": "dc4e89d2",
   "metadata": {},
   "outputs": [],
   "source": [
    "onemli_2 = onemli_1.reshape((1,3)) # yeniden boyutlandırma ile matrise dönüştü."
   ]
  },
  {
   "cell_type": "code",
   "execution_count": 35,
   "id": "4abd22e2",
   "metadata": {},
   "outputs": [
    {
     "data": {
      "text/plain": [
       "(3,)"
      ]
     },
     "execution_count": 35,
     "metadata": {},
     "output_type": "execute_result"
    }
   ],
   "source": [
    "onemli_1.shape  # vektör"
   ]
  },
  {
   "cell_type": "code",
   "execution_count": 36,
   "id": "080753d9",
   "metadata": {},
   "outputs": [
    {
     "data": {
      "text/plain": [
       "(1, 3)"
      ]
     },
     "execution_count": 36,
     "metadata": {},
     "output_type": "execute_result"
    }
   ],
   "source": [
    "onemli_2.shape  # matris"
   ]
  },
  {
   "cell_type": "code",
   "execution_count": 37,
   "id": "5021777a",
   "metadata": {},
   "outputs": [
    {
     "data": {
      "text/plain": [
       "1"
      ]
     },
     "execution_count": 37,
     "metadata": {},
     "output_type": "execute_result"
    }
   ],
   "source": [
    "onemli_1.ndim"
   ]
  },
  {
   "cell_type": "code",
   "execution_count": 38,
   "id": "052c6f46",
   "metadata": {},
   "outputs": [
    {
     "data": {
      "text/plain": [
       "2"
      ]
     },
     "execution_count": 38,
     "metadata": {},
     "output_type": "execute_result"
    }
   ],
   "source": [
    "onemli_2.ndim"
   ]
  },
  {
   "cell_type": "code",
   "execution_count": 39,
   "id": "7addc197",
   "metadata": {},
   "outputs": [
    {
     "data": {
      "text/plain": [
       "3"
      ]
     },
     "execution_count": 39,
     "metadata": {},
     "output_type": "execute_result"
    }
   ],
   "source": [
    "onemli_1.size"
   ]
  },
  {
   "cell_type": "code",
   "execution_count": 40,
   "id": "83ea4368",
   "metadata": {},
   "outputs": [
    {
     "data": {
      "text/plain": [
       "3"
      ]
     },
     "execution_count": 40,
     "metadata": {},
     "output_type": "execute_result"
    }
   ],
   "source": [
    "onemli_2.size"
   ]
  },
  {
   "cell_type": "code",
   "execution_count": 41,
   "id": "161a18ff",
   "metadata": {},
   "outputs": [
    {
     "data": {
      "text/plain": [
       "array([[2, 3, 4]])"
      ]
     },
     "execution_count": 41,
     "metadata": {},
     "output_type": "execute_result"
    }
   ],
   "source": [
    "onemli_1[np.newaxis, :]  # tek boyutlu değişken 2 boyutluya dönüştü."
   ]
  },
  {
   "cell_type": "code",
   "execution_count": 42,
   "id": "e96c8c1b",
   "metadata": {},
   "outputs": [
    {
     "data": {
      "text/plain": [
       "array([2, 3, 4])"
      ]
     },
     "execution_count": 42,
     "metadata": {},
     "output_type": "execute_result"
    }
   ],
   "source": [
    "onemli_1 # tek boyutlu değişken"
   ]
  },
  {
   "cell_type": "code",
   "execution_count": 43,
   "id": "e8eefd00",
   "metadata": {},
   "outputs": [
    {
     "data": {
      "text/plain": [
       "array([[2],\n",
       "       [3],\n",
       "       [4]])"
      ]
     },
     "execution_count": 43,
     "metadata": {},
     "output_type": "execute_result"
    }
   ],
   "source": [
    "onemli_1[:, np.newaxis]  "
   ]
  },
  {
   "cell_type": "markdown",
   "id": "77f6d747",
   "metadata": {},
   "source": [
    "# Array Birleştirme"
   ]
  },
  {
   "cell_type": "code",
   "execution_count": 50,
   "id": "2c7719e3",
   "metadata": {},
   "outputs": [],
   "source": [
    "import numpy as np"
   ]
  },
  {
   "cell_type": "code",
   "execution_count": 51,
   "id": "81ea9a68",
   "metadata": {},
   "outputs": [],
   "source": [
    "x = np.array([1,3,5])\n",
    "y = np.array([2,4,6])"
   ]
  },
  {
   "cell_type": "code",
   "execution_count": 52,
   "id": "b5267081",
   "metadata": {},
   "outputs": [
    {
     "data": {
      "text/plain": [
       "array([1, 3, 5])"
      ]
     },
     "execution_count": 52,
     "metadata": {},
     "output_type": "execute_result"
    }
   ],
   "source": [
    "x"
   ]
  },
  {
   "cell_type": "code",
   "execution_count": 53,
   "id": "98f4acff",
   "metadata": {},
   "outputs": [
    {
     "data": {
      "text/plain": [
       "array([2, 4, 6])"
      ]
     },
     "execution_count": 53,
     "metadata": {},
     "output_type": "execute_result"
    }
   ],
   "source": [
    "y"
   ]
  },
  {
   "cell_type": "code",
   "execution_count": 54,
   "id": "9e0c5595",
   "metadata": {},
   "outputs": [
    {
     "data": {
      "text/plain": [
       "array([1, 3, 5, 2, 4, 6])"
      ]
     },
     "execution_count": 54,
     "metadata": {},
     "output_type": "execute_result"
    }
   ],
   "source": [
    "np.concatenate([x,y])   # 2 array birleştirildi."
   ]
  },
  {
   "cell_type": "code",
   "execution_count": 55,
   "id": "ed1a6308",
   "metadata": {},
   "outputs": [],
   "source": [
    "z = np.array([7,8,9])"
   ]
  },
  {
   "cell_type": "code",
   "execution_count": 56,
   "id": "f49e9db7",
   "metadata": {},
   "outputs": [
    {
     "data": {
      "text/plain": [
       "array([1, 3, 5, 2, 4, 6, 7, 8, 9])"
      ]
     },
     "execution_count": 56,
     "metadata": {},
     "output_type": "execute_result"
    }
   ],
   "source": [
    "np.concatenate([x,y,z])"
   ]
  },
  {
   "cell_type": "code",
   "execution_count": 57,
   "id": "d298128e",
   "metadata": {},
   "outputs": [],
   "source": [
    "a = np.array([[1,2,3],[4,5,6]])"
   ]
  },
  {
   "cell_type": "code",
   "execution_count": 58,
   "id": "47aa59d5",
   "metadata": {},
   "outputs": [
    {
     "data": {
      "text/plain": [
       "array([[1, 2, 3],\n",
       "       [4, 5, 6],\n",
       "       [1, 2, 3],\n",
       "       [4, 5, 6]])"
      ]
     },
     "execution_count": 58,
     "metadata": {},
     "output_type": "execute_result"
    }
   ],
   "source": [
    "np.concatenate([a,a])  # satır bazında birleştirme yaptı."
   ]
  },
  {
   "cell_type": "code",
   "execution_count": 59,
   "id": "ba949fed",
   "metadata": {},
   "outputs": [
    {
     "data": {
      "text/plain": [
       "array([[1, 2, 3, 1, 2, 3, 1, 2, 3],\n",
       "       [4, 5, 6, 4, 5, 6, 4, 5, 6]])"
      ]
     },
     "execution_count": 59,
     "metadata": {},
     "output_type": "execute_result"
    }
   ],
   "source": [
    "np.concatenate([a,a,a], axis =1)  # sütunları birleştirdi."
   ]
  },
  {
   "cell_type": "code",
   "execution_count": 60,
   "id": "f5b16fb0",
   "metadata": {},
   "outputs": [],
   "source": [
    "a = np.array([[1,2,3],[4,5,6]])  # Boyutları farklı iki diziyi birleştirme\n",
    "b = np.array([7,8,9])"
   ]
  },
  {
   "cell_type": "code",
   "execution_count": 61,
   "id": "dcc19eb2",
   "metadata": {},
   "outputs": [
    {
     "data": {
      "text/plain": [
       "2"
      ]
     },
     "execution_count": 61,
     "metadata": {},
     "output_type": "execute_result"
    }
   ],
   "source": [
    "a.ndim  "
   ]
  },
  {
   "cell_type": "code",
   "execution_count": 62,
   "id": "899d58af",
   "metadata": {},
   "outputs": [
    {
     "data": {
      "text/plain": [
       "1"
      ]
     },
     "execution_count": 62,
     "metadata": {},
     "output_type": "execute_result"
    }
   ],
   "source": [
    "b.ndim"
   ]
  },
  {
   "cell_type": "code",
   "execution_count": 63,
   "id": "658a0425",
   "metadata": {},
   "outputs": [
    {
     "data": {
      "text/plain": [
       "array([[1, 2, 3],\n",
       "       [4, 5, 6],\n",
       "       [7, 8, 9]])"
      ]
     },
     "execution_count": 63,
     "metadata": {},
     "output_type": "execute_result"
    }
   ],
   "source": [
    "np.vstack([a,b])   #satır bazında birleştirme yaptık."
   ]
  },
  {
   "cell_type": "code",
   "execution_count": 64,
   "id": "806d20d5",
   "metadata": {},
   "outputs": [],
   "source": [
    "c = np.array([[12],[13]])"
   ]
  },
  {
   "cell_type": "code",
   "execution_count": 65,
   "id": "278d566d",
   "metadata": {},
   "outputs": [
    {
     "data": {
      "text/plain": [
       "(2, 1)"
      ]
     },
     "execution_count": 65,
     "metadata": {},
     "output_type": "execute_result"
    }
   ],
   "source": [
    "c.shape"
   ]
  },
  {
   "cell_type": "code",
   "execution_count": 66,
   "id": "fe1b5fa9",
   "metadata": {},
   "outputs": [
    {
     "data": {
      "text/plain": [
       "(2, 3)"
      ]
     },
     "execution_count": 66,
     "metadata": {},
     "output_type": "execute_result"
    }
   ],
   "source": [
    "a.shape"
   ]
  },
  {
   "cell_type": "markdown",
   "id": "37531163",
   "metadata": {},
   "source": [
    "#  a ve c matrislerinin satır sayıları aynı olduğu için birleştirme yapılabilir."
   ]
  },
  {
   "cell_type": "code",
   "execution_count": 67,
   "id": "4807daca",
   "metadata": {},
   "outputs": [
    {
     "data": {
      "text/plain": [
       "array([[ 1,  2,  3, 12],\n",
       "       [ 4,  5,  6, 13]])"
      ]
     },
     "execution_count": 67,
     "metadata": {},
     "output_type": "execute_result"
    }
   ],
   "source": [
    "np.hstack([a,c])   #sütun olarak ekledi"
   ]
  },
  {
   "cell_type": "markdown",
   "id": "09ffaeec",
   "metadata": {},
   "source": [
    "# Array ayırma işlemleri"
   ]
  },
  {
   "cell_type": "code",
   "execution_count": 68,
   "id": "4d26048b",
   "metadata": {},
   "outputs": [],
   "source": [
    "import numpy as np"
   ]
  },
  {
   "cell_type": "code",
   "execution_count": 69,
   "id": "d766e112",
   "metadata": {},
   "outputs": [],
   "source": [
    " yeni = [1,2,3,6,9,45,61,28,79]"
   ]
  },
  {
   "cell_type": "code",
   "execution_count": 70,
   "id": "75c4af4d",
   "metadata": {},
   "outputs": [
    {
     "data": {
      "text/plain": [
       "[1, 2, 3, 6, 9, 45, 61, 28, 79]"
      ]
     },
     "execution_count": 70,
     "metadata": {},
     "output_type": "execute_result"
    }
   ],
   "source": [
    "yeni"
   ]
  },
  {
   "cell_type": "code",
   "execution_count": 71,
   "id": "6aa8a8e9",
   "metadata": {},
   "outputs": [],
   "source": [
    "yeni1, yeni2, yeni3 = np.split(yeni,[2,6])"
   ]
  },
  {
   "cell_type": "code",
   "execution_count": 72,
   "id": "ac88baa8",
   "metadata": {},
   "outputs": [
    {
     "data": {
      "text/plain": [
       "array([1, 2])"
      ]
     },
     "execution_count": 72,
     "metadata": {},
     "output_type": "execute_result"
    }
   ],
   "source": [
    "yeni1"
   ]
  },
  {
   "cell_type": "code",
   "execution_count": 73,
   "id": "ff2d8640",
   "metadata": {},
   "outputs": [
    {
     "data": {
      "text/plain": [
       "array([61, 28, 79])"
      ]
     },
     "execution_count": 73,
     "metadata": {},
     "output_type": "execute_result"
    }
   ],
   "source": [
    "yeni3"
   ]
  },
  {
   "cell_type": "code",
   "execution_count": 74,
   "id": "50c49d1b",
   "metadata": {},
   "outputs": [],
   "source": [
    "x = np.arange(16).reshape((4,4))"
   ]
  },
  {
   "cell_type": "code",
   "execution_count": 75,
   "id": "bc247e64",
   "metadata": {},
   "outputs": [
    {
     "data": {
      "text/plain": [
       "array([[ 0,  1,  2,  3],\n",
       "       [ 4,  5,  6,  7],\n",
       "       [ 8,  9, 10, 11],\n",
       "       [12, 13, 14, 15]])"
      ]
     },
     "execution_count": 75,
     "metadata": {},
     "output_type": "execute_result"
    }
   ],
   "source": [
    "x"
   ]
  },
  {
   "cell_type": "code",
   "execution_count": 76,
   "id": "96cf3909",
   "metadata": {},
   "outputs": [],
   "source": [
    "x1,x2 = np.vsplit(x,[2])"
   ]
  },
  {
   "cell_type": "code",
   "execution_count": 77,
   "id": "828eb905",
   "metadata": {},
   "outputs": [
    {
     "data": {
      "text/plain": [
       "array([[0, 1, 2, 3],\n",
       "       [4, 5, 6, 7]])"
      ]
     },
     "execution_count": 77,
     "metadata": {},
     "output_type": "execute_result"
    }
   ],
   "source": [
    "x1"
   ]
  },
  {
   "cell_type": "code",
   "execution_count": 78,
   "id": "99303870",
   "metadata": {},
   "outputs": [
    {
     "data": {
      "text/plain": [
       "array([[ 8,  9, 10, 11],\n",
       "       [12, 13, 14, 15]])"
      ]
     },
     "execution_count": 78,
     "metadata": {},
     "output_type": "execute_result"
    }
   ],
   "source": [
    "x2"
   ]
  },
  {
   "cell_type": "code",
   "execution_count": 79,
   "id": "38343ccf",
   "metadata": {},
   "outputs": [],
   "source": [
    "x3, x4 = np.hsplit(x, [2])"
   ]
  },
  {
   "cell_type": "code",
   "execution_count": 80,
   "id": "3f2937fa",
   "metadata": {},
   "outputs": [
    {
     "data": {
      "text/plain": [
       "array([[ 0,  1],\n",
       "       [ 4,  5],\n",
       "       [ 8,  9],\n",
       "       [12, 13]])"
      ]
     },
     "execution_count": 80,
     "metadata": {},
     "output_type": "execute_result"
    }
   ],
   "source": [
    "x3"
   ]
  },
  {
   "cell_type": "code",
   "execution_count": 81,
   "id": "f4371f54",
   "metadata": {},
   "outputs": [
    {
     "data": {
      "text/plain": [
       "array([[ 2,  3],\n",
       "       [ 6,  7],\n",
       "       [10, 11],\n",
       "       [14, 15]])"
      ]
     },
     "execution_count": 81,
     "metadata": {},
     "output_type": "execute_result"
    }
   ],
   "source": [
    "x4"
   ]
  },
  {
   "cell_type": "markdown",
   "id": "900b6bbb",
   "metadata": {},
   "source": [
    "# Sıralama İşlemleri"
   ]
  },
  {
   "cell_type": "code",
   "execution_count": 82,
   "id": "b89cd92c",
   "metadata": {},
   "outputs": [],
   "source": [
    "import numpy as np"
   ]
  },
  {
   "cell_type": "code",
   "execution_count": 83,
   "id": "64dfd468",
   "metadata": {},
   "outputs": [],
   "source": [
    "x = np.array([1,6,5,2,9])"
   ]
  },
  {
   "cell_type": "code",
   "execution_count": 84,
   "id": "fc3b17ba",
   "metadata": {},
   "outputs": [
    {
     "data": {
      "text/plain": [
       "array([1, 6, 5, 2, 9])"
      ]
     },
     "execution_count": 84,
     "metadata": {},
     "output_type": "execute_result"
    }
   ],
   "source": [
    "x"
   ]
  },
  {
   "cell_type": "code",
   "execution_count": 85,
   "id": "295ff47f",
   "metadata": {},
   "outputs": [
    {
     "data": {
      "text/plain": [
       "array([1, 2, 5, 6, 9])"
      ]
     },
     "execution_count": 85,
     "metadata": {},
     "output_type": "execute_result"
    }
   ],
   "source": [
    "np.sort(x)  #sıralama yaptık."
   ]
  },
  {
   "cell_type": "code",
   "execution_count": 86,
   "id": "cb1ea8d8",
   "metadata": {},
   "outputs": [
    {
     "data": {
      "text/plain": [
       "array([1, 6, 5, 2, 9])"
      ]
     },
     "execution_count": 86,
     "metadata": {},
     "output_type": "execute_result"
    }
   ],
   "source": [
    "x"
   ]
  },
  {
   "cell_type": "code",
   "execution_count": 90,
   "id": "ec9f8d8a",
   "metadata": {},
   "outputs": [],
   "source": [
    "x.sort()  #kalıcı kaydeder."
   ]
  },
  {
   "cell_type": "code",
   "execution_count": 91,
   "id": "bf1f12e1",
   "metadata": {},
   "outputs": [
    {
     "data": {
      "text/plain": [
       "array([1, 2, 5, 6, 9])"
      ]
     },
     "execution_count": 91,
     "metadata": {},
     "output_type": "execute_result"
    }
   ],
   "source": [
    "x"
   ]
  },
  {
   "cell_type": "code",
   "execution_count": 92,
   "id": "371ca23d",
   "metadata": {},
   "outputs": [],
   "source": [
    "x = np.array([1,6,5,2,9])"
   ]
  },
  {
   "cell_type": "code",
   "execution_count": 93,
   "id": "d029c976",
   "metadata": {},
   "outputs": [],
   "source": [
    "y = np.argsort(x)   #array sırası indise göre değişiyor."
   ]
  },
  {
   "cell_type": "code",
   "execution_count": 95,
   "id": "60ff971c",
   "metadata": {},
   "outputs": [
    {
     "data": {
      "text/plain": [
       "array([0, 3, 2, 1, 4], dtype=int64)"
      ]
     },
     "execution_count": 95,
     "metadata": {},
     "output_type": "execute_result"
    }
   ],
   "source": [
    "y                   # x'te 3.eleman(2 sayısı) y dizisinde 1 .eleman olarak atanır."
   ]
  },
  {
   "cell_type": "code",
   "execution_count": 96,
   "id": "3b8588bd",
   "metadata": {},
   "outputs": [
    {
     "data": {
      "text/plain": [
       "array([1, 2, 5, 6, 9])"
      ]
     },
     "execution_count": 96,
     "metadata": {},
     "output_type": "execute_result"
    }
   ],
   "source": [
    "x[y]"
   ]
  },
  {
   "cell_type": "code",
   "execution_count": 97,
   "id": "e0221baf",
   "metadata": {},
   "outputs": [
    {
     "data": {
      "text/plain": [
       "array([1, 6, 5, 2, 9])"
      ]
     },
     "execution_count": 97,
     "metadata": {},
     "output_type": "execute_result"
    }
   ],
   "source": [
    "x"
   ]
  },
  {
   "cell_type": "markdown",
   "id": "eced745a",
   "metadata": {},
   "source": [
    "# Index İşlemleri"
   ]
  },
  {
   "cell_type": "code",
   "execution_count": 98,
   "id": "0fbaa5af",
   "metadata": {},
   "outputs": [],
   "source": [
    "import numpy as np"
   ]
  },
  {
   "cell_type": "code",
   "execution_count": 101,
   "id": "050b184f",
   "metadata": {},
   "outputs": [],
   "source": [
    "x = np.random.randint(15, size=15 )"
   ]
  },
  {
   "cell_type": "code",
   "execution_count": 102,
   "id": "155b7b60",
   "metadata": {},
   "outputs": [
    {
     "data": {
      "text/plain": [
       "array([ 3,  0,  4,  3,  4, 11,  4,  1,  8,  7,  3,  5,  6,  5, 13])"
      ]
     },
     "execution_count": 102,
     "metadata": {},
     "output_type": "execute_result"
    }
   ],
   "source": [
    "x"
   ]
  },
  {
   "cell_type": "code",
   "execution_count": 104,
   "id": "3c9dca73",
   "metadata": {},
   "outputs": [
    {
     "data": {
      "text/plain": [
       "13"
      ]
     },
     "execution_count": 104,
     "metadata": {},
     "output_type": "execute_result"
    }
   ],
   "source": [
    "x[-1]  #son eleman"
   ]
  },
  {
   "cell_type": "code",
   "execution_count": 106,
   "id": "82a093b8",
   "metadata": {},
   "outputs": [
    {
     "data": {
      "text/plain": [
       "5"
      ]
     },
     "execution_count": 106,
     "metadata": {},
     "output_type": "execute_result"
    }
   ],
   "source": [
    "x[-2] "
   ]
  },
  {
   "cell_type": "code",
   "execution_count": 107,
   "id": "7d41f4c0",
   "metadata": {},
   "outputs": [],
   "source": [
    "x[-2] = 10   #indisin değerini değiştirdik."
   ]
  },
  {
   "cell_type": "code",
   "execution_count": 108,
   "id": "92ff2ee9",
   "metadata": {},
   "outputs": [
    {
     "data": {
      "text/plain": [
       "array([ 3,  0,  4,  3,  4, 11,  4,  1,  8,  7,  3,  5,  6, 10, 13])"
      ]
     },
     "execution_count": 108,
     "metadata": {},
     "output_type": "execute_result"
    }
   ],
   "source": [
    "x"
   ]
  },
  {
   "cell_type": "code",
   "execution_count": 109,
   "id": "c078adf3",
   "metadata": {},
   "outputs": [],
   "source": [
    "y = np.random.randint(15, size = (3,4))"
   ]
  },
  {
   "cell_type": "code",
   "execution_count": 110,
   "id": "2981f9b5",
   "metadata": {},
   "outputs": [
    {
     "data": {
      "text/plain": [
       "array([[12,  5,  0,  3],\n",
       "       [ 4,  8,  3,  5],\n",
       "       [12, 13, 14, 11]])"
      ]
     },
     "execution_count": 110,
     "metadata": {},
     "output_type": "execute_result"
    }
   ],
   "source": [
    "y"
   ]
  },
  {
   "cell_type": "code",
   "execution_count": 111,
   "id": "b12cb672",
   "metadata": {},
   "outputs": [
    {
     "data": {
      "text/plain": [
       "12"
      ]
     },
     "execution_count": 111,
     "metadata": {},
     "output_type": "execute_result"
    }
   ],
   "source": [
    "y[0][0]"
   ]
  },
  {
   "cell_type": "code",
   "execution_count": 114,
   "id": "27ec10da",
   "metadata": {},
   "outputs": [
    {
     "data": {
      "text/plain": [
       "14"
      ]
     },
     "execution_count": 114,
     "metadata": {},
     "output_type": "execute_result"
    }
   ],
   "source": [
    "y[2,2]"
   ]
  },
  {
   "cell_type": "code",
   "execution_count": 117,
   "id": "ae22d59a",
   "metadata": {},
   "outputs": [],
   "source": [
    "y[2,2] = 29 #değer değiştirme"
   ]
  },
  {
   "cell_type": "code",
   "execution_count": 118,
   "id": "2a63fe9b",
   "metadata": {},
   "outputs": [
    {
     "data": {
      "text/plain": [
       "array([[12,  5,  0,  3],\n",
       "       [ 4,  8,  3,  5],\n",
       "       [12, 13, 29, 11]])"
      ]
     },
     "execution_count": 118,
     "metadata": {},
     "output_type": "execute_result"
    }
   ],
   "source": [
    "y"
   ]
  },
  {
   "cell_type": "raw",
   "id": "827c1587",
   "metadata": {},
   "source": [
    "# array'e float değer atama işlemi yapamayız.İçerisindeki elemanların veri tipi aynı olmalı"
   ]
  },
  {
   "cell_type": "code",
   "execution_count": 119,
   "id": "6784abee",
   "metadata": {},
   "outputs": [],
   "source": [
    "y[2,3] = 6.3  "
   ]
  },
  {
   "cell_type": "code",
   "execution_count": 120,
   "id": "eafad8d7",
   "metadata": {},
   "outputs": [
    {
     "data": {
      "text/plain": [
       "array([[12,  5,  0,  3],\n",
       "       [ 4,  8,  3,  5],\n",
       "       [12, 13, 29,  6]])"
      ]
     },
     "execution_count": 120,
     "metadata": {},
     "output_type": "execute_result"
    }
   ],
   "source": [
    "y"
   ]
  },
  {
   "cell_type": "code",
   "execution_count": null,
   "id": "f5a05122",
   "metadata": {},
   "outputs": [],
   "source": []
  }
 ],
 "metadata": {
  "kernelspec": {
   "display_name": "Python 3 (ipykernel)",
   "language": "python",
   "name": "python3"
  },
  "language_info": {
   "codemirror_mode": {
    "name": "ipython",
    "version": 3
   },
   "file_extension": ".py",
   "mimetype": "text/x-python",
   "name": "python",
   "nbconvert_exporter": "python",
   "pygments_lexer": "ipython3",
   "version": "3.9.7"
  }
 },
 "nbformat": 4,
 "nbformat_minor": 5
}
